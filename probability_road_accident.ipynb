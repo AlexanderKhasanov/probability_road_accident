{
 "cells": [
  {
   "cell_type": "markdown",
   "metadata": {},
   "source": [
    "# Описание задачи\n",
    "Необходимо создать систему, которая могла бы оценить риск ДТП по выбранному маршруту движения. Под риском понимается вероятность ДТП с любым повреждением транспортного средства. Как только водитель забронировал автомобиль, сел за руль и выбрал маршрут, система должна оценить уровень риска. Если уровень риска высок, водитель увидит предупреждение и рекомендации по маршруту.  \n",
    "Идея создания такой системы находится в стадии предварительного обсуждения и проработки. Чёткого алгоритма работы и подобных решений на рынке ещё не существует. Текущая задача — понять, возможно ли предсказывать ДТП, опираясь на исторические данные одного из регионов.  \n",
    "  \n",
    "<b>Идея задачи от заказчика</b>:  \n",
    "1. Создать модель предсказания ДТП (целевое значение — at_fault (виновник) в таблице parties)\n",
    "    * Для модели выбрать тип виновника — только машина (car).  \n",
    "    * Выбрать случаи, когда ДТП привело к любым повреждениям транспортного средства, кроме типа SCRATCH (царапина).  \n",
    "    * Для моделирования ограничиться данными за 2012 год — они самые свежие.  \n",
    "    * Обязательное условие — учесть фактор возраста автомобиля.\n",
    "2. На основе модели исследовать основные факторы ДТП."
   ]
  },
  {
   "cell_type": "markdown",
   "metadata": {},
   "source": [
    "# Импорты и константы"
   ]
  },
  {
   "cell_type": "code",
   "execution_count": 2,
   "metadata": {},
   "outputs": [],
   "source": [
    "from time import time\n",
    "import numpy as np\n",
    "from sqlalchemy import create_engine\n",
    "import pandas as pd\n",
    "import matplotlib.pyplot as plt\n",
    "import seaborn as sns\n",
    "from sklearn.model_selection import train_test_split, GridSearchCV\n",
    "from sklearn.preprocessing import StandardScaler, OneHotEncoder\n",
    "from sklearn.linear_model import LogisticRegression\n",
    "from sklearn.ensemble import RandomForestClassifier\n",
    "from sklearn.metrics import (fbeta_score, make_scorer, confusion_matrix,\n",
    "                             recall_score, precision_score, roc_curve,\n",
    "                             precision_recall_curve, PrecisionRecallDisplay)\n",
    "from catboost import CatBoostClassifier\n",
    "\n",
    "import warnings"
   ]
  },
  {
   "cell_type": "code",
   "execution_count": 3,
   "metadata": {},
   "outputs": [],
   "source": [
    "RANDOM_STATE = 42\n",
    "GSCV_LOG_REGRESSION_CONFIG = {\n",
    "    'C': [.1, 1, 10, 50, 100, 250, 500, 1000],\n",
    "    'solver': ['lbfgs', 'liblinear'],\n",
    "    'penalty': ['l1', 'l2', 'elasticnet'],\n",
    "}\n",
    "GSCV_RAND_FOREST_CONFIG = {\n",
    "    'max_depth': range(1, 11),\n",
    "    'n_estimators': range(1, 202, 5),\n",
    "}\n",
    "GSCV_CAT_BOOSRT_CONFIG = {\n",
    "    'learning_rate':[.1, .5, .8],\n",
    "    'max_depth': range(1, 6),\n",
    "    'n_estimators': range(50, 401, 50),\n",
    "    'min_data_in_leaf': [50, 100, 150]\n",
    "}\n",
    "IS_TRAIN = False # Проводить ли заново подбор лучших параметров моделей"
   ]
  },
  {
   "cell_type": "markdown",
   "metadata": {},
   "source": [
    "## Определение вспомогательных функций"
   ]
  },
  {
   "cell_type": "code",
   "execution_count": 4,
   "metadata": {},
   "outputs": [],
   "source": [
    "def df_info(df):\n",
    "    print('ОБЩАЯ ИНФОРМАЦИЯ')\n",
    "    print('----------------')\n",
    "    df.info()\n",
    "    print('|' + 100 * '-' + '|')\n",
    "    print()\n",
    "    \n",
    "    print('ПЕРВЫЕ 5 СТРОК ДАТАСЕТА')\n",
    "    print('-----------------------')\n",
    "    display(df.head())\n",
    "    print('|' + 100 * '-' + '|')\n",
    "    print()\n",
    "    \n",
    "    print('КОЛИЧЕСТВО ДУБЛИКАТОВ')\n",
    "    print('---------------------')\n",
    "    print(df.duplicated().sum())\n",
    "    print('|' + 100 * '-' + '|')\n",
    "    print()\n",
    "    \n",
    "    print('ПРОЦЕНТ ПРОПУЩЕННЫХ ЗНАЧЕНИЙ')\n",
    "    print('--------------------')\n",
    "    print(df.isna().sum() / df.shape[0] * 100)\n",
    "    print('|' + 100 * '-' + '|')\n",
    "    print()\n",
    "    \n",
    "    print('КАТЕГОРИАЛЬНЫЕ ПРИЗНАКИ')\n",
    "    print('-----------------------')\n",
    "    for col in df.select_dtypes(include='object').columns.to_list():\n",
    "        print(f'-- Уникальные признака {col} --')\n",
    "        print('-------------------------------')\n",
    "        print(df[col].unique())\n",
    "        print()\n",
    "    print('|' + 100 * '-' + '|')\n",
    "    print()\n",
    "      \n",
    "    print('КОЛИЧЕСТВЕННЫЕ ПРИЗНАКИ')\n",
    "    print('-----------------------')\n",
    "    numeric = df.select_dtypes(include='number').columns.to_list()\n",
    "    if numeric:\n",
    "        display(df[numeric].describe())\n",
    "        sns.heatmap(df[numeric].corr(), annot=True, fmt='.2f')\n",
    "        "
   ]
  },
  {
   "cell_type": "code",
   "execution_count": 5,
   "metadata": {},
   "outputs": [],
   "source": [
    "def create_violinplot(data, column):\n",
    "    _, ax = plt.subplots()\n",
    "    ax.xaxis.grid(True)\n",
    "    sns.violinplot(\n",
    "        data=data,\n",
    "        x=column, ax=ax\n",
    "    ).set_title(f'Распределение признака {column}')"
   ]
  },
  {
   "cell_type": "code",
   "execution_count": 6,
   "metadata": {},
   "outputs": [],
   "source": [
    "def ohe(df, encoder, columns):\n",
    "    encoder_categorical = pd.DataFrame(\n",
    "        encoder.transform(df[columns]).toarray(),\n",
    "        index=df.index,\n",
    "        columns=encoder.get_feature_names_out()\n",
    "    )\n",
    "    df = df.join(encoder_categorical)\n",
    "    df.drop(columns, inplace=True, axis=1)\n",
    "    return df"
   ]
  },
  {
   "cell_type": "code",
   "execution_count": 7,
   "metadata": {},
   "outputs": [],
   "source": [
    "def research_model(model, params, features, target, metric, cv=5):\n",
    "    gscv = GridSearchCV(\n",
    "        model, params, cv=cv,\n",
    "        scoring=metric,\n",
    "        refit=False,\n",
    "        return_train_score=True,\n",
    "        verbose=2\n",
    "    )\n",
    "    gscv.fit(features, target)\n",
    "    return pd.DataFrame(gscv.cv_results_).sort_values(\n",
    "        by='mean_test_score', ascending=False\n",
    "    )"
   ]
  },
  {
   "cell_type": "markdown",
   "metadata": {},
   "source": [
    "# Подключитесь к базе. Загрузите таблицы sql"
   ]
  },
  {
   "cell_type": "code",
   "execution_count": 8,
   "metadata": {},
   "outputs": [],
   "source": [
    "db_config = {\n",
    "    'user': 'praktikum_student', # имя пользователя,\n",
    "    'pwd': 'Sdf4$2;d-d30pp', # пароль,\n",
    "    'host': 'rc1b-wcoijxj3yxfsf3fs.mdb.yandexcloud.net',\n",
    "    'port': 6432, # порт подключения,\n",
    "    'db': 'data-science-vehicle-db' # название базы данных,\n",
    "} \n"
   ]
  },
  {
   "cell_type": "code",
   "execution_count": 9,
   "metadata": {},
   "outputs": [],
   "source": [
    "url_str = 'postgresql://{}:{}@{}:{}/{}'.format(\n",
    "    db_config['user'],\n",
    "    db_config['pwd'],\n",
    "    db_config['host'],\n",
    "    db_config['port'],\n",
    "    db_config['db'],\n",
    ")\n",
    "\n",
    "engine = create_engine(url_str)"
   ]
  },
  {
   "cell_type": "markdown",
   "metadata": {},
   "source": [
    "# Проведите первичное исследование таблиц"
   ]
  },
  {
   "cell_type": "markdown",
   "metadata": {},
   "source": [
    "Для первичного осмотка таблиц будем выгружать только первые 1000 строк, чтобы не тратить лишний трафик(вдруг он оплачивается компанией) и не забивать оперативную память таблицами, которые для решения задачи нам не понадобятся"
   ]
  },
  {
   "cell_type": "markdown",
   "metadata": {},
   "source": [
    "## Таблица collisions"
   ]
  },
  {
   "cell_type": "markdown",
   "metadata": {},
   "source": [
    "### Заявленное описание  \n",
    "Общая информация о ДТП. Имеет уникальный case_id. Эта таблица описывает общую информацию о ДТП. Например, где оно произошло и когда.\n",
    "| Описание| Обозначение в таблице| Подробнее|\n",
    "| :- | :- | :- |\n",
    "| Идентификационный Номер в базе данных| CASE_ID| Уникальный номер для зарегистрированного происшествия в таблице происшествий.|\n",
    "| Дата происшествия| COLLISION_DATE| Формат год/месяц/день|\n",
    "| Время происшествия| COLLISION_TIME| Формат: 24-часовой|\n",
    "| Является ли место происшествие перекрёстком| INTERSECTION| <ul><li>Y — Intersection (перекрёсток)</li><li>N — Not Intersection (не перекрёсток)</li><li>-- — Not stated (Не указано)</li></ul>|\n",
    "| Погода| WEATHER_1| <ul><li>A — Clear (Ясно)</li><li>B — Cloudy (Облачно)</li><li>C — Raining (Дождь)</li><li>D — Snowing (Снегопад)</li><li>E — Fog (Туман)</li><li>F — Other (Другое)</li><li>G — Wind (Ветер)</li><li>- — Not Stated (Не указано)</li></ul>|\n",
    "| Серьёзность происшествия| COLLISION_DAMAGE| <ol><li>FATAL ТС (Не подлежит восстановлению)</li><li>SEVERE DAMAGE (Серьёзный ремонт, большая часть под замену/Серьёзное повреждение капитального строения)</li><li>MIDDLE DAMAGE (Средний ремонт, машина в целом на ходу/Строение в целом устояло)</li><li>SMALL DAMAGE (Отдельный элемент кузова под замену/покраску)</li><li>SCRATCH (Царапина)</li></ol>|\n",
    "| Основной фактор аварии| PRIMARY_COLL_FACTOR| <ul><li>A — Code Violation (Нарушение правил ПДД)</li><li>B — Other Improper Driving (Другое неправильное вождение)</li><li>C — Other Than Driver (Кроме водителя)</li><li>D — Unknown (Неизвестно)</li><li>E — Fell Asleep (Заснул)</li><li>- — Not Stated (Не указано)</li></ul> |\n",
    "| Состояние дороги| ROAD_SURFACE| <ul><li>A — Dry (Сухая)</li><li>B — Wet (Мокрая)</li><li>C — Snowy or Icy (Заснеженная или обледенелая)</li><li>D — Slippery (Muddy, Oily, etc.) (Скользкая, грязная, маслянистая и т. д.)</li><li>- — Not Stated (Не указано)</li></ul> |\n",
    "| Освещение| LIGHTING| <ul><li> A — Daylight (Дневной свет)</li><li>B — Dusk-Dawn (Сумерки-Рассвет)</li><li>C — Dark-Street Lights (Темно-Уличные фонари)</li><li>D — Dark-No Street Lights (Темно-Нет уличных фонарей)</li><li>E — Dark-Street Lights Not Functioning (Темно-Уличные фонари не работают)</li><li>- — Not Stated (Не указано)</li></ul> |\n",
    "|Номер географических районов, где произошло ДТП| COUNTY_CITY_LOCATION | число|\n",
    "| Названия географических районов, где произошло ДТП| COUNTY_LOCATION | список разных названий, категориальный тип данных|\n",
    "| Направление движения на перекрёстке| DIRECTION|<ul><li> N — North (Север)</li><li>E — East (Восток)</li><li>S — South (Юг)</li><li>W — West (Запад)</li><li>- or blank — Not State (Не указано)</li></ul> |\n",
    "| Расстояние от главной дороги (метры)| DISTANCE| число |\n",
    "| Тип дороги | LOCATION_TYPE | <ul><li>H — Highway (Шоссе)</li><li>I — Intersection (Перекрёсток)</li><li>R — Ramp (or Collector) (Рампа)</li><li>- or blank — Not State Highway (Не указано)</li></ul> |\n",
    "| Количество участников| PARTY_COUNT | число |\n",
    "| Категория нарушения | PCF_VIOLATION_CATEGORY | <ol><li> Driving or Bicycling Under the Influence of Alcohol or Drug (Вождение или езда на велосипеде в состоянии алкогольного или наркотического опьянения)</li><li>Impeding Traffic (Препятствие движению транспорта)</li><li> Unsafe Speed (Превышение скорости)</li> <li> Following Too Closely (Опасное сближение)</li> <li>Wrong Side of Road (Неправильная сторона дороги)</li> <li> Improper Passing (Неправильное движение)</li> <li> Unsafe Lane Change (Небезопасная смена полосы движения)</li> <li> Improper Turning (Неправильный поворот)</li> <li> Automobile Right of Way (Автомобильное право проезда)</li> <li> Pedestrian Right of Way (Пешеходное право проезда)</li> <li> Pedestrian Violation (Нарушение пешеходами)</li> <li> Traffic Signals and Signs (Дорожные сигналы и знаки)</li> <li> Hazardous Parking (Неправильная парковка)</li> <li> Lights (Освещение)</li> <li> Brakes (Тормоза)</li> <li> Other Equipment (Другое оборудование)</li> <li> Other Hazardous Violation (Другие нарушения)</li> <li> Other Than Driver (or Pedestrian) (Кроме водителя или пешехода)</li> <li> Speeding (Скорость)</li> <li> Pedestrian dui (Нарушение пешехода)</li> <li> Unsafe Starting or Backing (Опасный старт)</li> <li> Other Improper Driving (Другое неправильное вождение)</li> <li> Pedestrian or “Other” Under the Influence of Alcohol or Drug (Пешеход или «Другой» в состоянии алкогольного или наркотического опьянения)</li> <li> Fell Asleep (Заснул)</li> <li> Unknown (Неизвестно)</li> <li>- — Not Stated (Не указано) </li></ol>|\n",
    "| Тип аварии | TYPE_OF_COLLISION|<ul><li> A — Head-On (Лоб в лоб)</li><li>B — Sideswipe (Сторона)</li><li>C — Rear End (Столкновение задней частью)</li><li>D — Broadside (Боковой удар)</li><li>E — Hit Object (Удар объекта)</li><li>F — Overturned (Опрокинутый)</li><li>G — Vehicle (транспортное средство/ Пешеход)</li><li>H — Other (Другое)</li><li>- — Not Stated (Не указано)</li></ul> |\n",
    "| Дополнительные участники ДТП | MOTOR_VEHICLE_INVOLVED_WITH | <ul><li> Other motor vehicle (Другой автомобиль)</li><li>Fixed object (Неподвижный объект)</li><li>Parked motor vehicle (Припаркованный автомобиль)</li><li>Pedestrian (Пешеход)</li><li>Parked motor vehicle (Припаркованный автомобиль)</li><li>Bicycle (Велосипедист)</li><li>Non-collision (Не столкновение)</li><li>Other object (Другой объект)</li><li>Motor vehicle on other roadway (Автомобиль на другой проезжей)</li><li>Animal (Животное)</li><li>Train (Поезд)</li></ul> |\n",
    "| Дорожное состояние | ROAD_CONDITION_1 | <ul><li> A — Holes, Deep Ruts (Ямы, глубокая колея)</li><li>B — Loose Material on Roadway (Сыпучий материал на проезжей части)</li><li>C — Obstruction on Roadway (Препятствие на проезжей части)</li><li>D — Construction or Repair Zone (Зона строительства или ремонта)</li><li>E — Reduced Roadway Width (Уменьшенная ширина проезжей части)</li><li>F — Flooded (Затоплено)</li>G — Other (Другое)<li>H — No Unusual Condition (Нет ничего необычного)</li><li>- — Not Stated (Не указано)</li></ul> |\n",
    "| Устройство управления| control_device|<ul><li> A — Functioning (Функционирует)</li><li>B — Not Functioning (Не функционирует)</li><li>C — Obscured (Затемнённый)</li><li>D — None (Нет)</li><li>- — Not Stated (Не указано)</li></ul> |"
   ]
  },
  {
   "cell_type": "markdown",
   "metadata": {},
   "source": [
    "### Полученные данные"
   ]
  },
  {
   "cell_type": "code",
   "execution_count": 10,
   "metadata": {},
   "outputs": [
    {
     "name": "stdout",
     "output_type": "stream",
     "text": [
      "ОБЩАЯ ИНФОРМАЦИЯ\n",
      "----------------\n",
      "<class 'pandas.core.frame.DataFrame'>\n",
      "Index: 1000 entries, 4083072 to 4090305\n",
      "Data columns (total 19 columns):\n",
      " #   Column                       Non-Null Count  Dtype  \n",
      "---  ------                       --------------  -----  \n",
      " 0   county_city_location         1000 non-null   object \n",
      " 1   county_location              1000 non-null   object \n",
      " 2   distance                     1000 non-null   float64\n",
      " 3   direction                    688 non-null    object \n",
      " 4   intersection                 990 non-null    float64\n",
      " 5   weather_1                    990 non-null    object \n",
      " 6   location_type                329 non-null    object \n",
      " 7   collision_damage             1000 non-null   object \n",
      " 8   party_count                  1000 non-null   int64  \n",
      " 9   primary_collision_factor     989 non-null    object \n",
      " 10  pcf_violation_category       975 non-null    object \n",
      " 11  type_of_collision            994 non-null    object \n",
      " 12  motor_vehicle_involved_with  996 non-null    object \n",
      " 13  road_surface                 989 non-null    object \n",
      " 14  road_condition_1             988 non-null    object \n",
      " 15  lighting                     994 non-null    object \n",
      " 16  control_device               995 non-null    object \n",
      " 17  collision_date               1000 non-null   object \n",
      " 18  collision_time               997 non-null    object \n",
      "dtypes: float64(2), int64(1), object(16)\n",
      "memory usage: 156.2+ KB\n",
      "|----------------------------------------------------------------------------------------------------|\n",
      "\n",
      "ПЕРВЫЕ 5 СТРОК ДАТАСЕТА\n",
      "-----------------------\n"
     ]
    },
    {
     "data": {
      "text/html": [
       "<div>\n",
       "<style scoped>\n",
       "    .dataframe tbody tr th:only-of-type {\n",
       "        vertical-align: middle;\n",
       "    }\n",
       "\n",
       "    .dataframe tbody tr th {\n",
       "        vertical-align: top;\n",
       "    }\n",
       "\n",
       "    .dataframe thead th {\n",
       "        text-align: right;\n",
       "    }\n",
       "</style>\n",
       "<table border=\"1\" class=\"dataframe\">\n",
       "  <thead>\n",
       "    <tr style=\"text-align: right;\">\n",
       "      <th></th>\n",
       "      <th>county_city_location</th>\n",
       "      <th>county_location</th>\n",
       "      <th>distance</th>\n",
       "      <th>direction</th>\n",
       "      <th>intersection</th>\n",
       "      <th>weather_1</th>\n",
       "      <th>location_type</th>\n",
       "      <th>collision_damage</th>\n",
       "      <th>party_count</th>\n",
       "      <th>primary_collision_factor</th>\n",
       "      <th>pcf_violation_category</th>\n",
       "      <th>type_of_collision</th>\n",
       "      <th>motor_vehicle_involved_with</th>\n",
       "      <th>road_surface</th>\n",
       "      <th>road_condition_1</th>\n",
       "      <th>lighting</th>\n",
       "      <th>control_device</th>\n",
       "      <th>collision_date</th>\n",
       "      <th>collision_time</th>\n",
       "    </tr>\n",
       "    <tr>\n",
       "      <th>case_id</th>\n",
       "      <th></th>\n",
       "      <th></th>\n",
       "      <th></th>\n",
       "      <th></th>\n",
       "      <th></th>\n",
       "      <th></th>\n",
       "      <th></th>\n",
       "      <th></th>\n",
       "      <th></th>\n",
       "      <th></th>\n",
       "      <th></th>\n",
       "      <th></th>\n",
       "      <th></th>\n",
       "      <th></th>\n",
       "      <th></th>\n",
       "      <th></th>\n",
       "      <th></th>\n",
       "      <th></th>\n",
       "      <th></th>\n",
       "    </tr>\n",
       "  </thead>\n",
       "  <tbody>\n",
       "    <tr>\n",
       "      <th>4083072</th>\n",
       "      <td>1942</td>\n",
       "      <td>los angeles</td>\n",
       "      <td>528.0</td>\n",
       "      <td>north</td>\n",
       "      <td>0.0</td>\n",
       "      <td>cloudy</td>\n",
       "      <td>highway</td>\n",
       "      <td>small damage</td>\n",
       "      <td>2</td>\n",
       "      <td>vehicle code violation</td>\n",
       "      <td>unsafe lane change</td>\n",
       "      <td>sideswipe</td>\n",
       "      <td>other motor vehicle</td>\n",
       "      <td>wet</td>\n",
       "      <td>normal</td>\n",
       "      <td>daylight</td>\n",
       "      <td>none</td>\n",
       "      <td>2009-01-22</td>\n",
       "      <td>07:25:00</td>\n",
       "    </tr>\n",
       "    <tr>\n",
       "      <th>4083075</th>\n",
       "      <td>4313</td>\n",
       "      <td>santa clara</td>\n",
       "      <td>0.0</td>\n",
       "      <td>None</td>\n",
       "      <td>1.0</td>\n",
       "      <td>clear</td>\n",
       "      <td>None</td>\n",
       "      <td>small damage</td>\n",
       "      <td>1</td>\n",
       "      <td>vehicle code violation</td>\n",
       "      <td>improper passing</td>\n",
       "      <td>hit object</td>\n",
       "      <td>fixed object</td>\n",
       "      <td>dry</td>\n",
       "      <td>normal</td>\n",
       "      <td>dark with street lights</td>\n",
       "      <td>functioning</td>\n",
       "      <td>2009-01-03</td>\n",
       "      <td>02:26:00</td>\n",
       "    </tr>\n",
       "    <tr>\n",
       "      <th>4083073</th>\n",
       "      <td>0109</td>\n",
       "      <td>alameda</td>\n",
       "      <td>0.0</td>\n",
       "      <td>None</td>\n",
       "      <td>1.0</td>\n",
       "      <td>clear</td>\n",
       "      <td>None</td>\n",
       "      <td>scratch</td>\n",
       "      <td>2</td>\n",
       "      <td>vehicle code violation</td>\n",
       "      <td>improper turning</td>\n",
       "      <td>broadside</td>\n",
       "      <td>other motor vehicle</td>\n",
       "      <td>dry</td>\n",
       "      <td>normal</td>\n",
       "      <td>dark with street lights</td>\n",
       "      <td>functioning</td>\n",
       "      <td>2009-01-11</td>\n",
       "      <td>03:32:00</td>\n",
       "    </tr>\n",
       "    <tr>\n",
       "      <th>4083077</th>\n",
       "      <td>0109</td>\n",
       "      <td>alameda</td>\n",
       "      <td>0.0</td>\n",
       "      <td>None</td>\n",
       "      <td>1.0</td>\n",
       "      <td>clear</td>\n",
       "      <td>None</td>\n",
       "      <td>scratch</td>\n",
       "      <td>2</td>\n",
       "      <td>vehicle code violation</td>\n",
       "      <td>automobile right of way</td>\n",
       "      <td>broadside</td>\n",
       "      <td>other motor vehicle</td>\n",
       "      <td>dry</td>\n",
       "      <td>normal</td>\n",
       "      <td>daylight</td>\n",
       "      <td>functioning</td>\n",
       "      <td>2009-01-11</td>\n",
       "      <td>10:35:00</td>\n",
       "    </tr>\n",
       "    <tr>\n",
       "      <th>4083087</th>\n",
       "      <td>4313</td>\n",
       "      <td>santa clara</td>\n",
       "      <td>0.0</td>\n",
       "      <td>None</td>\n",
       "      <td>1.0</td>\n",
       "      <td>clear</td>\n",
       "      <td>None</td>\n",
       "      <td>scratch</td>\n",
       "      <td>2</td>\n",
       "      <td>vehicle code violation</td>\n",
       "      <td>speeding</td>\n",
       "      <td>rear end</td>\n",
       "      <td>other motor vehicle</td>\n",
       "      <td>dry</td>\n",
       "      <td>None</td>\n",
       "      <td>dark with street lights</td>\n",
       "      <td>functioning</td>\n",
       "      <td>2009-01-02</td>\n",
       "      <td>22:43:00</td>\n",
       "    </tr>\n",
       "  </tbody>\n",
       "</table>\n",
       "</div>"
      ],
      "text/plain": [
       "        county_city_location county_location  distance direction  \\\n",
       "case_id                                                            \n",
       "4083072                 1942     los angeles     528.0     north   \n",
       "4083075                 4313     santa clara       0.0      None   \n",
       "4083073                 0109         alameda       0.0      None   \n",
       "4083077                 0109         alameda       0.0      None   \n",
       "4083087                 4313     santa clara       0.0      None   \n",
       "\n",
       "         intersection weather_1 location_type collision_damage  party_count  \\\n",
       "case_id                                                                       \n",
       "4083072           0.0    cloudy       highway     small damage            2   \n",
       "4083075           1.0     clear          None     small damage            1   \n",
       "4083073           1.0     clear          None          scratch            2   \n",
       "4083077           1.0     clear          None          scratch            2   \n",
       "4083087           1.0     clear          None          scratch            2   \n",
       "\n",
       "        primary_collision_factor   pcf_violation_category type_of_collision  \\\n",
       "case_id                                                                       \n",
       "4083072   vehicle code violation       unsafe lane change         sideswipe   \n",
       "4083075   vehicle code violation         improper passing        hit object   \n",
       "4083073   vehicle code violation         improper turning         broadside   \n",
       "4083077   vehicle code violation  automobile right of way         broadside   \n",
       "4083087   vehicle code violation                 speeding          rear end   \n",
       "\n",
       "        motor_vehicle_involved_with road_surface road_condition_1  \\\n",
       "case_id                                                             \n",
       "4083072         other motor vehicle          wet           normal   \n",
       "4083075                fixed object          dry           normal   \n",
       "4083073         other motor vehicle          dry           normal   \n",
       "4083077         other motor vehicle          dry           normal   \n",
       "4083087         other motor vehicle          dry             None   \n",
       "\n",
       "                        lighting control_device collision_date collision_time  \n",
       "case_id                                                                        \n",
       "4083072                 daylight           none     2009-01-22       07:25:00  \n",
       "4083075  dark with street lights    functioning     2009-01-03       02:26:00  \n",
       "4083073  dark with street lights    functioning     2009-01-11       03:32:00  \n",
       "4083077                 daylight    functioning     2009-01-11       10:35:00  \n",
       "4083087  dark with street lights    functioning     2009-01-02       22:43:00  "
      ]
     },
     "metadata": {},
     "output_type": "display_data"
    },
    {
     "name": "stdout",
     "output_type": "stream",
     "text": [
      "|----------------------------------------------------------------------------------------------------|\n",
      "\n",
      "КОЛИЧЕСТВО ДУБЛИКАТОВ\n",
      "---------------------\n",
      "0\n",
      "|----------------------------------------------------------------------------------------------------|\n",
      "\n",
      "ПРОЦЕНТ ПРОПУЩЕННЫХ ЗНАЧЕНИЙ\n",
      "--------------------\n",
      "county_city_location            0.0\n",
      "county_location                 0.0\n",
      "distance                        0.0\n",
      "direction                      31.2\n",
      "intersection                    1.0\n",
      "weather_1                       1.0\n",
      "location_type                  67.1\n",
      "collision_damage                0.0\n",
      "party_count                     0.0\n",
      "primary_collision_factor        1.1\n",
      "pcf_violation_category          2.5\n",
      "type_of_collision               0.6\n",
      "motor_vehicle_involved_with     0.4\n",
      "road_surface                    1.1\n",
      "road_condition_1                1.2\n",
      "lighting                        0.6\n",
      "control_device                  0.5\n",
      "collision_date                  0.0\n",
      "collision_time                  0.3\n",
      "dtype: float64\n",
      "|----------------------------------------------------------------------------------------------------|\n",
      "\n",
      "КАТЕГОРИАЛЬНЫЕ ПРИЗНАКИ\n",
      "-----------------------\n",
      "-- Уникальные признака county_city_location --\n",
      "-------------------------------\n",
      "['1942' '4313' '0109' '1950' '3004' '1500' '3307' '1975' '3300' '3315'\n",
      " '5690' '3305' '1971' '3009' '1959' '3012' '1985' '4807' '3801' '3903'\n",
      " '1000' '3003' '0112' '3000' '5000' '0105' '3028' '5007' '3017' '4005'\n",
      " '4006' '3104' '3313' '5607' '5600' '0100' '5601' '3609' '1900' '1989'\n",
      " '3702' '1908' '4200' '1300' '4116' '3001' '0707' '4304' '1925' '0901'\n",
      " '1953' '0300' '4806' '3404' '0101' '4311' '5407' '4109' '4300' '0900'\n",
      " '5704' '4900' '4905' '4111' '4904' '2406' '4100' '4305' '3013' '3024'\n",
      " '3020' '3007' '2300' '4203' '1923' '2900' '2802' '2109' '3106' '3100'\n",
      " '5200' '3401' '1941' '3616' '5002' '4306' '4114' '3021' '3008' '3026'\n",
      " '3630' '0710' '0701' '3341' '0712' '0706' '3312' '0700' '4008' '3607'\n",
      " '4102' '1990' '5500' '1700' '1977' '0709' '1949' '3602' '1901' '1969'\n",
      " '1976' '4803' '3010' '4801' '3711' '4802' '1992' '3450' '1005' '1922'\n",
      " '2000' '3029' '4000' '5102' '1600' '2102' '2106' '2100' '1501' '3700'\n",
      " '1400' '1955' '1200' '3604' '1964' '1943' '3605' '5608' '3621' '3342'\n",
      " '2200' '3618' '3612' '3709' '3708' '0704' '5602' '5001' '3906' '5700'\n",
      " '0106' '3011' '3018' '0714' '4805' '0708' '0705' '0113' '3022' '3905'\n",
      " '5100' '1902' '4214' '5609' '3710' '5604' '1912' '3496' '0400' '3105'\n",
      " '2708' '1101' '0405' '3014' '0702' '3600' '5004' '3500' '4314' '3050'\n",
      " '0800' '0801' '4117' '2908' '4312' '3705' '3045' '3048' '3335' '3343'\n",
      " '3308' '0111' '5202' '0790' '0108' '3603' '3610' '3608' '4308' '3400'\n",
      " '4206']\n",
      "\n",
      "-- Уникальные признака county_location --\n",
      "-------------------------------\n",
      "['los angeles' 'santa clara' 'alameda' 'orange' 'kern' 'riverside'\n",
      " 'ventura' 'solano' 'san francisco' 'san joaquin' 'fresno' 'stanislaus'\n",
      " 'san luis obispo' 'placer' 'san bernardino' 'san diego' 'santa barbara'\n",
      " 'imperial' 'san mateo' 'contra costa' 'el dorado' 'amador' 'sacramento'\n",
      " 'tulare' 'yolo' 'sonoma' 'merced' 'mendocino' 'nevada' 'napa' 'marin'\n",
      " 'tehama' 'tuolumne' 'lake' 'madera' 'sutter' 'kings' 'inyo' 'humboldt'\n",
      " 'mariposa' 'butte' 'monterey' 'glenn' 'san benito' 'del norte']\n",
      "\n",
      "-- Уникальные признака direction --\n",
      "-------------------------------\n",
      "['north' None 'south' 'west' 'east']\n",
      "\n",
      "-- Уникальные признака weather_1 --\n",
      "-------------------------------\n",
      "['cloudy' 'clear' 'raining' None 'fog' 'snowing' 'other' 'wind']\n",
      "\n",
      "-- Уникальные признака location_type --\n",
      "-------------------------------\n",
      "['highway' None 'ramp' 'intersection']\n",
      "\n",
      "-- Уникальные признака collision_damage --\n",
      "-------------------------------\n",
      "['small damage' 'scratch' 'severe damage' 'middle damage' 'fatal']\n",
      "\n",
      "-- Уникальные признака primary_collision_factor --\n",
      "-------------------------------\n",
      "['vehicle code violation' None 'unknown' 'other improper driving'\n",
      " 'other than driver' 'fell asleep']\n",
      "\n",
      "-- Уникальные признака pcf_violation_category --\n",
      "-------------------------------\n",
      "['unsafe lane change' 'improper passing' 'improper turning'\n",
      " 'automobile right of way' 'speeding' None 'dui'\n",
      " 'traffic signals and signs' 'wrong side of road' 'unknown'\n",
      " 'following too closely' 'other hazardous violation'\n",
      " 'unsafe starting or backing' 'other improper driving'\n",
      " 'pedestrian right of way' 'hazardous parking'\n",
      " 'other than driver (or pedestrian)' 'fell asleep' 'pedestrian violation'\n",
      " 'other equipment']\n",
      "\n",
      "-- Уникальные признака type_of_collision --\n",
      "-------------------------------\n",
      "['sideswipe' 'hit object' 'broadside' 'rear end' None 'overturned'\n",
      " 'head-on' 'other']\n",
      "\n",
      "-- Уникальные признака motor_vehicle_involved_with --\n",
      "-------------------------------\n",
      "['other motor vehicle' 'fixed object' None 'non-collision'\n",
      " 'parked motor vehicle' 'bicycle' 'motor vehicle on other roadway'\n",
      " 'other object' 'train' 'animal']\n",
      "\n",
      "-- Уникальные признака road_surface --\n",
      "-------------------------------\n",
      "['wet' 'dry' None 'slippery' 'snowy']\n",
      "\n",
      "-- Уникальные признака road_condition_1 --\n",
      "-------------------------------\n",
      "['normal' None 'construction' 'other' 'obstruction' 'holes'\n",
      " 'loose material']\n",
      "\n",
      "-- Уникальные признака lighting --\n",
      "-------------------------------\n",
      "['daylight' 'dark with street lights' 'dusk or dawn' None\n",
      " 'dark with no street lights' 'dark with street lights not functioning']\n",
      "\n",
      "-- Уникальные признака control_device --\n",
      "-------------------------------\n",
      "['none' 'functioning' None 'not functioning']\n",
      "\n",
      "-- Уникальные признака collision_date --\n",
      "-------------------------------\n",
      "[datetime.date(2009, 1, 22) datetime.date(2009, 1, 3)\n",
      " datetime.date(2009, 1, 11) datetime.date(2009, 1, 2)\n",
      " datetime.date(2009, 1, 18) datetime.date(2009, 1, 21)\n",
      " datetime.date(2009, 1, 9) datetime.date(2009, 1, 12)\n",
      " datetime.date(2009, 1, 23) datetime.date(2009, 1, 1)\n",
      " datetime.date(2009, 1, 7) datetime.date(2009, 1, 28)\n",
      " datetime.date(2009, 1, 4) datetime.date(2009, 1, 19)\n",
      " datetime.date(2009, 1, 10) datetime.date(2009, 1, 6)\n",
      " datetime.date(2009, 1, 26) datetime.date(2009, 1, 24)\n",
      " datetime.date(2009, 1, 15) datetime.date(2009, 1, 13)\n",
      " datetime.date(2009, 1, 25) datetime.date(2009, 1, 8)\n",
      " datetime.date(2009, 1, 5) datetime.date(2009, 1, 16)\n",
      " datetime.date(2009, 1, 20) datetime.date(2009, 1, 17)\n",
      " datetime.date(2009, 1, 30) datetime.date(2009, 1, 29)\n",
      " datetime.date(2009, 1, 27) datetime.date(2009, 1, 31)\n",
      " datetime.date(2009, 1, 14) datetime.date(2009, 3, 16)\n",
      " datetime.date(2009, 7, 12) datetime.date(2009, 11, 16)\n",
      " datetime.date(2009, 2, 1) datetime.date(2009, 3, 17)\n",
      " datetime.date(2009, 3, 11) datetime.date(2009, 3, 3)\n",
      " datetime.date(2009, 3, 1) datetime.date(2009, 2, 27)\n",
      " datetime.date(2009, 3, 13) datetime.date(2009, 3, 15)\n",
      " datetime.date(2009, 2, 20) datetime.date(2009, 2, 25)\n",
      " datetime.date(2009, 3, 8) datetime.date(2009, 3, 7)\n",
      " datetime.date(2009, 3, 6) datetime.date(2009, 3, 9)\n",
      " datetime.date(2009, 2, 2) datetime.date(2009, 2, 5)\n",
      " datetime.date(2009, 3, 18) datetime.date(2009, 2, 11)\n",
      " datetime.date(2009, 3, 14) datetime.date(2009, 2, 18)\n",
      " datetime.date(2009, 2, 19) datetime.date(2009, 2, 24)\n",
      " datetime.date(2009, 3, 20) datetime.date(2009, 3, 21)\n",
      " datetime.date(2009, 3, 22) datetime.date(2009, 3, 12)\n",
      " datetime.date(2009, 3, 10) datetime.date(2009, 3, 19)\n",
      " datetime.date(2009, 3, 4) datetime.date(2009, 3, 5)\n",
      " datetime.date(2009, 3, 2) datetime.date(2009, 2, 16)\n",
      " datetime.date(2009, 2, 23) datetime.date(2009, 2, 10)\n",
      " datetime.date(2009, 2, 12) datetime.date(2009, 2, 22)\n",
      " datetime.date(2009, 2, 6) datetime.date(2009, 2, 14)\n",
      " datetime.date(2009, 2, 17) datetime.date(2009, 2, 28)\n",
      " datetime.date(2009, 2, 26) datetime.date(2009, 2, 13)\n",
      " datetime.date(2009, 2, 8)]\n",
      "\n",
      "-- Уникальные признака collision_time --\n",
      "-------------------------------\n",
      "[datetime.time(7, 25) datetime.time(2, 26) datetime.time(3, 32)\n",
      " datetime.time(10, 35) datetime.time(22, 43) datetime.time(2, 18)\n",
      " datetime.time(10, 30) datetime.time(8, 55) datetime.time(16, 20)\n",
      " datetime.time(15, 55) datetime.time(16, 3) datetime.time(11, 19)\n",
      " datetime.time(8, 0) datetime.time(3, 26) datetime.time(12, 40)\n",
      " datetime.time(12, 50) datetime.time(18, 25) datetime.time(15, 30)\n",
      " datetime.time(8, 8) datetime.time(19, 20) datetime.time(12, 37)\n",
      " datetime.time(14, 44) datetime.time(11, 35) datetime.time(17, 35)\n",
      " datetime.time(10, 25) datetime.time(12, 28) datetime.time(14, 20)\n",
      " datetime.time(0, 10) datetime.time(19, 33) datetime.time(3, 0)\n",
      " datetime.time(19, 0) datetime.time(8, 35) datetime.time(13, 35)\n",
      " datetime.time(12, 45) datetime.time(22, 13) datetime.time(17, 58)\n",
      " datetime.time(19, 50) datetime.time(20, 0) datetime.time(14, 30)\n",
      " datetime.time(13, 25) datetime.time(19, 10) datetime.time(22, 30)\n",
      " datetime.time(13, 15) datetime.time(17, 6) datetime.time(16, 42)\n",
      " datetime.time(8, 21) datetime.time(11, 20) datetime.time(5, 0)\n",
      " datetime.time(15, 49) datetime.time(8, 40) datetime.time(10, 54)\n",
      " datetime.time(14, 40) datetime.time(11, 30) datetime.time(11, 52)\n",
      " datetime.time(23, 31) datetime.time(10, 48) datetime.time(8, 45)\n",
      " datetime.time(15, 35) datetime.time(17, 10) datetime.time(1, 53)\n",
      " datetime.time(13, 20) datetime.time(20, 52) datetime.time(7, 39)\n",
      " datetime.time(18, 11) datetime.time(15, 10) datetime.time(14, 0)\n",
      " datetime.time(12, 18) datetime.time(15, 57) datetime.time(19, 55)\n",
      " datetime.time(6, 40) datetime.time(11, 44) datetime.time(3, 5)\n",
      " datetime.time(9, 5) datetime.time(17, 41) datetime.time(17, 50)\n",
      " datetime.time(16, 30) datetime.time(9, 0) datetime.time(7, 45)\n",
      " datetime.time(7, 8) datetime.time(6, 54) datetime.time(10, 40)\n",
      " datetime.time(17, 21) datetime.time(14, 45) datetime.time(16, 23)\n",
      " datetime.time(11, 5) datetime.time(17, 30) datetime.time(14, 50)\n",
      " datetime.time(15, 45) datetime.time(8, 10) datetime.time(6, 5)\n",
      " datetime.time(9, 30) datetime.time(17, 55) datetime.time(18, 1)\n",
      " datetime.time(12, 12) datetime.time(12, 4) datetime.time(18, 48)\n",
      " datetime.time(8, 20) datetime.time(15, 0) datetime.time(3, 9)\n",
      " datetime.time(1, 38) datetime.time(7, 59) datetime.time(12, 15)\n",
      " datetime.time(16, 50) datetime.time(0, 15) datetime.time(15, 50)\n",
      " datetime.time(18, 30) datetime.time(9, 16) datetime.time(5, 50)\n",
      " datetime.time(22, 45) datetime.time(18, 5) datetime.time(2, 22)\n",
      " datetime.time(20, 42) datetime.time(9, 58) datetime.time(18, 0)\n",
      " datetime.time(19, 30) datetime.time(22, 5) datetime.time(17, 20)\n",
      " datetime.time(12, 3) datetime.time(8, 5) datetime.time(16, 25)\n",
      " datetime.time(8, 30) datetime.time(7, 15) datetime.time(16, 0)\n",
      " datetime.time(9, 20) datetime.time(21, 0) datetime.time(3, 42)\n",
      " datetime.time(7, 40) datetime.time(8, 15) datetime.time(16, 22)\n",
      " datetime.time(14, 36) datetime.time(11, 38) datetime.time(15, 47)\n",
      " datetime.time(16, 45) datetime.time(17, 27) datetime.time(21, 45)\n",
      " datetime.time(16, 10) datetime.time(9, 15) datetime.time(20, 20)\n",
      " datetime.time(16, 5) datetime.time(11, 40) datetime.time(10, 5)\n",
      " datetime.time(15, 41) None datetime.time(17, 15) datetime.time(16, 33)\n",
      " datetime.time(16, 24) datetime.time(15, 7) datetime.time(11, 25)\n",
      " datetime.time(8, 47) datetime.time(16, 13) datetime.time(18, 15)\n",
      " datetime.time(11, 45) datetime.time(10, 26) datetime.time(17, 33)\n",
      " datetime.time(10, 15) datetime.time(11, 15) datetime.time(0, 11)\n",
      " datetime.time(12, 25) datetime.time(15, 20) datetime.time(15, 5)\n",
      " datetime.time(19, 57) datetime.time(10, 0) datetime.time(18, 50)\n",
      " datetime.time(8, 25) datetime.time(15, 11) datetime.time(9, 49)\n",
      " datetime.time(8, 27) datetime.time(20, 15) datetime.time(7, 52)\n",
      " datetime.time(18, 20) datetime.time(9, 10) datetime.time(11, 10)\n",
      " datetime.time(8, 54) datetime.time(13, 42) datetime.time(15, 16)\n",
      " datetime.time(15, 58) datetime.time(19, 36) datetime.time(15, 40)\n",
      " datetime.time(1, 40) datetime.time(18, 23) datetime.time(7, 5)\n",
      " datetime.time(5, 40) datetime.time(18, 36) datetime.time(14, 55)\n",
      " datetime.time(13, 40) datetime.time(18, 24) datetime.time(20, 10)\n",
      " datetime.time(13, 30) datetime.time(16, 47) datetime.time(19, 16)\n",
      " datetime.time(13, 58) datetime.time(6, 18) datetime.time(18, 31)\n",
      " datetime.time(15, 18) datetime.time(23, 35) datetime.time(13, 36)\n",
      " datetime.time(20, 55) datetime.time(12, 2) datetime.time(13, 5)\n",
      " datetime.time(19, 14) datetime.time(14, 15) datetime.time(22, 10)\n",
      " datetime.time(7, 49) datetime.time(17, 45) datetime.time(1, 15)\n",
      " datetime.time(13, 49) datetime.time(10, 32) datetime.time(13, 12)\n",
      " datetime.time(19, 15) datetime.time(12, 31) datetime.time(14, 49)\n",
      " datetime.time(9, 9) datetime.time(12, 1) datetime.time(11, 57)\n",
      " datetime.time(18, 53) datetime.time(16, 19) datetime.time(7, 10)\n",
      " datetime.time(18, 55) datetime.time(17, 34) datetime.time(17, 51)\n",
      " datetime.time(18, 45) datetime.time(13, 2) datetime.time(13, 51)\n",
      " datetime.time(6, 12) datetime.time(0, 1) datetime.time(15, 44)\n",
      " datetime.time(15, 54) datetime.time(2, 25) datetime.time(10, 42)\n",
      " datetime.time(21, 20) datetime.time(11, 11) datetime.time(10, 36)\n",
      " datetime.time(14, 14) datetime.time(18, 37) datetime.time(13, 13)\n",
      " datetime.time(12, 10) datetime.time(12, 30) datetime.time(1, 13)\n",
      " datetime.time(16, 49) datetime.time(15, 48) datetime.time(22, 46)\n",
      " datetime.time(13, 0) datetime.time(0, 34) datetime.time(18, 41)\n",
      " datetime.time(14, 3) datetime.time(13, 45) datetime.time(7, 50)\n",
      " datetime.time(14, 16) datetime.time(1, 0) datetime.time(9, 8)\n",
      " datetime.time(13, 59) datetime.time(21, 6) datetime.time(15, 2)\n",
      " datetime.time(13, 17) datetime.time(19, 8) datetime.time(1, 25)\n",
      " datetime.time(9, 50) datetime.time(10, 56) datetime.time(12, 35)\n",
      " datetime.time(9, 51) datetime.time(0, 55) datetime.time(5, 15)\n",
      " datetime.time(16, 2) datetime.time(17, 13) datetime.time(12, 21)\n",
      " datetime.time(0, 20) datetime.time(8, 4) datetime.time(1, 30)\n",
      " datetime.time(16, 15) datetime.time(19, 40) datetime.time(5, 45)\n",
      " datetime.time(19, 45) datetime.time(15, 12) datetime.time(14, 5)\n",
      " datetime.time(18, 14) datetime.time(22, 47) datetime.time(20, 45)\n",
      " datetime.time(9, 45) datetime.time(5, 48) datetime.time(18, 27)\n",
      " datetime.time(22, 15) datetime.time(9, 19) datetime.time(19, 12)\n",
      " datetime.time(7, 30) datetime.time(8, 46) datetime.time(12, 16)\n",
      " datetime.time(18, 12) datetime.time(18, 16) datetime.time(0, 30)\n",
      " datetime.time(9, 44) datetime.time(23, 0) datetime.time(20, 37)\n",
      " datetime.time(13, 50) datetime.time(12, 19) datetime.time(12, 51)\n",
      " datetime.time(6, 3) datetime.time(19, 35) datetime.time(19, 28)\n",
      " datetime.time(21, 47) datetime.time(8, 12) datetime.time(9, 55)\n",
      " datetime.time(20, 59) datetime.time(1, 49) datetime.time(11, 43)\n",
      " datetime.time(10, 45) datetime.time(10, 58) datetime.time(10, 12)\n",
      " datetime.time(9, 47) datetime.time(10, 59) datetime.time(7, 55)\n",
      " datetime.time(17, 56) datetime.time(23, 59) datetime.time(16, 53)\n",
      " datetime.time(21, 32) datetime.time(23, 55) datetime.time(7, 47)\n",
      " datetime.time(6, 11) datetime.time(5, 35) datetime.time(21, 4)\n",
      " datetime.time(17, 0) datetime.time(12, 43) datetime.time(18, 40)\n",
      " datetime.time(17, 16) datetime.time(17, 40) datetime.time(2, 40)\n",
      " datetime.time(4, 27) datetime.time(16, 48) datetime.time(0, 33)\n",
      " datetime.time(14, 52) datetime.time(23, 9) datetime.time(21, 56)\n",
      " datetime.time(0, 28) datetime.time(19, 25) datetime.time(15, 52)\n",
      " datetime.time(19, 44) datetime.time(10, 52) datetime.time(17, 5)\n",
      " datetime.time(12, 17) datetime.time(14, 35) datetime.time(12, 55)\n",
      " datetime.time(13, 56) datetime.time(14, 42) datetime.time(12, 48)\n",
      " datetime.time(17, 25) datetime.time(17, 14) datetime.time(8, 29)\n",
      " datetime.time(8, 57) datetime.time(5, 14) datetime.time(15, 37)\n",
      " datetime.time(22, 40) datetime.time(14, 8) datetime.time(23, 45)\n",
      " datetime.time(2, 46) datetime.time(18, 4) datetime.time(21, 25)\n",
      " datetime.time(23, 28) datetime.time(19, 5) datetime.time(7, 20)\n",
      " datetime.time(2, 50) datetime.time(7, 48) datetime.time(19, 52)\n",
      " datetime.time(14, 33) datetime.time(2, 30) datetime.time(0, 25)\n",
      " datetime.time(10, 55) datetime.time(6, 50) datetime.time(15, 3)\n",
      " datetime.time(1, 20) datetime.time(12, 20) datetime.time(18, 35)\n",
      " datetime.time(9, 33) datetime.time(12, 56) datetime.time(15, 34)\n",
      " datetime.time(21, 54) datetime.time(4, 36) datetime.time(10, 22)\n",
      " datetime.time(16, 26) datetime.time(21, 11) datetime.time(11, 28)\n",
      " datetime.time(16, 38) datetime.time(12, 5) datetime.time(22, 57)\n",
      " datetime.time(20, 30) datetime.time(16, 44) datetime.time(6, 20)\n",
      " datetime.time(18, 21) datetime.time(9, 22) datetime.time(17, 47)\n",
      " datetime.time(7, 53) datetime.time(15, 51) datetime.time(21, 23)\n",
      " datetime.time(14, 47) datetime.time(20, 26) datetime.time(13, 29)\n",
      " datetime.time(16, 8) datetime.time(12, 57) datetime.time(21, 8)\n",
      " datetime.time(15, 8) datetime.time(18, 7) datetime.time(21, 19)\n",
      " datetime.time(14, 56) datetime.time(16, 29) datetime.time(5, 49)\n",
      " datetime.time(18, 38) datetime.time(21, 40) datetime.time(20, 16)\n",
      " datetime.time(16, 58) datetime.time(16, 43) datetime.time(9, 34)\n",
      " datetime.time(13, 57) datetime.time(8, 24) datetime.time(21, 52)\n",
      " datetime.time(18, 6) datetime.time(20, 4) datetime.time(7, 41)\n",
      " datetime.time(14, 6) datetime.time(14, 11) datetime.time(15, 26)\n",
      " datetime.time(16, 32) datetime.time(14, 2) datetime.time(6, 6)\n",
      " datetime.time(19, 11) datetime.time(16, 52) datetime.time(15, 15)\n",
      " datetime.time(7, 23) datetime.time(9, 28) datetime.time(17, 53)\n",
      " datetime.time(14, 53) datetime.time(19, 19) datetime.time(5, 30)\n",
      " datetime.time(10, 20) datetime.time(20, 5) datetime.time(14, 10)\n",
      " datetime.time(13, 39) datetime.time(15, 13) datetime.time(18, 10)\n",
      " datetime.time(21, 10) datetime.time(16, 54) datetime.time(14, 4)\n",
      " datetime.time(16, 40) datetime.time(0, 29) datetime.time(13, 8)\n",
      " datetime.time(11, 0) datetime.time(15, 24) datetime.time(18, 56)\n",
      " datetime.time(15, 25) datetime.time(18, 8) datetime.time(22, 7)\n",
      " datetime.time(19, 54) datetime.time(17, 52) datetime.time(9, 2)\n",
      " datetime.time(4, 30) datetime.time(6, 45) datetime.time(2, 45)\n",
      " datetime.time(20, 46) datetime.time(11, 50) datetime.time(13, 37)\n",
      " datetime.time(16, 12) datetime.time(19, 1) datetime.time(8, 23)\n",
      " datetime.time(22, 9) datetime.time(9, 46) datetime.time(1, 21)\n",
      " datetime.time(17, 22) datetime.time(19, 34) datetime.time(18, 32)\n",
      " datetime.time(1, 34) datetime.time(21, 34) datetime.time(1, 11)\n",
      " datetime.time(15, 9) datetime.time(2, 23) datetime.time(18, 13)\n",
      " datetime.time(14, 37) datetime.time(14, 48) datetime.time(9, 1)\n",
      " datetime.time(10, 11) datetime.time(7, 11) datetime.time(17, 18)\n",
      " datetime.time(21, 5) datetime.time(9, 14) datetime.time(14, 28)\n",
      " datetime.time(19, 51) datetime.time(17, 2) datetime.time(11, 29)\n",
      " datetime.time(13, 47) datetime.time(21, 58) datetime.time(2, 6)\n",
      " datetime.time(11, 26) datetime.time(10, 24) datetime.time(9, 35)\n",
      " datetime.time(21, 15) datetime.time(15, 6) datetime.time(7, 36)\n",
      " datetime.time(7, 29) datetime.time(13, 10) datetime.time(4, 15)\n",
      " datetime.time(20, 39) datetime.time(9, 40) datetime.time(11, 54)\n",
      " datetime.time(17, 9) datetime.time(2, 7) datetime.time(11, 13)\n",
      " datetime.time(13, 28) datetime.time(1, 45) datetime.time(19, 49)\n",
      " datetime.time(15, 17) datetime.time(7, 28) datetime.time(6, 58)\n",
      " datetime.time(8, 52) datetime.time(16, 31) datetime.time(9, 31)\n",
      " datetime.time(0, 45) datetime.time(2, 19) datetime.time(12, 11)\n",
      " datetime.time(21, 2) datetime.time(20, 58) datetime.time(17, 11)\n",
      " datetime.time(10, 44) datetime.time(12, 29) datetime.time(5, 10)\n",
      " datetime.time(6, 0) datetime.time(17, 4) datetime.time(11, 39)\n",
      " datetime.time(9, 13) datetime.time(5, 55) datetime.time(17, 8)\n",
      " datetime.time(19, 31) datetime.time(11, 3)]\n",
      "\n",
      "|----------------------------------------------------------------------------------------------------|\n",
      "\n",
      "КОЛИЧЕСТВЕННЫЕ ПРИЗНАКИ\n",
      "-----------------------\n"
     ]
    },
    {
     "data": {
      "text/html": [
       "<div>\n",
       "<style scoped>\n",
       "    .dataframe tbody tr th:only-of-type {\n",
       "        vertical-align: middle;\n",
       "    }\n",
       "\n",
       "    .dataframe tbody tr th {\n",
       "        vertical-align: top;\n",
       "    }\n",
       "\n",
       "    .dataframe thead th {\n",
       "        text-align: right;\n",
       "    }\n",
       "</style>\n",
       "<table border=\"1\" class=\"dataframe\">\n",
       "  <thead>\n",
       "    <tr style=\"text-align: right;\">\n",
       "      <th></th>\n",
       "      <th>distance</th>\n",
       "      <th>intersection</th>\n",
       "      <th>party_count</th>\n",
       "    </tr>\n",
       "  </thead>\n",
       "  <tbody>\n",
       "    <tr>\n",
       "      <th>count</th>\n",
       "      <td>1000.000000</td>\n",
       "      <td>990.000000</td>\n",
       "      <td>1000.000000</td>\n",
       "    </tr>\n",
       "    <tr>\n",
       "      <th>mean</th>\n",
       "      <td>406.124000</td>\n",
       "      <td>0.300000</td>\n",
       "      <td>2.077000</td>\n",
       "    </tr>\n",
       "    <tr>\n",
       "      <th>std</th>\n",
       "      <td>1236.622258</td>\n",
       "      <td>0.458489</td>\n",
       "      <td>0.682302</td>\n",
       "    </tr>\n",
       "    <tr>\n",
       "      <th>min</th>\n",
       "      <td>0.000000</td>\n",
       "      <td>0.000000</td>\n",
       "      <td>1.000000</td>\n",
       "    </tr>\n",
       "    <tr>\n",
       "      <th>25%</th>\n",
       "      <td>0.000000</td>\n",
       "      <td>0.000000</td>\n",
       "      <td>2.000000</td>\n",
       "    </tr>\n",
       "    <tr>\n",
       "      <th>50%</th>\n",
       "      <td>60.000000</td>\n",
       "      <td>0.000000</td>\n",
       "      <td>2.000000</td>\n",
       "    </tr>\n",
       "    <tr>\n",
       "      <th>75%</th>\n",
       "      <td>300.000000</td>\n",
       "      <td>1.000000</td>\n",
       "      <td>2.000000</td>\n",
       "    </tr>\n",
       "    <tr>\n",
       "      <th>max</th>\n",
       "      <td>21120.000000</td>\n",
       "      <td>1.000000</td>\n",
       "      <td>8.000000</td>\n",
       "    </tr>\n",
       "  </tbody>\n",
       "</table>\n",
       "</div>"
      ],
      "text/plain": [
       "           distance  intersection  party_count\n",
       "count   1000.000000    990.000000  1000.000000\n",
       "mean     406.124000      0.300000     2.077000\n",
       "std     1236.622258      0.458489     0.682302\n",
       "min        0.000000      0.000000     1.000000\n",
       "25%        0.000000      0.000000     2.000000\n",
       "50%       60.000000      0.000000     2.000000\n",
       "75%      300.000000      1.000000     2.000000\n",
       "max    21120.000000      1.000000     8.000000"
      ]
     },
     "metadata": {},
     "output_type": "display_data"
    },
    {
     "data": {
      "image/png": "[encoded data removed]",
      "text/plain": [
       "<Figure size 640x480 with 2 Axes>"
      ]
     },
     "metadata": {},
     "output_type": "display_data"
    }
   ],
   "source": [
    "collisions = '''\n",
    "SELECT *\n",
    "FROM collisions\n",
    "LIMIT 1000\n",
    "'''\n",
    "\n",
    "df_info(pd.read_sql_query(collisions, engine, index_col='case_id'))"
   ]
  },
  {
   "cell_type": "markdown",
   "metadata": {},
   "source": [
    "Таблица практически соотвестсует заявленному описанию. Однако в полученной таблице вместо столбца `PRIMARY_COLL_FACTOR` предствален столбец `primary_collision_factor`. Значаниея в этом столбце также отличаются от описанных. Данные в столбце `intersection` представлены значения 0 и 1, а не так, как представлено в описании.  \n",
    "В выгруженных 1000 строках нет дубликатов, однако присутствуют пропуски, что при дальнейшей работе необходимо учесть"
   ]
  },
  {
   "cell_type": "markdown",
   "metadata": {},
   "source": [
    "## Таблица parties "
   ]
  },
  {
   "cell_type": "markdown",
   "metadata": {},
   "source": [
    "### Заявленное описание  \n",
    "Информация об участниках ДТП. Имеет неуникальный `case_id`, который сопоставляется с соответствующим ДТП в таблице `collisions`. Каждая строка здесь описывает одну из сторон, участвующих в ДТП. Если столкнулись две машины, в этой таблице должно быть две строки с совпадением case_id. Если нужен уникальный идентификатор, это `case_id and party_number`.\n",
    "| Описание| Обозначение в таблице | Подробнее|\n",
    "|:- |:- |:- |\n",
    "| Идентификационный номер| ID| Уникальный идентификатор |\n",
    "| Идентификационный номер в базе данных| CASE_ID| Уникальный номер для зарегистрированного происшествия в таблице происшествий.|\n",
    "| Номер участника происшествия | PARTY_NUMBER | От 1 до N — по числу участников происшествия |\n",
    "| Тип участника происшествия | PARTY_TYPE | <ol><li> Car (Авто)</li> <li> Road bumper (Дорожные знаки)</li><li> Building (Строения)</li> <li> Road signs (Отбойник)</li> <li> Other (Другое)</li> <li> — Operator (Оператор)</li> <li>- — Not Stated (Не указано)</li></ol> |\n",
    "| Виновность участника | AT_FAULT| 0/1 |\n",
    "| Сумма страховки (тыс. $)| INSURANCE_PREMIUM| число |\n",
    "| Состояние участника: физическое или с учётом принятых лекарств| PARTY_DRUG_PHYSICAL| <ul><li> E — Under Drug Influence (Под воздействием лекарств)</li><li>F — Impairment — Physical (Ухудшение состояния)</li><li>G — Impairment Unknown (Не известно)</li><li>H — Not Applicable (Не оценивался)</li><li>I — Sleepy/Fatigued (Сонный/Усталый)</li><li>- — Not Stated (Не указано) </li></ul>|\n",
    "| Трезвость участника| PARTY_SOBRIETY| <ul><li> A — Had Not Been Drinking (Не пил)</li><li>B — Had Been Drinking, Under Influence (Был пьян, под влиянием)</li><li>C — Had Been Drinking, Not Under Influence (Был пьян, не под влиянием)</li><li>D — Had Been Drinking, Impairment Unknown (Был пьян, ухудшение неизвестно)</li><li>G — Impairment Unknown (Неизвестно ухудшение)</li><li>H — Not Applicable (Не оценивался)</li><li>- — Not Stated (Не указано)</li></ul> |\n",
    "| Наличие телефона в автомобиле (возможности разговаривать по громкой связи) | CELLPHONE_IN_USE | 0/1 |"
   ]
  },
  {
   "cell_type": "markdown",
   "metadata": {},
   "source": [
    "### Полученные данные"
   ]
  },
  {
   "cell_type": "code",
   "execution_count": 11,
   "metadata": {},
   "outputs": [
    {
     "name": "stdout",
     "output_type": "stream",
     "text": [
      "ОБЩАЯ ИНФОРМАЦИЯ\n",
      "----------------\n",
      "<class 'pandas.core.frame.DataFrame'>\n",
      "Index: 1000 entries, 22 to 8867\n",
      "Data columns (total 8 columns):\n",
      " #   Column               Non-Null Count  Dtype  \n",
      "---  ------               --------------  -----  \n",
      " 0   case_id              1000 non-null   object \n",
      " 1   party_number         1000 non-null   int64  \n",
      " 2   party_type           982 non-null    object \n",
      " 3   at_fault             1000 non-null   int64  \n",
      " 4   insurance_premium    368 non-null    float64\n",
      " 5   party_sobriety       901 non-null    object \n",
      " 6   party_drug_physical  539 non-null    object \n",
      " 7   cellphone_in_use     526 non-null    float64\n",
      "dtypes: float64(2), int64(2), object(4)\n",
      "memory usage: 70.3+ KB\n",
      "|----------------------------------------------------------------------------------------------------|\n",
      "\n",
      "ПЕРВЫЕ 5 СТРОК ДАТАСЕТА\n",
      "-----------------------\n"
     ]
    },
    {
     "data": {
      "text/html": [
       "<div>\n",
       "<style scoped>\n",
       "    .dataframe tbody tr th:only-of-type {\n",
       "        vertical-align: middle;\n",
       "    }\n",
       "\n",
       "    .dataframe tbody tr th {\n",
       "        vertical-align: top;\n",
       "    }\n",
       "\n",
       "    .dataframe thead th {\n",
       "        text-align: right;\n",
       "    }\n",
       "</style>\n",
       "<table border=\"1\" class=\"dataframe\">\n",
       "  <thead>\n",
       "    <tr style=\"text-align: right;\">\n",
       "      <th></th>\n",
       "      <th>case_id</th>\n",
       "      <th>party_number</th>\n",
       "      <th>party_type</th>\n",
       "      <th>at_fault</th>\n",
       "      <th>insurance_premium</th>\n",
       "      <th>party_sobriety</th>\n",
       "      <th>party_drug_physical</th>\n",
       "      <th>cellphone_in_use</th>\n",
       "    </tr>\n",
       "    <tr>\n",
       "      <th>id</th>\n",
       "      <th></th>\n",
       "      <th></th>\n",
       "      <th></th>\n",
       "      <th></th>\n",
       "      <th></th>\n",
       "      <th></th>\n",
       "      <th></th>\n",
       "      <th></th>\n",
       "    </tr>\n",
       "  </thead>\n",
       "  <tbody>\n",
       "    <tr>\n",
       "      <th>22</th>\n",
       "      <td>3899454</td>\n",
       "      <td>1</td>\n",
       "      <td>road signs</td>\n",
       "      <td>1</td>\n",
       "      <td>29.0</td>\n",
       "      <td>had not been drinking</td>\n",
       "      <td>None</td>\n",
       "      <td>0.0</td>\n",
       "    </tr>\n",
       "    <tr>\n",
       "      <th>23</th>\n",
       "      <td>3899454</td>\n",
       "      <td>2</td>\n",
       "      <td>road signs</td>\n",
       "      <td>0</td>\n",
       "      <td>7.0</td>\n",
       "      <td>had not been drinking</td>\n",
       "      <td>None</td>\n",
       "      <td>0.0</td>\n",
       "    </tr>\n",
       "    <tr>\n",
       "      <th>29</th>\n",
       "      <td>3899462</td>\n",
       "      <td>2</td>\n",
       "      <td>car</td>\n",
       "      <td>0</td>\n",
       "      <td>21.0</td>\n",
       "      <td>had not been drinking</td>\n",
       "      <td>None</td>\n",
       "      <td>0.0</td>\n",
       "    </tr>\n",
       "    <tr>\n",
       "      <th>31</th>\n",
       "      <td>3899465</td>\n",
       "      <td>2</td>\n",
       "      <td>road signs</td>\n",
       "      <td>0</td>\n",
       "      <td>24.0</td>\n",
       "      <td>had not been drinking</td>\n",
       "      <td>None</td>\n",
       "      <td>0.0</td>\n",
       "    </tr>\n",
       "    <tr>\n",
       "      <th>41</th>\n",
       "      <td>3899478</td>\n",
       "      <td>2</td>\n",
       "      <td>road bumper</td>\n",
       "      <td>0</td>\n",
       "      <td>NaN</td>\n",
       "      <td>not applicable</td>\n",
       "      <td>not applicable</td>\n",
       "      <td>0.0</td>\n",
       "    </tr>\n",
       "  </tbody>\n",
       "</table>\n",
       "</div>"
      ],
      "text/plain": [
       "    case_id  party_number   party_type  at_fault  insurance_premium  \\\n",
       "id                                                                    \n",
       "22  3899454             1   road signs         1               29.0   \n",
       "23  3899454             2   road signs         0                7.0   \n",
       "29  3899462             2          car         0               21.0   \n",
       "31  3899465             2   road signs         0               24.0   \n",
       "41  3899478             2  road bumper         0                NaN   \n",
       "\n",
       "           party_sobriety party_drug_physical  cellphone_in_use  \n",
       "id                                                               \n",
       "22  had not been drinking                None               0.0  \n",
       "23  had not been drinking                None               0.0  \n",
       "29  had not been drinking                None               0.0  \n",
       "31  had not been drinking                None               0.0  \n",
       "41         not applicable      not applicable               0.0  "
      ]
     },
     "metadata": {},
     "output_type": "display_data"
    },
    {
     "name": "stdout",
     "output_type": "stream",
     "text": [
      "|----------------------------------------------------------------------------------------------------|\n",
      "\n",
      "КОЛИЧЕСТВО ДУБЛИКАТОВ\n",
      "---------------------\n",
      "0\n",
      "|----------------------------------------------------------------------------------------------------|\n",
      "\n",
      "ПРОЦЕНТ ПРОПУЩЕННЫХ ЗНАЧЕНИЙ\n",
      "--------------------\n",
      "case_id                 0.0\n",
      "party_number            0.0\n",
      "party_type              1.8\n",
      "at_fault                0.0\n",
      "insurance_premium      63.2\n",
      "party_sobriety          9.9\n",
      "party_drug_physical    46.1\n",
      "cellphone_in_use       47.4\n",
      "dtype: float64\n",
      "|----------------------------------------------------------------------------------------------------|\n",
      "\n",
      "КАТЕГОРИАЛЬНЫЕ ПРИЗНАКИ\n",
      "-----------------------\n",
      "-- Уникальные признака case_id --\n",
      "-------------------------------\n",
      "['3899454' '3899462' '3899465' '3899478' '3899481' '3899505' '3899509'\n",
      " '3981292' '3982068' '3982887' '3982076' '3982892' '3982898' '3982910'\n",
      " '3982914' '3982918' '3982945' '3982946' '3982941' '3982949' '3982950'\n",
      " '3989728' '3984282' '3984245' '3984274' '3984278' '3984319' '3984348'\n",
      " '3984351' '3984353' '3984369' '3984383' '3986480' '3987526' '3987542'\n",
      " '4036018' '3987565' '3987616' '3987624' '3987634' '3987680' '3987677'\n",
      " '3987741' '3987711' '3987723' '3987736' '4036050' '3987798' '3987901'\n",
      " '3988002' '3988077' '3989809' '3989833' '3990215' '3990253' '3990261'\n",
      " '3990313' '4111774' '3990318' '3990508' '3990512' '3990556' '3990535'\n",
      " '3993887' '3993888' '3993908' '3995230' '4036024' '3995235' '3995210'\n",
      " '3995231' '3995238' '3995242' '3995261' '3995273' '3995921' '3996582'\n",
      " '3996638' '3996586' '3996606' '4000504' '4000508' '4000516' '4000521'\n",
      " '4000523' '4000524' '4000518' '4000533' '4000539' '4000675' '4000548'\n",
      " '4000644' '4000688' '4000692' '4000687' '4000707' '4000753' '4000789'\n",
      " '4000790' '4001496' '4001504' '4001511' '4001516' '4041974' '4001800'\n",
      " '4001812' '4001816' '4001818' '4001822' '4001837' '4001832' '4001840'\n",
      " '4004219' '4003323' '4003365' '4003383' '4003374' '4003373' '4003400'\n",
      " '4003387' '4003415' '4003433' '4003435' '4003429' '4003431' '4003437'\n",
      " '4003449' '4003458' '4003470' '4003471' '4003474' '4003486' '4003506'\n",
      " '4004162' '4004175' '4004184' '4004192' '4043267' '4004226' '4004227'\n",
      " '4004231' '4004237' '4021575' '4004256' '4004315' '4004316' '4007895'\n",
      " '4004521' '4098625' '4004574' '4004590' '4021591' '4004605' '4004609'\n",
      " '4004610' '4021592' '4005033' '4004637' '4016616' '4006082' '4006110'\n",
      " '4006114' '4006138' '4006137' '4007630' '4007610' '4007654' '4023621'\n",
      " '4007658' '4007697' '4007680' '4007705' '4007722' '4007734' '4007757'\n",
      " '4007739' '4007753' '4007859' '4007880' '4007896' '4007903' '4007930'\n",
      " '4008278' '4014966' '4012010' '4008294' '4012012' '4012020' '4012032'\n",
      " '4012051' '4012035' '4012074' '4012076' '4021260' '4014901' '4014908'\n",
      " '4014926' '4014929' '4014962' '4014945' '4014959' '4014963' '4014949'\n",
      " '4014983' '4014984' '4014985' '4014986' '4014987' '4015003' '4015019'\n",
      " '4015025' '4015033' '4015023' '4015031' '4015034' '4015062' '4015068'\n",
      " '4015070' '4015080' '4015084' '4015085' '4015094' '4015095' '4015102'\n",
      " '4054273' '4015104' '4113920' '4015167' '4015174' '4015177' '4027491'\n",
      " '4015195' '4015201' '4015204' '4015233' '4030173' '4015242' '4015248'\n",
      " '4015260' '4015876' '4015847' '4015843' '4129677' '4015880' '4015900'\n",
      " '4021350' '4015915' '4015919' '4015941' '4015953' '4015965' '4015997'\n",
      " '4016338' '4016340' '4016351' '4016375' '4016385' '4016378' '4016394'\n",
      " '4016564' '4016588' '4016608' '4033332' '4016620' '4016736' '4016742'\n",
      " '4016752' '4016767' '4016768' '4016780' '4016774' '4016784' '4017923'\n",
      " '4018815' '4033384' '4018828' '4018847' '4018855' '4186252' '4018859'\n",
      " '4018867' '4018909' '4018922' '4018926' '4018945' '4019040' '4018996'\n",
      " '4019000' '4019059' '4019063' '4019068' '4019108' '4019111' '4019115'\n",
      " '4020165' '4021219' '4021220' '4021230' '4021239' '4021245' '4021246'\n",
      " '4021255' '4021269' '4021278' '4021277' '4021290' '4060270' '4021307'\n",
      " '4021309' '4021310' '4021315' '4021318' '4021314' '4021323' '4021333'\n",
      " '4060334' '4021354' '4021527' '4021529' '4021536' '4021531' '4021538'\n",
      " '4021535' '4021542' '4021544' '4021567' '4021578' '4021576' '4021612'\n",
      " '4021615' '4021640' '4021644' '4021668' '4023467' '4023468' '4033743'\n",
      " '4023496' '4023503' '4023504' '4023507' '4023522' '4023542' '4033808'\n",
      " '4023566' '4023571' '4023562' '4023583' '4023586' '4023591' '4023600'\n",
      " '4023601' '4023604' '4023616' '4023608' '4023631' '4023638' '4023632'\n",
      " '4023649' '4023650' '4023657' '4023658' '4023661' '4023669' '4023667'\n",
      " '4023673' '4023674' '4023679' '4027464' '4027483' '4027475' '4027484'\n",
      " '4027492' '4027496' '4027507' '4027508' '4027524' '4027520' '4027523'\n",
      " '4027529' '4027528' '4027535' '4027541' '4027543' '4027545' '4027547'\n",
      " '4027556' '4027560' '4027549' '4027572' '4027564' '4027566' '4027568'\n",
      " '4027573' '4027591' '4027576' '4027581' '4027585' '4027586' '4027590'\n",
      " '4027598' '4028024' '4030081' '4030096' '4030097' '4030105' '4030113'\n",
      " '4030109' '4030130' '4030145' '4030154' '4030181' '4030193' '4030223'\n",
      " '4030219' '4030228' '4030254' '4030262' '4030289' '4030293' '4030414'\n",
      " '4030480' '4030400' '4030403' '4030428' '4030422' '4030432' '4030438'\n",
      " '4030454' '4030456' '4030482' '4030490' '4030494' '4030508' '4030509'\n",
      " '4030519' '4030520' '4030513' '4030525' '4030583' '4030526' '4030538'\n",
      " '4030549' '4030545' '4030558' '4030564' '4030567' '4030572' '4030573'\n",
      " '4030575' '4030579' '4034026' '4030588' '4030593' '4030610' '4030598'\n",
      " '4030600' '4030602' '4030604' '4030608' '4030612' '4030616' '4030624'\n",
      " '4030626' '4030674' '4030629' '4030653' '4030665' '4030669' '4030677'\n",
      " '4030685' '4030693' '4030686' '4030694' '4030705' '4030713' '4032970'\n",
      " '4032978' '4032986' '4032990' '4032991' '4033006' '4033010' '4033018'\n",
      " '4033038' '4033042' '4033047' '4033048' '4033051' '4033063' '4033069'\n",
      " '4033076' '4033098' '4033102' '4033111' '4033127' '4033128' '4033118'\n",
      " '4033141' '4033144' '4033151' '4033148' '4033158' '4033165' '4033189'\n",
      " '4033199' '4033205' '4033209' '4033218' '4033219' '4033224' '4033233'\n",
      " '4033238' '4033247' '4033249' '4033252' '4033253' '4033259' '4033263'\n",
      " '4033265' '4033268' '4033276' '4033270' '4033278' '4033279' '4033282'\n",
      " '4033274' '4033291' '4033314' '4033301' '4033302' '4033308' '4033625'\n",
      " '4033329' '4033318' '4033320' '4033326' '4033344' '4033334' '4033338'\n",
      " '4033340' '4033345' '4033349' '4033352' '4033356' '4033362' '4033364'\n",
      " '4033360' '4033363' '4033367' '4033370' '4033378' '4033371' '4033372'\n",
      " '4033375' '4033380' '4033381' '4033383' '4033394' '4033397' '4033413'\n",
      " '4033415' '4033423' '4033420' '4033424' '4033430' '4033437' '4033446'\n",
      " '4033475' '4033490' '4034089' '4033520' '4033530' '4033533' '4033534'\n",
      " '4033536' '4033524' '4033526' '4033528' '4033544' '4033556' '4033558'\n",
      " '4033562' '4033571' '4033583' '4033590' '4033585' '4033587' '4033594'\n",
      " '4033592' '4033595' '4033597' '4033614' '4033611' '4033610' '4033626'\n",
      " '4033636' '4033629' '4033632' '4033633' '4033638' '4033646' '4060336'\n",
      " '4033645' '4033647' '4033659' '4033665' '4033660' '4033676' '4033662'\n",
      " '4033672' '4033685' '4033684' '4033688' '4033689' '4033692' '4033699'\n",
      " '4033700' '4033704' '4033707' '4033710' '4033733' '4033747' '4033751'\n",
      " '4033748' '4033752' '4033760' '4033759' '4033775' '4033792' '4033781'\n",
      " '4033776' '4033778' '4033826' '4033816' '4033828' '4033830' '4033862'\n",
      " '4033873' '4033871' '4033880' '4033881' '4033883' '4033884' '4033886'\n",
      " '4033898' '4033906' '4033910' '4033918' '4033924' '4033928' '4033932'\n",
      " '4033933' '4033937' '4033939' '4033941' '4033947' '4033950' '4033953'\n",
      " '4033948' '4033949' '4033955' '4033961' '4033963' '4033964' '4033976'\n",
      " '4033984' '4033991' '4033993' '4034003' '4034002' '4034021' '4034016'\n",
      " '4034018' '4034031' '4034027' '4034038' '4034052' '4034062' '4034069'\n",
      " '4034071' '4034105' '4034183' '4034187' '4034179' '4034170' '4034184'\n",
      " '4034195' '4063106' '4034595' '4034573' '4034579' '4034583' '4034587'\n",
      " '4034586' '4034590' '4034592' '4034593' '4034594' '4034596' '4034599'\n",
      " '4034609' '4034597' '4034608' '4034611' '4034615' '4034613' '4034619'\n",
      " '4034623' '4034625' '4034638' '4034640' '4034628' '4034637' '4034644'\n",
      " '4034642' '4034645' '4034651' '4034654' '4034670' '4034687' '4034675'\n",
      " '4034690' '4034694' '4034711' '4034719' '4034724' '4034734' '4034741'\n",
      " '4034748' '4034737' '4034745' '4034756' '4034757' '4034762' '4035271'\n",
      " '4034767' '4034784' '4034788' '4035147' '4035123' '4035148' '4035167'\n",
      " '4035199' '4035207' '4035194' '4035191' '4035192' '4035195' '4035204'\n",
      " '4035208' '4035223' '4035212' '4086230' '4035219' '4035220' '4079395'\n",
      " '4035225' '4035231' '4035227' '4035240' '4035267' '4035263' '4035258'\n",
      " '4035264' '4035270' '4035281' '4035285' '4035277' '4035280' '4035282'\n",
      " '4035288' '4035287' '4035289' '4035298' '4035299' '4035301' '4035331'\n",
      " '4035333' '4035319' '4035334' '4035336' '4035346' '4035339' '4035358'\n",
      " '4035359' '4035362' '4035363' '4035366' '4035385' '4035440' '4035452'\n",
      " '4035445' '4035451' '4035455' '4035464' '4035473' '4035482' '4035475'\n",
      " '4035485' '4035486' '4035487' '4035488' '4035503' '4035491' '4035493'\n",
      " '4035495' '4035500' '4035506' '4035510' '4035505' '4035509' '4035513'\n",
      " '4035523' '4035534' '4035521' '4035525' '4035542' '4035541' '4035543'\n",
      " '4035545' '4035554' '4079510' '4035573']\n",
      "\n",
      "-- Уникальные признака party_type --\n",
      "-------------------------------\n",
      "['road signs' 'car' 'road bumper' None 'building' 'other']\n",
      "\n",
      "-- Уникальные признака party_sobriety --\n",
      "-------------------------------\n",
      "['had not been drinking' 'not applicable' 'impairment unknown' None\n",
      " 'had been drinking, not under influence'\n",
      " 'had been drinking, under influence'\n",
      " 'had been drinking, impairment unknown']\n",
      "\n",
      "-- Уникальные признака party_drug_physical --\n",
      "-------------------------------\n",
      "[None 'not applicable' 'G' 'under drug influence' 'sleepy/fatigued']\n",
      "\n",
      "|----------------------------------------------------------------------------------------------------|\n",
      "\n",
      "КОЛИЧЕСТВЕННЫЕ ПРИЗНАКИ\n",
      "-----------------------\n"
     ]
    },
    {
     "data": {
      "text/html": [
       "<div>\n",
       "<style scoped>\n",
       "    .dataframe tbody tr th:only-of-type {\n",
       "        vertical-align: middle;\n",
       "    }\n",
       "\n",
       "    .dataframe tbody tr th {\n",
       "        vertical-align: top;\n",
       "    }\n",
       "\n",
       "    .dataframe thead th {\n",
       "        text-align: right;\n",
       "    }\n",
       "</style>\n",
       "<table border=\"1\" class=\"dataframe\">\n",
       "  <thead>\n",
       "    <tr style=\"text-align: right;\">\n",
       "      <th></th>\n",
       "      <th>party_number</th>\n",
       "      <th>at_fault</th>\n",
       "      <th>insurance_premium</th>\n",
       "      <th>cellphone_in_use</th>\n",
       "    </tr>\n",
       "  </thead>\n",
       "  <tbody>\n",
       "    <tr>\n",
       "      <th>count</th>\n",
       "      <td>1000.000000</td>\n",
       "      <td>1000.000000</td>\n",
       "      <td>368.000000</td>\n",
       "      <td>526.000000</td>\n",
       "    </tr>\n",
       "    <tr>\n",
       "      <th>mean</th>\n",
       "      <td>2.088000</td>\n",
       "      <td>0.191000</td>\n",
       "      <td>37.616848</td>\n",
       "      <td>0.030418</td>\n",
       "    </tr>\n",
       "    <tr>\n",
       "      <th>std</th>\n",
       "      <td>0.941883</td>\n",
       "      <td>0.393286</td>\n",
       "      <td>19.497011</td>\n",
       "      <td>0.171899</td>\n",
       "    </tr>\n",
       "    <tr>\n",
       "      <th>min</th>\n",
       "      <td>1.000000</td>\n",
       "      <td>0.000000</td>\n",
       "      <td>0.000000</td>\n",
       "      <td>0.000000</td>\n",
       "    </tr>\n",
       "    <tr>\n",
       "      <th>25%</th>\n",
       "      <td>2.000000</td>\n",
       "      <td>0.000000</td>\n",
       "      <td>22.750000</td>\n",
       "      <td>0.000000</td>\n",
       "    </tr>\n",
       "    <tr>\n",
       "      <th>50%</th>\n",
       "      <td>2.000000</td>\n",
       "      <td>0.000000</td>\n",
       "      <td>34.500000</td>\n",
       "      <td>0.000000</td>\n",
       "    </tr>\n",
       "    <tr>\n",
       "      <th>75%</th>\n",
       "      <td>2.000000</td>\n",
       "      <td>0.000000</td>\n",
       "      <td>52.000000</td>\n",
       "      <td>0.000000</td>\n",
       "    </tr>\n",
       "    <tr>\n",
       "      <th>max</th>\n",
       "      <td>9.000000</td>\n",
       "      <td>1.000000</td>\n",
       "      <td>90.000000</td>\n",
       "      <td>1.000000</td>\n",
       "    </tr>\n",
       "  </tbody>\n",
       "</table>\n",
       "</div>"
      ],
      "text/plain": [
       "       party_number     at_fault  insurance_premium  cellphone_in_use\n",
       "count   1000.000000  1000.000000         368.000000        526.000000\n",
       "mean       2.088000     0.191000          37.616848          0.030418\n",
       "std        0.941883     0.393286          19.497011          0.171899\n",
       "min        1.000000     0.000000           0.000000          0.000000\n",
       "25%        2.000000     0.000000          22.750000          0.000000\n",
       "50%        2.000000     0.000000          34.500000          0.000000\n",
       "75%        2.000000     0.000000          52.000000          0.000000\n",
       "max        9.000000     1.000000          90.000000          1.000000"
      ]
     },
     "metadata": {},
     "output_type": "display_data"
    },
    {
     "data": {
      "image/png": "[encoded data removed]",
      "text/plain": [
       "<Figure size 640x480 with 2 Axes>"
      ]
     },
     "metadata": {},
     "output_type": "display_data"
    }
   ],
   "source": [
    "parties = '''\n",
    "SELECT  *\n",
    "FROM parties\n",
    "LIMIT 1000\n",
    "'''\n",
    "\n",
    "df_info(pd.read_sql_query(parties, engine, index_col='id'))"
   ]
  },
  {
   "cell_type": "markdown",
   "metadata": {},
   "source": [
    "Таблица соответсвует заявленному описанию. Часть признаков, которые стоит рассматривать, как категориальные, по умолчанию распознаются, как количественные. Этот момент необходимо будет учесть при дальнейшем исследовании. Также стоит учесть, что в данных имеются пропущенные значения"
   ]
  },
  {
   "cell_type": "markdown",
   "metadata": {},
   "source": [
    "### Таблица vehicles"
   ]
  },
  {
   "cell_type": "markdown",
   "metadata": {},
   "source": [
    "## Заявленное описание  \n",
    "Информация о пострадавших машинах. Имеет неуникальные `case_id` и неуникальные `party_number`, которые сопоставляются с таблицей `collisions` и таблицей `parties`. Если нужен уникальный идентификатор, это `case_id and party_number`.\n",
    "| Описание| Обозначение в таблице| Подробнее|\n",
    "| :- | :- | :- |\n",
    "| Индекс текущей таблицы | ID | Номер в таблице|\n",
    "| Идентификационный номер в базе данных | CASE_ID | Уникальный номер для зарегистрированного происшествия в таблице происшествий.|\n",
    "| Тип кузова | VEHICLE_TYPE | <ul><li> MINIVAN</li><li>COUPE</li><li>SEDAN</li><li>HATCHBACK</li><li>OTHER</li></ul>      |\n",
    "| Тип КПП | VEHICLE_TRANSMISSION | <ul><li> auto (Автоматическая)</li><li>manual (Ручная)</li><li> - — Not Stated (Не указано)</li></ul> |\n",
    "| Возраст автомобиля (в годах) | VEHICLE_AGE | число |"
   ]
  },
  {
   "cell_type": "markdown",
   "metadata": {},
   "source": [
    "## Полученные данные"
   ]
  },
  {
   "cell_type": "code",
   "execution_count": 12,
   "metadata": {},
   "outputs": [
    {
     "name": "stdout",
     "output_type": "stream",
     "text": [
      "ОБЩАЯ ИНФОРМАЦИЯ\n",
      "----------------\n",
      "<class 'pandas.core.frame.DataFrame'>\n",
      "Index: 1000 entries, 1175713 to 1177641\n",
      "Data columns (total 5 columns):\n",
      " #   Column                Non-Null Count  Dtype  \n",
      "---  ------                --------------  -----  \n",
      " 0   case_id               1000 non-null   object \n",
      " 1   party_number          1000 non-null   int64  \n",
      " 2   vehicle_type          1000 non-null   object \n",
      " 3   vehicle_transmission  992 non-null    object \n",
      " 4   vehicle_age           965 non-null    float64\n",
      "dtypes: float64(1), int64(1), object(3)\n",
      "memory usage: 46.9+ KB\n",
      "|----------------------------------------------------------------------------------------------------|\n",
      "\n",
      "ПЕРВЫЕ 5 СТРОК ДАТАСЕТА\n",
      "-----------------------\n"
     ]
    },
    {
     "data": {
      "text/html": [
       "<div>\n",
       "<style scoped>\n",
       "    .dataframe tbody tr th:only-of-type {\n",
       "        vertical-align: middle;\n",
       "    }\n",
       "\n",
       "    .dataframe tbody tr th {\n",
       "        vertical-align: top;\n",
       "    }\n",
       "\n",
       "    .dataframe thead th {\n",
       "        text-align: right;\n",
       "    }\n",
       "</style>\n",
       "<table border=\"1\" class=\"dataframe\">\n",
       "  <thead>\n",
       "    <tr style=\"text-align: right;\">\n",
       "      <th></th>\n",
       "      <th>case_id</th>\n",
       "      <th>party_number</th>\n",
       "      <th>vehicle_type</th>\n",
       "      <th>vehicle_transmission</th>\n",
       "      <th>vehicle_age</th>\n",
       "    </tr>\n",
       "    <tr>\n",
       "      <th>id</th>\n",
       "      <th></th>\n",
       "      <th></th>\n",
       "      <th></th>\n",
       "      <th></th>\n",
       "      <th></th>\n",
       "    </tr>\n",
       "  </thead>\n",
       "  <tbody>\n",
       "    <tr>\n",
       "      <th>1175713</th>\n",
       "      <td>5305032</td>\n",
       "      <td>2</td>\n",
       "      <td>sedan</td>\n",
       "      <td>manual</td>\n",
       "      <td>3.0</td>\n",
       "    </tr>\n",
       "    <tr>\n",
       "      <th>1</th>\n",
       "      <td>3858022</td>\n",
       "      <td>1</td>\n",
       "      <td>sedan</td>\n",
       "      <td>auto</td>\n",
       "      <td>3.0</td>\n",
       "    </tr>\n",
       "    <tr>\n",
       "      <th>1175712</th>\n",
       "      <td>5305030</td>\n",
       "      <td>1</td>\n",
       "      <td>sedan</td>\n",
       "      <td>auto</td>\n",
       "      <td>3.0</td>\n",
       "    </tr>\n",
       "    <tr>\n",
       "      <th>1175717</th>\n",
       "      <td>5305033</td>\n",
       "      <td>3</td>\n",
       "      <td>sedan</td>\n",
       "      <td>auto</td>\n",
       "      <td>5.0</td>\n",
       "    </tr>\n",
       "    <tr>\n",
       "      <th>1175722</th>\n",
       "      <td>5305034</td>\n",
       "      <td>2</td>\n",
       "      <td>sedan</td>\n",
       "      <td>auto</td>\n",
       "      <td>5.0</td>\n",
       "    </tr>\n",
       "  </tbody>\n",
       "</table>\n",
       "</div>"
      ],
      "text/plain": [
       "         case_id  party_number vehicle_type vehicle_transmission  vehicle_age\n",
       "id                                                                           \n",
       "1175713  5305032             2        sedan               manual          3.0\n",
       "1        3858022             1        sedan                 auto          3.0\n",
       "1175712  5305030             1        sedan                 auto          3.0\n",
       "1175717  5305033             3        sedan                 auto          5.0\n",
       "1175722  5305034             2        sedan                 auto          5.0"
      ]
     },
     "metadata": {},
     "output_type": "display_data"
    },
    {
     "name": "stdout",
     "output_type": "stream",
     "text": [
      "|----------------------------------------------------------------------------------------------------|\n",
      "\n",
      "КОЛИЧЕСТВО ДУБЛИКАТОВ\n",
      "---------------------\n",
      "0\n",
      "|----------------------------------------------------------------------------------------------------|\n",
      "\n",
      "ПРОЦЕНТ ПРОПУЩЕННЫХ ЗНАЧЕНИЙ\n",
      "--------------------\n",
      "case_id                 0.0\n",
      "party_number            0.0\n",
      "vehicle_type            0.0\n",
      "vehicle_transmission    0.8\n",
      "vehicle_age             3.5\n",
      "dtype: float64\n",
      "|----------------------------------------------------------------------------------------------------|\n",
      "\n",
      "КАТЕГОРИАЛЬНЫЕ ПРИЗНАКИ\n",
      "-----------------------\n",
      "-- Уникальные признака case_id --\n",
      "-------------------------------\n",
      "['5305032' '3858022' '5305030' '5305033' '5305034' '5305046' '5305053'\n",
      " '5305060' '3899454' '5305071' '5305080' '5305035' '5305037' '5305040'\n",
      " '5305056' '5305058' '5305059' '5305066' '5305069' '5305079' '5305098'\n",
      " '5305101' '5307920' '5307931' '5307938' '4012051' '4014901' '4014908'\n",
      " '5324151' '5324163' '5324176' '5324177' '5324178' '5324189' '4033470'\n",
      " '4033473' '4033474' '4033478' '4033483' '4033484' '4033486' '5305146'\n",
      " '5305147' '5305149' '5305156' '5305242' '5305163' '5305181' '5305192'\n",
      " '5305195' '5305198' '5305199' '5305140' '5305142' '5305143' '5305144'\n",
      " '5305162' '5305175' '5305182' '5305188' '5305190' '5305193' '5305196'\n",
      " '5305197' '5305207' '5305224' '5305226' '5305237' '5305239' '5305250'\n",
      " '5305258' '4033490' '4033492' '4033509' '5357854' '5357861' '5357864'\n",
      " '5357868' '5357869' '4046921' '4046931' '4046939' '4046950' '4046965'\n",
      " '4046993' '4047736' '5360890' '5360895' '5360900' '5360908' '5360922'\n",
      " '5360930' '5360954' '4091875' '4091844' '4091873' '4091880' '4091920'\n",
      " '4092165' '4092168' '4092176' '4092172' '3982920' '5305262' '5305264'\n",
      " '5305267' '5305269' '5305270' '5305272' '5305282' '5305283' '5305295'\n",
      " '3984245' '5305300' '5305304' '5305316' '5305318' '5305319' '5305324'\n",
      " '5305325' '5305332' '5305333' '5305336' '5305343' '5305347' '5599516'\n",
      " '5599528' '5599532' '5599535' '5599669' '5305271' '5305278' '5305280'\n",
      " '5305287' '5305290' '5305296' '5305314' '5305321' '5305330' '5305346'\n",
      " '3982946' '4092188' '5361859' '5361863' '4092365' '4092397' '4092416'\n",
      " '5364570' '5364572' '5364575' '5364578' '5364581' '5364586' '5365339'\n",
      " '5365340' '5365353' '5365357' '5365359' '5305352' '5305362' '5305366'\n",
      " '5305367' '5305376' '5305404' '5305405' '5305412' '5305415' '3984274'\n",
      " '3984278' '5305355' '5305424' '5305433' '5305435' '5305436' '5305437'\n",
      " '5305439' '3984319' '5305375' '5305382' '5305403' '5305416' '5305420'\n",
      " '5305425' '5305430' '3984348' '3984353' '3984282' '3984351' '4094751'\n",
      " '4094766' '5366214' '5366219' '5366223' '5366228' '5366235' '5366581'\n",
      " '5366585' '5366604' '4095148' '5366610' '5366612' '5366614' '5366627'\n",
      " '5366634' '3984398' '5305442' '5305443' '5305450' '5305453' '5305460'\n",
      " '5305465' '5305466' '5305477' '5305479' '5305448' '5305454' '5305469'\n",
      " '5305471' '5305476' '3984369' '5305524' '5305525' '5305529' '5305546'\n",
      " '5305547' '5305551' '4095168' '4095180' '4113608' '4113614' '4113617'\n",
      " '4259511' '4114164' '4114165' '4114191' '4114206' '4114790' '4114791'\n",
      " '4114794' '4260296' '4115353' '4115363' '4115364' '4115376' '4259965'\n",
      " '4115687' '4115688' '4115689' '4115690' '4115691' '4115693' '4115698'\n",
      " '4115699' '4115703' '4115711' '4115716' '5370594' '5370600' '5370603'\n",
      " '5370606' '5370624' '5370633' '4097395' '4097398' '4097420' '4097392'\n",
      " '5305562' '5305574' '5305577' '5305579' '5305582' '5305583' '5305584'\n",
      " '3989809' '5305600' '5305601' '5305604' '5305608' '5305611' '5305566'\n",
      " '5305567' '5305569' '5305571' '5305575' '5305581' '5305589' '5305594'\n",
      " '5305595' '5305605' '5305607' '3987680' '5305609' '4097408' '4097433'\n",
      " '4097435' '5370891' '5370897' '5370898' '5370912' '5370919' '5370942'\n",
      " '5370944' '5370950' '5370955' '5370964' '5370972' '5370974' '5370976'\n",
      " '5370978' '5370981' '5370984' '5370987' '4097702' '4097682' '4097694'\n",
      " '5372421' '5372426' '5372447' '5372452' '4098350' '5372958' '5372961'\n",
      " '5372977' '5372981' '5377589' '3990161' '5305663' '5305668' '5305681'\n",
      " '5305686' '5305688' '5305704' '5305694' '5305696' '5305703' '5305707'\n",
      " '5305710' '5305721' '5305724' '5305733' '5305672' '5305684' '5305691'\n",
      " '5305693' '5305698' '5305705' '5305706' '5305709' '5305713' '5305714'\n",
      " '5305718' '5305738' '5305739' '5305759' '5305761' '5305764' '5305777'\n",
      " '5305778' '5377597' '5377600' '5377601' '5377603' '4100868' '5378350'\n",
      " '4136976' '4136996' '4136997' '4136999' '4137003' '5381414' '5381430'\n",
      " '5381433' '5381453' '5381455' '4104074' '4104079' '4104084' '4104091'\n",
      " '4104119' '4104083' '5381723' '5381731' '5381736' '5305779' '5305781'\n",
      " '5305792' '5305805' '5305806' '5305812' '5305814' '5305816' '5305817'\n",
      " '5305818' '5305824' '5305827' '5305828' '5305829' '5305831' '5305839'\n",
      " '5305840' '5305846' '5305851' '5305857' '5305862' '5305871' '5305875'\n",
      " '5305782' '5305784' '5305791' '5305802' '5305834' '5305841' '5305864'\n",
      " '5305870' '5305886' '5305891' '5305892' '3993908' '5381737' '5381762'\n",
      " '4141516' '4141517' '4141527' '4264598' '5383603' '5383611' '5383624'\n",
      " '5383639' '5383645' '5383648' '5383652' '4106602' '4106610' '4106612'\n",
      " '4106606' '4142684' '4142689' '4142721' '4142743' '5383707' '5383728'\n",
      " '5305914' '5305916' '5305918' '5305925' '5305934' '5305937' '5305944'\n",
      " '5305945' '5305970' '5305953' '5305956' '5305963' '5305974' '5305979'\n",
      " '5305980' '5599671' '5599674' '5599677' '5599681' '5599684' '5599698'\n",
      " '5599705' '5599710' '5305897' '5305898' '5305903' '5305909' '5305913'\n",
      " '5305919' '5305928' '5305933' '5305940' '5305946' '5305947' '5305959'\n",
      " '5305968' '5305977' '5305982' '5305983' '5305984' '4000504' '5383755'\n",
      " '5383762' '5383767' '4106664' '4106964' '4108828' '5387956' '4112370'\n",
      " '4111657' '4111662' '5388614' '5388740' '5388742' '5305989' '5305991'\n",
      " '5305998' '5306005' '5306008' '5306009' '5305992' '5306004' '5306037'\n",
      " '5306039' '5306045' '5306050' '5306052' '5306059' '5306066' '5306079'\n",
      " '5306082' '5306084' '5306088' '5306090' '5306091' '5306114' '5306130'\n",
      " '5306138' '5306143' '5388755' '5388760' '5388774' '4163745' '4163753'\n",
      " '4163761' '4163782' '4163821' '4163825' '4163829' '4164013' '4164015'\n",
      " '4164021' '5389776' '5389777' '5389779' '5389780' '5389781' '5389785'\n",
      " '5389801' '5389803' '5389812' '5389813' '4112652' '4112810' '5390507'\n",
      " '5390522' '5390523' '4113130' '4113139' '5390601' '5390602' '4113182'\n",
      " '4113201' '5392312' '5392318' '5392322' '4000711' '5306169' '5306152'\n",
      " '5306172' '5306178' '5306184' '5306187' '5306188' '5306209' '5306213'\n",
      " '5306214' '5306216' '5306239' '5306220' '5306221' '5306241' '5306255'\n",
      " '5306257' '5306262' '5306264' '5306275' '5306289' '5306153' '5306157'\n",
      " '5306170' '5306171' '5306182' '5306189' '5306190' '5306199' '4001800'\n",
      " '5306224' '5306233' '5306234' '5306243' '5306282' '5306299' '5306305'\n",
      " '5395471' '5395473' '5395484' '5395487' '5395492' '4115620' '4115822'\n",
      " '4115834' '4115860' '5397192' '5397195' '5397199' '5397209' '5397223'\n",
      " '5397233' '4116558' '5397240' '5306334' '5306335' '5306341' '5306348'\n",
      " '5306352' '5306354' '5306358' '5306371' '5306325' '5306327' '5306333'\n",
      " '5306340' '5306368' '5306369' '5306370' '5306385' '5306401' '5306411'\n",
      " '5306414' '5306435' '5306436' '5306437' '5397261' '5401116' '4120398'\n",
      " '5401125' '5401135' '5401154' '4120409' '4120437' '4120442' '5401187'\n",
      " '5401190' '5401210' '5401233' '4120483' '4120485' '4120489' '4120492'\n",
      " '4120498' '4120502' '4120516' '4120518' '4120488' '4120517' '4179732'\n",
      " '4179756' '4179766' '4180343' '5401251' '5401252' '5401259' '5401263'\n",
      " '5401266' '5401283' '4120532' '5401289' '5401291' '5401298' '5401306'\n",
      " '5401313' '4120540' '4120548' '4120556' '4181430' '4181435' '4181445'\n",
      " '4181468' '4181489' '5401387' '5159778' '4001836' '5306452' '5306453'\n",
      " '5306457' '5306469' '5306470' '5306461' '5306483' '5306486' '5306490'\n",
      " '5306499' '5306506' '5306509' '5306514' '5306515' '5306523' '5306524'\n",
      " '5306529' '5306536' '5599713' '5599792' '5599793' '5599795' '5599813'\n",
      " '5599820' '4224290' '5599938' '5599941' '4224365' '4224378' '5600240'\n",
      " '5600245' '5600528' '5600538' '5600539' '5306464' '5306465' '5306474'\n",
      " '5306477' '5306481' '5306492' '4001837' '5306497' '5306505' '5306512'\n",
      " '5306516' '5306517' '5306534' '5401406' '5160069' '5306543' '5306545'\n",
      " '5306548' '5306551' '5306564' '5306568' '5306569' '5306539' '5306550'\n",
      " '5306556' '5306560' '5306577' '5306585' '4003449' '5306586' '5306592'\n",
      " '5306597' '5306601' '5306602' '5306607' '5306612' '5306619' '5306623'\n",
      " '5306627' '5306628' '5306630' '5306639' '5401416' '5401426' '5401446'\n",
      " '4120610' '4120611' '4120612' '4120634' '4120636' '4120637' '5404375'\n",
      " '5404380' '4122196' '4122215' '4122225' '5404917' '5404919' '5404924'\n",
      " '5404927' '5404929' '5404949' '5404953' '4122494' '4122500' '4196408'\n",
      " '4196414' '4196422' '4196424' '4196434' '4196436' '4196440' '4196447'\n",
      " '4196452' '5408913' '5306641' '5306668' '5306645' '5306654' '5306660'\n",
      " '5306663' '5306675' '5306678' '5306681' '5306683' '5306642' '5306647'\n",
      " '5306648' '5306652' '5306658' '5306662' '5306670' '5306682' '5306690'\n",
      " '5306691' '5306692' '5306697' '5306698' '5306700' '5306708' '5306710'\n",
      " '5306712' '5306719' '5408916' '4126269' '5408937' '5408941' '5408944'\n",
      " '5408946' '5408948' '4126287' '4126307' '4126273' '4126279' '4196940'\n",
      " '4196944' '4196976' '4197004' '4197012' '4197081' '4197101' '4197117'\n",
      " '4197121' '4197195' '4197199' '4197202' '5409274' '5409277' '5409279'\n",
      " '5409283' '5409287' '5409292' '5409293' '5409302' '5409307' '5409310'\n",
      " '4004190' '5306769' '5306776' '5306791' '5306796' '5306799' '5306802'\n",
      " '5306806' '5306845' '5306860' '5306872' '5306878' '5306883' '5306892'\n",
      " '5306895' '5306897' '5306899' '5306900' '5306795' '5306804' '5306808'\n",
      " '5306818' '5306842' '5306844' '5306858' '5306864' '5306865' '5306881'\n",
      " '5306886']\n",
      "\n",
      "-- Уникальные признака vehicle_type --\n",
      "-------------------------------\n",
      "['sedan' 'hatchback' 'coupe' 'minivan']\n",
      "\n",
      "-- Уникальные признака vehicle_transmission --\n",
      "-------------------------------\n",
      "['manual' 'auto' None]\n",
      "\n",
      "|----------------------------------------------------------------------------------------------------|\n",
      "\n",
      "КОЛИЧЕСТВЕННЫЕ ПРИЗНАКИ\n",
      "-----------------------\n"
     ]
    },
    {
     "data": {
      "text/html": [
       "<div>\n",
       "<style scoped>\n",
       "    .dataframe tbody tr th:only-of-type {\n",
       "        vertical-align: middle;\n",
       "    }\n",
       "\n",
       "    .dataframe tbody tr th {\n",
       "        vertical-align: top;\n",
       "    }\n",
       "\n",
       "    .dataframe thead th {\n",
       "        text-align: right;\n",
       "    }\n",
       "</style>\n",
       "<table border=\"1\" class=\"dataframe\">\n",
       "  <thead>\n",
       "    <tr style=\"text-align: right;\">\n",
       "      <th></th>\n",
       "      <th>party_number</th>\n",
       "      <th>vehicle_age</th>\n",
       "    </tr>\n",
       "  </thead>\n",
       "  <tbody>\n",
       "    <tr>\n",
       "      <th>count</th>\n",
       "      <td>1000.000000</td>\n",
       "      <td>965.000000</td>\n",
       "    </tr>\n",
       "    <tr>\n",
       "      <th>mean</th>\n",
       "      <td>1.642000</td>\n",
       "      <td>4.769948</td>\n",
       "    </tr>\n",
       "    <tr>\n",
       "      <th>std</th>\n",
       "      <td>0.711577</td>\n",
       "      <td>3.172909</td>\n",
       "    </tr>\n",
       "    <tr>\n",
       "      <th>min</th>\n",
       "      <td>1.000000</td>\n",
       "      <td>0.000000</td>\n",
       "    </tr>\n",
       "    <tr>\n",
       "      <th>25%</th>\n",
       "      <td>1.000000</td>\n",
       "      <td>2.000000</td>\n",
       "    </tr>\n",
       "    <tr>\n",
       "      <th>50%</th>\n",
       "      <td>2.000000</td>\n",
       "      <td>4.000000</td>\n",
       "    </tr>\n",
       "    <tr>\n",
       "      <th>75%</th>\n",
       "      <td>2.000000</td>\n",
       "      <td>7.000000</td>\n",
       "    </tr>\n",
       "    <tr>\n",
       "      <th>max</th>\n",
       "      <td>7.000000</td>\n",
       "      <td>15.000000</td>\n",
       "    </tr>\n",
       "  </tbody>\n",
       "</table>\n",
       "</div>"
      ],
      "text/plain": [
       "       party_number  vehicle_age\n",
       "count   1000.000000   965.000000\n",
       "mean       1.642000     4.769948\n",
       "std        0.711577     3.172909\n",
       "min        1.000000     0.000000\n",
       "25%        1.000000     2.000000\n",
       "50%        2.000000     4.000000\n",
       "75%        2.000000     7.000000\n",
       "max        7.000000    15.000000"
      ]
     },
     "metadata": {},
     "output_type": "display_data"
    },
    {
     "data": {
      "image/png": "[encoded data removed]",
      "text/plain": [
       "<Figure size 640x480 with 2 Axes>"
      ]
     },
     "metadata": {},
     "output_type": "display_data"
    }
   ],
   "source": [
    "vehicles = '''\n",
    "SELECT *\n",
    "FROM vehicles\n",
    "LIMIT 1000\n",
    "'''\n",
    "df_info(pd.read_sql_query(vehicles, engine, index_col='id'))"
   ]
  },
  {
   "cell_type": "markdown",
   "metadata": {},
   "source": [
    "Таблица соответсвует заявленному описанию. Стоит учесть, что в данных имеются пропущенные значения."
   ]
  },
  {
   "cell_type": "markdown",
   "metadata": {},
   "source": [
    "Таблица Case_ids"
   ]
  },
  {
   "cell_type": "code",
   "execution_count": 13,
   "metadata": {},
   "outputs": [
    {
     "name": "stdout",
     "output_type": "stream",
     "text": [
      "ОБЩАЯ ИНФОРМАЦИЯ\n",
      "----------------\n",
      "<class 'pandas.core.frame.DataFrame'>\n",
      "RangeIndex: 1000 entries, 0 to 999\n",
      "Data columns (total 2 columns):\n",
      " #   Column   Non-Null Count  Dtype \n",
      "---  ------   --------------  ----- \n",
      " 0   case_id  1000 non-null   object\n",
      " 1   db_year  1000 non-null   object\n",
      "dtypes: object(2)\n",
      "memory usage: 15.8+ KB\n",
      "|----------------------------------------------------------------------------------------------------|\n",
      "\n",
      "ПЕРВЫЕ 5 СТРОК ДАТАСЕТА\n",
      "-----------------------\n"
     ]
    },
    {
     "data": {
      "text/html": [
       "<div>\n",
       "<style scoped>\n",
       "    .dataframe tbody tr th:only-of-type {\n",
       "        vertical-align: middle;\n",
       "    }\n",
       "\n",
       "    .dataframe tbody tr th {\n",
       "        vertical-align: top;\n",
       "    }\n",
       "\n",
       "    .dataframe thead th {\n",
       "        text-align: right;\n",
       "    }\n",
       "</style>\n",
       "<table border=\"1\" class=\"dataframe\">\n",
       "  <thead>\n",
       "    <tr style=\"text-align: right;\">\n",
       "      <th></th>\n",
       "      <th>case_id</th>\n",
       "      <th>db_year</th>\n",
       "    </tr>\n",
       "  </thead>\n",
       "  <tbody>\n",
       "    <tr>\n",
       "      <th>0</th>\n",
       "      <td>0081715</td>\n",
       "      <td>2021</td>\n",
       "    </tr>\n",
       "    <tr>\n",
       "      <th>1</th>\n",
       "      <td>0726202</td>\n",
       "      <td>2021</td>\n",
       "    </tr>\n",
       "    <tr>\n",
       "      <th>2</th>\n",
       "      <td>3858022</td>\n",
       "      <td>2021</td>\n",
       "    </tr>\n",
       "    <tr>\n",
       "      <th>3</th>\n",
       "      <td>3899441</td>\n",
       "      <td>2021</td>\n",
       "    </tr>\n",
       "    <tr>\n",
       "      <th>4</th>\n",
       "      <td>3899442</td>\n",
       "      <td>2021</td>\n",
       "    </tr>\n",
       "  </tbody>\n",
       "</table>\n",
       "</div>"
      ],
      "text/plain": [
       "   case_id db_year\n",
       "0  0081715    2021\n",
       "1  0726202    2021\n",
       "2  3858022    2021\n",
       "3  3899441    2021\n",
       "4  3899442    2021"
      ]
     },
     "metadata": {},
     "output_type": "display_data"
    },
    {
     "name": "stdout",
     "output_type": "stream",
     "text": [
      "|----------------------------------------------------------------------------------------------------|\n",
      "\n",
      "КОЛИЧЕСТВО ДУБЛИКАТОВ\n",
      "---------------------\n",
      "0\n",
      "|----------------------------------------------------------------------------------------------------|\n",
      "\n",
      "ПРОЦЕНТ ПРОПУЩЕННЫХ ЗНАЧЕНИЙ\n",
      "--------------------\n",
      "case_id    0.0\n",
      "db_year    0.0\n",
      "dtype: float64\n",
      "|----------------------------------------------------------------------------------------------------|\n",
      "\n",
      "КАТЕГОРИАЛЬНЫЕ ПРИЗНАКИ\n",
      "-----------------------\n",
      "-- Уникальные признака case_id --\n",
      "-------------------------------\n",
      "['0081715' '0726202' '3858022' '3899441' '3899442' '3899445' '3899446'\n",
      " '3899449' '3899450' '3899453' '3899454' '3899457' '3899458' '3899462'\n",
      " '3899465' '3899466' '3899469' '3899470' '3899473' '3899474' '3899477'\n",
      " '3899478' '3899481' '3899482' '3899485' '3899486' '3899489' '3899490'\n",
      " '3899493' '3899494' '3899497' '3899498' '3899501' '3899502' '3899505'\n",
      " '3899506' '3899509' '3899510' '3899513' '3899514' '3899517' '3899518'\n",
      " '3918943' '3981284' '3981292' '3981302' '3981306' '3981318' '3981333'\n",
      " '3981342' '3981348' '3982060' '3982064' '3982068' '3982072' '3982076'\n",
      " '3982882' '3982883' '3982884' '3982886' '3982887' '3982888' '3982890'\n",
      " '3982891' '3982892' '3982894' '3982895' '3982896' '3982898' '3982899'\n",
      " '3982900' '3982902' '3982903' '3982904' '3982906' '3982907' '3982908'\n",
      " '3982910' '3982911' '3982912' '3982914' '3982915' '3982916' '3982918'\n",
      " '3982919' '3982920' '3982922' '3982923' '3982924' '3982926' '3982927'\n",
      " '3982928' '3982930' '3982931' '3982932' '3982934' '3982935' '3982936'\n",
      " '3982937' '3982938' '3982939' '3982940' '3982941' '3982942' '3982944'\n",
      " '3982945' '3982946' '3982947' '3982948' '3982949' '3982950' '3982951'\n",
      " '3982952' '3982953' '3982954' '3982955' '3982956' '3982957' '3982958'\n",
      " '3982959' '3982960' '3984218' '3984219' '3984244' '3984245' '3984246'\n",
      " '3984274' '3984278' '3984280' '3984281' '3984282' '3984283' '3984284'\n",
      " '3984285' '3984313' '3984314' '3984319' '3984324' '3984328' '3984329'\n",
      " '3984333' '3984348' '3984351' '3984352' '3984353' '3984358' '3984359'\n",
      " '3984361' '3984369' '3984376' '3984381' '3984383' '3984389' '3984398'\n",
      " '3984659' '3984857' '3984861' '3984865' '3984869' '3984873' '3984928'\n",
      " '3984932' '3985078' '3985105' '3986468' '3986472' '3986476' '3986480'\n",
      " '3987521' '3987522' '3987525' '3987526' '3987530' '3987534' '3987538'\n",
      " '3987542' '3987546' '3987550' '3987554' '3987558' '3987562' '3987565'\n",
      " '3987570' '3987602' '3987606' '3987612' '3987614' '3987616' '3987618'\n",
      " '3987620' '3987622' '3987624' '3987626' '3987628' '3987632' '3987634'\n",
      " '3987636' '3987640' '3987644' '3987648' '3987656' '3987660' '3987664'\n",
      " '3987668' '3987672' '3987673' '3987677' '3987680' '3987681' '3987682'\n",
      " '3987683' '3987684' '3987685' '3987689' '3987694' '3987697' '3987701'\n",
      " '3987703' '3987706' '3987708' '3987709' '3987710' '3987711' '3987713'\n",
      " '3987719' '3987721' '3987723' '3987725' '3987727' '3987733' '3987736'\n",
      " '3987737' '3987741' '3987747' '3987749' '3987751' '3987753' '3987757'\n",
      " '3987798' '3987802' '3987806' '3987842' '3987884' '3987901' '3987909'\n",
      " '3987913' '3987917' '3988002' '3988006' '3988069' '3988073' '3988077'\n",
      " '3989688' '3989692' '3989696' '3989700' '3989704' '3989708' '3989712'\n",
      " '3989716' '3989720' '3989724' '3989728' '3989732' '3989809' '3989813'\n",
      " '3989817' '3989821' '3989825' '3989829' '3989833' '3990161' '3990175'\n",
      " '3990179' '3990183' '3990187' '3990191' '3990195' '3990199' '3990203'\n",
      " '3990207' '3990211' '3990215' '3990219' '3990223' '3990227' '3990243'\n",
      " '3990247' '3990251' '3990253' '3990255' '3990259' '3990261' '3990265'\n",
      " '3990267' '3990269' '3990271' '3990273' '3990275' '3990277' '3990285'\n",
      " '3990293' '3990297' '3990301' '3990305' '3990309' '3990313' '3990317'\n",
      " '3990318' '3990483' '3990484' '3990488' '3990491' '3990496' '3990500'\n",
      " '3990503' '3990504' '3990507' '3990508' '3990511' '3990512' '3990516'\n",
      " '3990527' '3990531' '3990535' '3990539' '3990556' '3990581' '3990585'\n",
      " '3990589' '3990593' '3990597' '3990601' '3990609' '3990613' '3990621'\n",
      " '3990629' '3990633' '3990637' '3990643' '3990644' '3990646' '3990647'\n",
      " '3990649' '3990651' '3990653' '3990654' '3990655' '3990656' '3990657'\n",
      " '3990659' '3990660' '3990668' '3990669' '3990671' '3990672' '3990673'\n",
      " '3990676' '3990678' '3990683' '3990686' '3990687' '3990689' '3990692'\n",
      " '3990693' '3990696' '3990698' '3990701' '3990702' '3990703' '3990704'\n",
      " '3990705' '3990706' '3990707' '3990710' '3990714' '3990717' '3990719'\n",
      " '3993844' '3993848' '3993852' '3993860' '3993876' '3993880' '3993884'\n",
      " '3993887' '3993888' '3993891' '3993892' '3993895' '3993896' '3993899'\n",
      " '3993900' '3993904' '3993907' '3993908' '3993911' '3993912' '3993916'\n",
      " '3993919' '3995202' '3995203' '3995206' '3995207' '3995210' '3995211'\n",
      " '3995214' '3995218' '3995219' '3995222' '3995223' '3995226' '3995227'\n",
      " '3995230' '3995231' '3995234' '3995235' '3995238' '3995242' '3995246'\n",
      " '3995250' '3995254' '3995257' '3995258' '3995261' '3995262' '3995265'\n",
      " '3995269' '3995273' '3995277' '3995921' '3995925' '3995929' '3995933'\n",
      " '3995937' '3995941' '3995945' '3995949' '3995953' '3995961' '3995965'\n",
      " '3995969' '3995973' '3996570' '3996582' '3996586' '3996590' '3996594'\n",
      " '3996598' '3996602' '3996606' '3996610' '3996614' '3996626' '3996630'\n",
      " '3996634' '3996638' '4000502' '4000503' '4000504' '4000505' '4000506'\n",
      " '4000507' '4000508' '4000509' '4000510' '4000511' '4000513' '4000515'\n",
      " '4000516' '4000517' '4000518' '4000519' '4000520' '4000521' '4000522'\n",
      " '4000523' '4000524' '4000525' '4000526' '4000528' '4000529' '4000530'\n",
      " '4000531' '4000532' '4000533' '4000534' '4000535' '4000536' '4000537'\n",
      " '4000538' '4000539' '4000540' '4000541' '4000543' '4000544' '4000545'\n",
      " '4000546' '4000547' '4000548' '4000644' '4000648' '4000652' '4000656'\n",
      " '4000660' '4000664' '4000667' '4000668' '4000671' '4000672' '4000675'\n",
      " '4000676' '4000679' '4000680' '4000683' '4000684' '4000687' '4000688'\n",
      " '4000691' '4000692' '4000695' '4000696' '4000699' '4000700' '4000703'\n",
      " '4000704' '4000707' '4000708' '4000711' '4000715' '4000716' '4000719'\n",
      " '4000720' '4000722' '4000726' '4000730' '4000734' '4000738' '4000742'\n",
      " '4000750' '4000753' '4000754' '4000757' '4000758' '4000762' '4000766'\n",
      " '4000770' '4000774' '4000778' '4000782' '4000786' '4000789' '4000790'\n",
      " '4000793' '4000794' '4000798' '4001488' '4001492' '4001496' '4001504'\n",
      " '4001508' '4001511' '4001512' '4001515' '4001516' '4001519' '4001520'\n",
      " '4001761' '4001762' '4001763' '4001764' '4001765' '4001766' '4001767'\n",
      " '4001768' '4001770' '4001772' '4001773' '4001776' '4001777' '4001778'\n",
      " '4001780' '4001781' '4001782' '4001784' '4001785' '4001786' '4001788'\n",
      " '4001789' '4001790' '4001792' '4001793' '4001794' '4001796' '4001797'\n",
      " '4001798' '4001800' '4001802' '4001804' '4001805' '4001806' '4001808'\n",
      " '4001809' '4001810' '4001812' '4001813' '4001814' '4001816' '4001817'\n",
      " '4001818' '4001819' '4001820' '4001821' '4001822' '4001823' '4001824'\n",
      " '4001825' '4001826' '4001827' '4001828' '4001829' '4001830' '4001831'\n",
      " '4001832' '4001833' '4001834' '4001835' '4001836' '4001837' '4001838'\n",
      " '4001839' '4001840' '4003283' '4003284' '4003287' '4003288' '4003291'\n",
      " '4003292' '4003295' '4003299' '4003300' '4003303' '4003304' '4003307'\n",
      " '4003308' '4003311' '4003319' '4003320' '4003323' '4003324' '4003327'\n",
      " '4003328' '4003332' '4003359' '4003362' '4003364' '4003365' '4003366'\n",
      " '4003368' '4003369' '4003370' '4003372' '4003373' '4003374' '4003376'\n",
      " '4003377' '4003378' '4003379' '4003380' '4003381' '4003382' '4003383'\n",
      " '4003384' '4003385' '4003387' '4003388' '4003389' '4003391' '4003392'\n",
      " '4003393' '4003395' '4003396' '4003397' '4003399' '4003400' '4003401'\n",
      " '4003404' '4003405' '4003408' '4003409' '4003411' '4003412' '4003413'\n",
      " '4003415' '4003416' '4003419' '4003420' '4003421' '4003423' '4003424'\n",
      " '4003427' '4003428' '4003429' '4003431' '4003432' '4003433' '4003435'\n",
      " '4003436' '4003437' '4003439' '4003440' '4003441' '4003442' '4003443'\n",
      " '4003445' '4003446' '4003447' '4003449' '4003450' '4003451' '4003453'\n",
      " '4003454' '4003455' '4003458' '4003459' '4003462' '4003463' '4003466'\n",
      " '4003467' '4003470' '4003471' '4003474' '4003475' '4003478' '4003479'\n",
      " '4003482' '4003483' '4003486' '4003487' '4003490' '4003491' '4003494'\n",
      " '4003495' '4003498' '4003499' '4003502' '4003503' '4003506' '4003507'\n",
      " '4003510' '4003513' '4003514' '4003517' '4003518' '4004161' '4004162'\n",
      " '4004163' '4004164' '4004165' '4004166' '4004168' '4004169' '4004170'\n",
      " '4004171' '4004172' '4004174' '4004175' '4004176' '4004177' '4004178'\n",
      " '4004179' '4004180' '4004181' '4004182' '4004183' '4004184' '4004185'\n",
      " '4004186' '4004187' '4004188' '4004189' '4004190' '4004191' '4004192'\n",
      " '4004193' '4004194' '4004195' '4004196' '4004197' '4004198' '4004199'\n",
      " '4004200' '4004201' '4004202' '4004203' '4004204' '4004205' '4004209'\n",
      " '4004210' '4004211' '4004212' '4004213' '4004214' '4004215' '4004217'\n",
      " '4004218' '4004219' '4004221' '4004222' '4004223' '4004225' '4004226'\n",
      " '4004227' '4004230' '4004231' '4004233' '4004234' '4004237' '4004238'\n",
      " '4004239' '4004244' '4004256' '4004264' '4004268' '4004272' '4004276'\n",
      " '4004280' '4004284' '4004291' '4004292' '4004295' '4004296' '4004299'\n",
      " '4004300' '4004303' '4004304' '4004308' '4004311' '4004312' '4004315'\n",
      " '4004316' '4004319' '4004320' '4004481' '4004482' '4004485' '4004486'\n",
      " '4004489' '4004490' '4004493' '4004497' '4004501' '4004505' '4004509'\n",
      " '4004513' '4004517' '4004521' '4004525' '4004529' '4004533' '4004537'\n",
      " '4004541' '4004549' '4004553' '4004557' '4004562' '4004563' '4004564'\n",
      " '4004566' '4004570' '4004571' '4004572' '4004574' '4004575' '4004576'\n",
      " '4004578' '4004579' '4004580' '4004583' '4004584' '4004586' '4004587'\n",
      " '4004588' '4004590' '4004591' '4004592' '4004594' '4004595' '4004596'\n",
      " '4004597' '4004599' '4004600' '4004601' '4004602' '4004603' '4004604'\n",
      " '4004605' '4004606' '4004607' '4004608' '4004609' '4004610' '4004611'\n",
      " '4004612' '4004613' '4004614' '4004615' '4004616' '4004617' '4004618'\n",
      " '4004619' '4004620' '4004621' '4004622' '4004623' '4004624' '4004625'\n",
      " '4004626' '4004627' '4004628' '4004629' '4004630' '4004631' '4004632'\n",
      " '4004633' '4004634' '4004635' '4004636' '4004637' '4004638' '4004639'\n",
      " '4004640' '4005021' '4005025' '4005033' '4005037' '4006082' '4006083'\n",
      " '4006086' '4006087' '4006091' '4006094' '4006095' '4006098' '4006099'\n",
      " '4006102' '4006103' '4006106' '4006107' '4006110' '4006111' '4006113'\n",
      " '4006114' '4006117' '4006118' '4006119' '4006121' '4006122' '4006123'\n",
      " '4006125' '4006127' '4006128' '4006129' '4006130' '4006131' '4006133'\n",
      " '4006134' '4006135' '4006137' '4006138' '4006141' '4006142' '4006145'\n",
      " '4006146' '4006150' '4006153' '4006154' '4006155' '4006157' '4006158'\n",
      " '4006159' '4007602' '4007603' '4007604' '4007606' '4007607' '4007608'\n",
      " '4007610' '4007611' '4007612' '4007614' '4007615' '4007616' '4007618'\n",
      " '4007620' '4007623' '4007624' '4007627' '4007628' '4007630']\n",
      "\n",
      "-- Уникальные признака db_year --\n",
      "-------------------------------\n",
      "['2021']\n",
      "\n",
      "|----------------------------------------------------------------------------------------------------|\n",
      "\n",
      "КОЛИЧЕСТВЕННЫЕ ПРИЗНАКИ\n",
      "-----------------------\n"
     ]
    }
   ],
   "source": [
    "case_ids = \"\"\"\n",
    "SELECT *\n",
    "FROM case_ids\n",
    "LIMIT 1000\n",
    "\"\"\"\n",
    "df_info(pd.read_sql_query(case_ids, engine))"
   ]
  },
  {
   "cell_type": "markdown",
   "metadata": {},
   "source": [
    "Описания для данной таблице не было предоставлено. Однако полученные данные точно отличаются от ER-диаграммы. Что содержит столбец `db_year` не известно. В выгруженных данных он содержит только одно значение - 2021"
   ]
  },
  {
   "cell_type": "markdown",
   "metadata": {},
   "source": [
    "## Вывод"
   ]
  },
  {
   "cell_type": "markdown",
   "metadata": {},
   "source": [
    "Все заявленные таблицы пристутствуют в базе данных. Однако некоторые таблица отличаются от представленного описания. Также в таблице `case_ids` был обнаружен столбец `db_year`, которого нет в описании. Что за информация содержится в этом столбце неизвестно. Все таблицы содержат пропуски. Также в некоторых таблица требуется преобразование типов данных в столбцах.  \n",
    "Также есть вопросы к постановке задачи и предоставленным данным. В базе данных содержится информация только о случаях случившихся ДТП, но нет информации о поездках без ДТП (не очень даже понятно, как собирать эту информацию). Поэтому придется придерживаться предположения заказчика: предстказывать виновность водителя. Однако на начальном этапе данная модель не выглядит очень полезной"
   ]
  },
  {
   "cell_type": "markdown",
   "metadata": {},
   "source": [
    "#  Проведите статистический анализ факторов ДТП"
   ]
  },
  {
   "cell_type": "markdown",
   "metadata": {},
   "source": [
    "## Изучение зависимости количества аварий от месяца"
   ]
  },
  {
   "cell_type": "markdown",
   "metadata": {},
   "source": [
    "Выгрузим из БД информацию о том, какое количество аварий происходило в каждый месяц, представленный в БД"
   ]
  },
  {
   "cell_type": "code",
   "execution_count": 14,
   "metadata": {},
   "outputs": [
    {
     "data": {
      "text/html": [
       "<div>\n",
       "<style scoped>\n",
       "    .dataframe tbody tr th:only-of-type {\n",
       "        vertical-align: middle;\n",
       "    }\n",
       "\n",
       "    .dataframe tbody tr th {\n",
       "        vertical-align: top;\n",
       "    }\n",
       "\n",
       "    .dataframe thead th {\n",
       "        text-align: right;\n",
       "    }\n",
       "</style>\n",
       "<table border=\"1\" class=\"dataframe\">\n",
       "  <thead>\n",
       "    <tr style=\"text-align: right;\">\n",
       "      <th></th>\n",
       "      <th>month</th>\n",
       "      <th>collision</th>\n",
       "    </tr>\n",
       "  </thead>\n",
       "  <tbody>\n",
       "    <tr>\n",
       "      <th>0</th>\n",
       "      <td>2009-01-01</td>\n",
       "      <td>35062</td>\n",
       "    </tr>\n",
       "    <tr>\n",
       "      <th>1</th>\n",
       "      <td>2009-02-01</td>\n",
       "      <td>34480</td>\n",
       "    </tr>\n",
       "    <tr>\n",
       "      <th>2</th>\n",
       "      <td>2009-03-01</td>\n",
       "      <td>36648</td>\n",
       "    </tr>\n",
       "    <tr>\n",
       "      <th>3</th>\n",
       "      <td>2009-04-01</td>\n",
       "      <td>35239</td>\n",
       "    </tr>\n",
       "    <tr>\n",
       "      <th>4</th>\n",
       "      <td>2009-05-01</td>\n",
       "      <td>36916</td>\n",
       "    </tr>\n",
       "  </tbody>\n",
       "</table>\n",
       "</div>"
      ],
      "text/plain": [
       "        month  collision\n",
       "0  2009-01-01      35062\n",
       "1  2009-02-01      34480\n",
       "2  2009-03-01      36648\n",
       "3  2009-04-01      35239\n",
       "4  2009-05-01      36916"
      ]
     },
     "execution_count": 14,
     "metadata": {},
     "output_type": "execute_result"
    }
   ],
   "source": [
    "collisions_in_month_query = '''\n",
    "SELECT DATE_TRUNC('month', collision_date)::date AS month,\n",
    "       COUNT(case_id) AS collision\n",
    "FROM collisions\n",
    "GROUP BY DATE_TRUNC('month', collision_date)::date\n",
    "'''\n",
    "collisions_in_month = pd.read_sql_query(collisions_in_month_query, engine)\n",
    "collisions_in_month.head()"
   ]
  },
  {
   "cell_type": "code",
   "execution_count": 15,
   "metadata": {},
   "outputs": [
    {
     "data": {
      "image/png": "[encoded data removed]",
      "text/plain": [
       "<Figure size 1200x1000 with 1 Axes>"
      ]
     },
     "metadata": {},
     "output_type": "display_data"
    }
   ],
   "source": [
    "_, ax = plt.subplots(figsize=(12, 10))\n",
    "sns.barplot(collisions_in_month, x='collision', y='month', ax=ax)\n",
    "ax.set(\n",
    "    xlabel='Количество',\n",
    "    ylabel='Месяц',\n",
    "    title='Количество аварий в зависимости от месяца'\n",
    ");"
   ]
  },
  {
   "cell_type": "markdown",
   "metadata": {},
   "source": [
    "По графику можно заметить начиная с июня 2012 года данные вообще практически перестали поступать в БД. Поэтому для получения релевантной картины необходимо исключить все данные позднее 2011 года."
   ]
  },
  {
   "cell_type": "code",
   "execution_count": 16,
   "metadata": {},
   "outputs": [
    {
     "data": {
      "text/html": [
       "<div>\n",
       "<style scoped>\n",
       "    .dataframe tbody tr th:only-of-type {\n",
       "        vertical-align: middle;\n",
       "    }\n",
       "\n",
       "    .dataframe tbody tr th {\n",
       "        vertical-align: top;\n",
       "    }\n",
       "\n",
       "    .dataframe thead th {\n",
       "        text-align: right;\n",
       "    }\n",
       "</style>\n",
       "<table border=\"1\" class=\"dataframe\">\n",
       "  <thead>\n",
       "    <tr style=\"text-align: right;\">\n",
       "      <th></th>\n",
       "      <th>month</th>\n",
       "      <th>collision</th>\n",
       "    </tr>\n",
       "  </thead>\n",
       "  <tbody>\n",
       "    <tr>\n",
       "      <th>0</th>\n",
       "      <td>1</td>\n",
       "      <td>99880</td>\n",
       "    </tr>\n",
       "    <tr>\n",
       "      <th>1</th>\n",
       "      <td>2</td>\n",
       "      <td>98373</td>\n",
       "    </tr>\n",
       "    <tr>\n",
       "      <th>2</th>\n",
       "      <td>3</td>\n",
       "      <td>107036</td>\n",
       "    </tr>\n",
       "    <tr>\n",
       "      <th>3</th>\n",
       "      <td>4</td>\n",
       "      <td>101032</td>\n",
       "    </tr>\n",
       "    <tr>\n",
       "      <th>4</th>\n",
       "      <td>5</td>\n",
       "      <td>105148</td>\n",
       "    </tr>\n",
       "    <tr>\n",
       "      <th>5</th>\n",
       "      <td>6</td>\n",
       "      <td>99531</td>\n",
       "    </tr>\n",
       "    <tr>\n",
       "      <th>6</th>\n",
       "      <td>7</td>\n",
       "      <td>101835</td>\n",
       "    </tr>\n",
       "    <tr>\n",
       "      <th>7</th>\n",
       "      <td>8</td>\n",
       "      <td>103467</td>\n",
       "    </tr>\n",
       "    <tr>\n",
       "      <th>8</th>\n",
       "      <td>9</td>\n",
       "      <td>104649</td>\n",
       "    </tr>\n",
       "    <tr>\n",
       "      <th>9</th>\n",
       "      <td>10</td>\n",
       "      <td>111933</td>\n",
       "    </tr>\n",
       "    <tr>\n",
       "      <th>10</th>\n",
       "      <td>11</td>\n",
       "      <td>104517</td>\n",
       "    </tr>\n",
       "    <tr>\n",
       "      <th>11</th>\n",
       "      <td>12</td>\n",
       "      <td>107745</td>\n",
       "    </tr>\n",
       "  </tbody>\n",
       "</table>\n",
       "</div>"
      ],
      "text/plain": [
       "    month  collision\n",
       "0       1      99880\n",
       "1       2      98373\n",
       "2       3     107036\n",
       "3       4     101032\n",
       "4       5     105148\n",
       "5       6      99531\n",
       "6       7     101835\n",
       "7       8     103467\n",
       "8       9     104649\n",
       "9      10     111933\n",
       "10     11     104517\n",
       "11     12     107745"
      ]
     },
     "execution_count": 16,
     "metadata": {},
     "output_type": "execute_result"
    }
   ],
   "source": [
    "collisions_in_month_before_2012_query = '''\n",
    "SELECT EXTRACT(MONTH FROM collision_date)::integer AS month,\n",
    "       COUNT(case_id) AS collision\n",
    "FROM collisions\n",
    "WHERE EXTRACT(YEAR FROM collision_date) < 2012\n",
    "GROUP BY EXTRACT(MONTH FROM collision_date)\n",
    "'''\n",
    "collisions_in_month_before_2012 = pd.read_sql_query(collisions_in_month_before_2012_query, engine)\n",
    "collisions_in_month_before_2012"
   ]
  },
  {
   "cell_type": "code",
   "execution_count": 17,
   "metadata": {},
   "outputs": [
    {
     "data": {
      "image/png": "[encoded data removed]",
      "text/plain": [
       "<Figure size 1200x600 with 1 Axes>"
      ]
     },
     "metadata": {},
     "output_type": "display_data"
    }
   ],
   "source": [
    "_, ax = plt.subplots(figsize=(12, 6))\n",
    "sns.barplot(collisions_in_month_before_2012, x='collision', y='month', orient='y', ax=ax)\n",
    "ax.set(\n",
    "    xlabel='Количество',\n",
    "    ylabel='Месяц',\n",
    "    title='Количество аварий в зависимости от месяца (2009-2011)'\n",
    ")\n",
    "ax.bar_label(ax.containers[0], fontsize=10);"
   ]
  },
  {
   "cell_type": "markdown",
   "metadata": {},
   "source": [
    "По графику можно заметить, что самыми аварийными являются месяцы октябярь, декабрь и март. Данную статистику можно объяснить тем, что в эти месяцы достаточно часто тяжелые погодные условия для передвижения на автомобиле (гололедица, снегопад и тд). Однако для более ясного понимания стоит изучить погодные условия в регионах, в которых фиксируются аварии (насколько я понимаю, все регионы относятся к Америке).  \n",
    "Также стоит заметить, что в выгрузке присутствуют данные за 3 года. И разница между месяцами небольшая. Следовательно, можно предположить, что на вероятность аварии влияет не столько месяц, сколько погода на улице в момент поездки"
   ]
  },
  {
   "cell_type": "markdown",
   "metadata": {},
   "source": [
    "## Задачи для коллег"
   ]
  },
  {
   "cell_type": "markdown",
   "metadata": {},
   "source": [
    "1. Определить, есть ли зависимость между возрастом автомобиля и серьезностью проишествия    \n",
    "2. Определить, автомобили с каким кузовом чаще всего попадают в аварию  \n",
    "3. Определить, чаще ли нетрезвые водители попадают в аварию    \n",
    "4. Определить, при каком освещении автомобилисты чаще попадают в аварию  \n",
    "5. Определить, есть ли зависимость между наличием телефона в руках у водителя и вероятностью попасть а аварию  \n",
    "6. Определить, при каком состоянии дороги автомобилисты чаше попадают в аварию  "
   ]
  },
  {
   "cell_type": "markdown",
   "metadata": {},
   "source": [
    "## Влияет ли возраст автомобиля на серьезность аварии"
   ]
  },
  {
   "cell_type": "code",
   "execution_count": 18,
   "metadata": {},
   "outputs": [
    {
     "data": {
      "text/html": [
       "<div>\n",
       "<style scoped>\n",
       "    .dataframe tbody tr th:only-of-type {\n",
       "        vertical-align: middle;\n",
       "    }\n",
       "\n",
       "    .dataframe tbody tr th {\n",
       "        vertical-align: top;\n",
       "    }\n",
       "\n",
       "    .dataframe thead th {\n",
       "        text-align: right;\n",
       "    }\n",
       "</style>\n",
       "<table border=\"1\" class=\"dataframe\">\n",
       "  <thead>\n",
       "    <tr style=\"text-align: right;\">\n",
       "      <th></th>\n",
       "      <th>case_id</th>\n",
       "      <th>vehicle_age</th>\n",
       "      <th>collision_damage</th>\n",
       "    </tr>\n",
       "  </thead>\n",
       "  <tbody>\n",
       "    <tr>\n",
       "      <th>0</th>\n",
       "      <td>5305162</td>\n",
       "      <td>8.0</td>\n",
       "      <td>small damage</td>\n",
       "    </tr>\n",
       "    <tr>\n",
       "      <th>1</th>\n",
       "      <td>4091920</td>\n",
       "      <td>11.0</td>\n",
       "      <td>scratch</td>\n",
       "    </tr>\n",
       "    <tr>\n",
       "      <th>2</th>\n",
       "      <td>5305300</td>\n",
       "      <td>6.0</td>\n",
       "      <td>small damage</td>\n",
       "    </tr>\n",
       "    <tr>\n",
       "      <th>3</th>\n",
       "      <td>5365340</td>\n",
       "      <td>3.0</td>\n",
       "      <td>small damage</td>\n",
       "    </tr>\n",
       "    <tr>\n",
       "      <th>4</th>\n",
       "      <td>5366604</td>\n",
       "      <td>7.0</td>\n",
       "      <td>scratch</td>\n",
       "    </tr>\n",
       "  </tbody>\n",
       "</table>\n",
       "</div>"
      ],
      "text/plain": [
       "   case_id  vehicle_age collision_damage\n",
       "0  5305162          8.0     small damage\n",
       "1  4091920         11.0          scratch\n",
       "2  5305300          6.0     small damage\n",
       "3  5365340          3.0     small damage\n",
       "4  5366604          7.0          scratch"
      ]
     },
     "execution_count": 18,
     "metadata": {},
     "output_type": "execute_result"
    }
   ],
   "source": [
    "vehicle_age_query = '''\n",
    "SELECT v.case_id,\n",
    "       v.vehicle_age,\n",
    "       c.collision_damage\n",
    "FROM vehicles AS v\n",
    "JOIN collisions AS c ON v.case_id=c.case_id\n",
    "'''\n",
    "vehicle_age = pd.read_sql_query(vehicle_age_query, engine)\n",
    "vehicle_age.head()"
   ]
  },
  {
   "cell_type": "code",
   "execution_count": 19,
   "metadata": {},
   "outputs": [
    {
     "data": {
      "text/plain": [
       "161.0"
      ]
     },
     "execution_count": 19,
     "metadata": {},
     "output_type": "execute_result"
    }
   ],
   "source": [
    "vehicle_age['vehicle_age'].max()"
   ]
  },
  {
   "cell_type": "code",
   "execution_count": 20,
   "metadata": {},
   "outputs": [],
   "source": [
    "vehicle_age = vehicle_age.query('0 < vehicle_age <= 20')"
   ]
  },
  {
   "cell_type": "code",
   "execution_count": 21,
   "metadata": {},
   "outputs": [
    {
     "data": {
      "text/html": [
       "<div>\n",
       "<style scoped>\n",
       "    .dataframe tbody tr th:only-of-type {\n",
       "        vertical-align: middle;\n",
       "    }\n",
       "\n",
       "    .dataframe tbody tr th {\n",
       "        vertical-align: top;\n",
       "    }\n",
       "\n",
       "    .dataframe thead tr th {\n",
       "        text-align: left;\n",
       "    }\n",
       "\n",
       "    .dataframe thead tr:last-of-type th {\n",
       "        text-align: right;\n",
       "    }\n",
       "</style>\n",
       "<table border=\"1\" class=\"dataframe\">\n",
       "  <thead>\n",
       "    <tr>\n",
       "      <th></th>\n",
       "      <th>mean</th>\n",
       "      <th>median</th>\n",
       "      <th>count</th>\n",
       "      <th>min</th>\n",
       "      <th>max</th>\n",
       "    </tr>\n",
       "    <tr>\n",
       "      <th></th>\n",
       "      <th>vehicle_age</th>\n",
       "      <th>vehicle_age</th>\n",
       "      <th>vehicle_age</th>\n",
       "      <th>vehicle_age</th>\n",
       "      <th>vehicle_age</th>\n",
       "    </tr>\n",
       "    <tr>\n",
       "      <th>collision_damage</th>\n",
       "      <th></th>\n",
       "      <th></th>\n",
       "      <th></th>\n",
       "      <th></th>\n",
       "      <th></th>\n",
       "    </tr>\n",
       "  </thead>\n",
       "  <tbody>\n",
       "    <tr>\n",
       "      <th>fatal</th>\n",
       "      <td>6.312614</td>\n",
       "      <td>6.0</td>\n",
       "      <td>14769</td>\n",
       "      <td>1.0</td>\n",
       "      <td>16.0</td>\n",
       "    </tr>\n",
       "    <tr>\n",
       "      <th>middle damage</th>\n",
       "      <td>5.350734</td>\n",
       "      <td>5.0</td>\n",
       "      <td>212657</td>\n",
       "      <td>1.0</td>\n",
       "      <td>20.0</td>\n",
       "    </tr>\n",
       "    <tr>\n",
       "      <th>scratch</th>\n",
       "      <td>5.673283</td>\n",
       "      <td>5.0</td>\n",
       "      <td>440656</td>\n",
       "      <td>1.0</td>\n",
       "      <td>20.0</td>\n",
       "    </tr>\n",
       "    <tr>\n",
       "      <th>severe damage</th>\n",
       "      <td>5.583091</td>\n",
       "      <td>5.0</td>\n",
       "      <td>39836</td>\n",
       "      <td>1.0</td>\n",
       "      <td>16.0</td>\n",
       "    </tr>\n",
       "    <tr>\n",
       "      <th>small damage</th>\n",
       "      <td>4.683649</td>\n",
       "      <td>4.0</td>\n",
       "      <td>248455</td>\n",
       "      <td>1.0</td>\n",
       "      <td>18.0</td>\n",
       "    </tr>\n",
       "  </tbody>\n",
       "</table>\n",
       "</div>"
      ],
      "text/plain": [
       "                        mean      median       count         min         max\n",
       "                 vehicle_age vehicle_age vehicle_age vehicle_age vehicle_age\n",
       "collision_damage                                                            \n",
       "fatal               6.312614         6.0       14769         1.0        16.0\n",
       "middle damage       5.350734         5.0      212657         1.0        20.0\n",
       "scratch             5.673283         5.0      440656         1.0        20.0\n",
       "severe damage       5.583091         5.0       39836         1.0        16.0\n",
       "small damage        4.683649         4.0      248455         1.0        18.0"
      ]
     },
     "execution_count": 21,
     "metadata": {},
     "output_type": "execute_result"
    }
   ],
   "source": [
    "vehicle_age.pivot_table(index='collision_damage', values='vehicle_age', aggfunc=['mean', 'median', 'count', 'min', 'max'])"
   ]
  },
  {
   "cell_type": "markdown",
   "metadata": {},
   "source": [
    "Можно заметить, что с увеличением серьезности происшествия средний возраст автомобиля увеличивается. Это не противоречит логике, ведь у более старых автомобилей больше износ деталей."
   ]
  },
  {
   "cell_type": "markdown",
   "metadata": {},
   "source": [
    "## Исследовать при каком освещении автомобилисты чаще попадают в аварии"
   ]
  },
  {
   "cell_type": "code",
   "execution_count": 22,
   "metadata": {},
   "outputs": [
    {
     "data": {
      "text/html": [
       "<div>\n",
       "<style scoped>\n",
       "    .dataframe tbody tr th:only-of-type {\n",
       "        vertical-align: middle;\n",
       "    }\n",
       "\n",
       "    .dataframe tbody tr th {\n",
       "        vertical-align: top;\n",
       "    }\n",
       "\n",
       "    .dataframe thead th {\n",
       "        text-align: right;\n",
       "    }\n",
       "</style>\n",
       "<table border=\"1\" class=\"dataframe\">\n",
       "  <thead>\n",
       "    <tr style=\"text-align: right;\">\n",
       "      <th></th>\n",
       "      <th>lighting</th>\n",
       "      <th>collision_damage</th>\n",
       "      <th>count</th>\n",
       "      <th>count_lighting</th>\n",
       "    </tr>\n",
       "  </thead>\n",
       "  <tbody>\n",
       "    <tr>\n",
       "      <th>0</th>\n",
       "      <td>dark with no street lights</td>\n",
       "      <td>fatal</td>\n",
       "      <td>3329</td>\n",
       "      <td>155827.0</td>\n",
       "    </tr>\n",
       "    <tr>\n",
       "      <th>1</th>\n",
       "      <td>dark with no street lights</td>\n",
       "      <td>middle damage</td>\n",
       "      <td>18656</td>\n",
       "      <td>155827.0</td>\n",
       "    </tr>\n",
       "    <tr>\n",
       "      <th>2</th>\n",
       "      <td>dark with no street lights</td>\n",
       "      <td>scratch</td>\n",
       "      <td>29694</td>\n",
       "      <td>155827.0</td>\n",
       "    </tr>\n",
       "    <tr>\n",
       "      <th>3</th>\n",
       "      <td>dark with no street lights</td>\n",
       "      <td>severe damage</td>\n",
       "      <td>5656</td>\n",
       "      <td>155827.0</td>\n",
       "    </tr>\n",
       "    <tr>\n",
       "      <th>4</th>\n",
       "      <td>dark with no street lights</td>\n",
       "      <td>small damage</td>\n",
       "      <td>98492</td>\n",
       "      <td>155827.0</td>\n",
       "    </tr>\n",
       "  </tbody>\n",
       "</table>\n",
       "</div>"
      ],
      "text/plain": [
       "                     lighting collision_damage  count  count_lighting\n",
       "0  dark with no street lights            fatal   3329        155827.0\n",
       "1  dark with no street lights    middle damage  18656        155827.0\n",
       "2  dark with no street lights          scratch  29694        155827.0\n",
       "3  dark with no street lights    severe damage   5656        155827.0\n",
       "4  dark with no street lights     small damage  98492        155827.0"
      ]
     },
     "execution_count": 22,
     "metadata": {},
     "output_type": "execute_result"
    }
   ],
   "source": [
    "vehicle_lighting_query = '''\n",
    "WITH t1 AS(\n",
    "    SELECT c.lighting,\n",
    "           c.collision_damage,\n",
    "           COUNT(c.case_id) AS count\n",
    "    FROM parties AS p\n",
    "    JOIN collisions AS c ON p.case_id=c.case_id\n",
    "    WHERE p.party_type='car'\n",
    "    GROUP BY c.lighting, c.collision_damage\n",
    ")\n",
    "SELECT *,\n",
    "       SUM(count) OVER (PARTITION BY t1.lighting) AS count_lighting\n",
    "FROM t1\n",
    "'''\n",
    "vehicle_lighting = pd.read_sql_query(vehicle_lighting_query, engine)\n",
    "vehicle_lighting.head()"
   ]
  },
  {
   "cell_type": "code",
   "execution_count": 23,
   "metadata": {},
   "outputs": [],
   "source": [
    "vehicle_lighting = vehicle_lighting[~vehicle_lighting['lighting'].isna()]"
   ]
  },
  {
   "cell_type": "code",
   "execution_count": 24,
   "metadata": {},
   "outputs": [
    {
     "data": {
      "text/html": [
       "<div>\n",
       "<style scoped>\n",
       "    .dataframe tbody tr th:only-of-type {\n",
       "        vertical-align: middle;\n",
       "    }\n",
       "\n",
       "    .dataframe tbody tr th {\n",
       "        vertical-align: top;\n",
       "    }\n",
       "\n",
       "    .dataframe thead th {\n",
       "        text-align: right;\n",
       "    }\n",
       "</style>\n",
       "<table border=\"1\" class=\"dataframe\">\n",
       "  <thead>\n",
       "    <tr style=\"text-align: right;\">\n",
       "      <th></th>\n",
       "      <th>lighting</th>\n",
       "      <th>collision_damage</th>\n",
       "      <th>count</th>\n",
       "      <th>count_lighting</th>\n",
       "      <th>percent_damage</th>\n",
       "    </tr>\n",
       "  </thead>\n",
       "  <tbody>\n",
       "    <tr>\n",
       "      <th>0</th>\n",
       "      <td>dark with no street lights</td>\n",
       "      <td>fatal</td>\n",
       "      <td>3329</td>\n",
       "      <td>155827.0</td>\n",
       "      <td>0.021363</td>\n",
       "    </tr>\n",
       "    <tr>\n",
       "      <th>1</th>\n",
       "      <td>dark with no street lights</td>\n",
       "      <td>middle damage</td>\n",
       "      <td>18656</td>\n",
       "      <td>155827.0</td>\n",
       "      <td>0.119723</td>\n",
       "    </tr>\n",
       "    <tr>\n",
       "      <th>2</th>\n",
       "      <td>dark with no street lights</td>\n",
       "      <td>scratch</td>\n",
       "      <td>29694</td>\n",
       "      <td>155827.0</td>\n",
       "      <td>0.190557</td>\n",
       "    </tr>\n",
       "    <tr>\n",
       "      <th>3</th>\n",
       "      <td>dark with no street lights</td>\n",
       "      <td>severe damage</td>\n",
       "      <td>5656</td>\n",
       "      <td>155827.0</td>\n",
       "      <td>0.036297</td>\n",
       "    </tr>\n",
       "    <tr>\n",
       "      <th>4</th>\n",
       "      <td>dark with no street lights</td>\n",
       "      <td>small damage</td>\n",
       "      <td>98492</td>\n",
       "      <td>155827.0</td>\n",
       "      <td>0.632060</td>\n",
       "    </tr>\n",
       "  </tbody>\n",
       "</table>\n",
       "</div>"
      ],
      "text/plain": [
       "                     lighting collision_damage  count  count_lighting  \\\n",
       "0  dark with no street lights            fatal   3329        155827.0   \n",
       "1  dark with no street lights    middle damage  18656        155827.0   \n",
       "2  dark with no street lights          scratch  29694        155827.0   \n",
       "3  dark with no street lights    severe damage   5656        155827.0   \n",
       "4  dark with no street lights     small damage  98492        155827.0   \n",
       "\n",
       "   percent_damage  \n",
       "0        0.021363  \n",
       "1        0.119723  \n",
       "2        0.190557  \n",
       "3        0.036297  \n",
       "4        0.632060  "
      ]
     },
     "execution_count": 24,
     "metadata": {},
     "output_type": "execute_result"
    }
   ],
   "source": [
    "vehicle_lighting['percent_damage'] = vehicle_lighting['count'] / vehicle_lighting['count_lighting'] \n",
    "vehicle_lighting.head()"
   ]
  },
  {
   "cell_type": "code",
   "execution_count": 25,
   "metadata": {},
   "outputs": [
    {
     "data": {
      "image/png": "[encoded data removed]",
      "text/plain": [
       "<Figure size 1800x600 with 1 Axes>"
      ]
     },
     "metadata": {},
     "output_type": "display_data"
    }
   ],
   "source": [
    "_, ax = plt.subplots(figsize=(18, 6))\n",
    "sns.barplot(vehicle_lighting, x='lighting', y='count', hue='collision_damage', ax=ax)\n",
    "ax.set(\n",
    "    xlabel='Освещение',\n",
    "    ylabel='Количество аварий',\n",
    "    title='Количество аварий в зависимости от освещения'\n",
    ");"
   ]
  },
  {
   "cell_type": "markdown",
   "metadata": {},
   "source": [
    "Как можно заметить, большинство аварий происходят при дневном освещнее. Это можно объяснить тем, что в это время много машин на дороге и вероятность аварии повышается. При это странно, что на освешенных в темное время дня улицах аварии происходят чаще, чем на неосвещенных. Возможно, это тоже связано с тем, какое количество машин проезжает по темным улицам"
   ]
  },
  {
   "cell_type": "code",
   "execution_count": 26,
   "metadata": {},
   "outputs": [
    {
     "data": {
      "image/png": "[encoded data removed]",
      "text/plain": [
       "<Figure size 1800x600 with 1 Axes>"
      ]
     },
     "metadata": {},
     "output_type": "display_data"
    }
   ],
   "source": [
    "_, ax = plt.subplots(figsize=(18, 6))\n",
    "sns.barplot(vehicle_lighting, x='lighting', y='percent_damage', hue='collision_damage', ax=ax)\n",
    "ax.set(\n",
    "    xlabel='Освещение',\n",
    "    ylabel='Процент критичности авари от общего количества',\n",
    "    title='Распределение серьезности аварии в зависимости от освещения'\n",
    ");"
   ]
  },
  {
   "cell_type": "markdown",
   "metadata": {},
   "source": [
    "По данному графику можно заметить, что от освещения не зависит серьезность аварии. При любом освещении чаще всего происзодят мелкие аварии"
   ]
  },
  {
   "cell_type": "markdown",
   "metadata": {},
   "source": [
    "## Вывод"
   ]
  },
  {
   "cell_type": "markdown",
   "metadata": {},
   "source": [
    "Из проведенного статистического анализа можно сделать следующие выводы:\n",
    "1. По данным за 2009-2011 года больше всего аварий происходит в октябре, декабре, марте. Скорее всего, это связано с погодными условиями (гололед, снегопод и тд). Меньше всего аварий происходи в январе (скорее всего, связано с праздниками и тем, что люди в основном сидят дома), феврале (скорее всего, связано с тем, что месяц короткий) и июне (скорее всего, связано с тем, что люди уезжают в отпуска и реже ездят на машине). Также было замечено, что начиная с июня 2012 года количество записей в базе данных резко падает. Возможно, это связано со сбоями в БД или ее вообще перестали регулярно заполнять  \n",
    "2. Можно заметить, что чем выше серьезность аварии, тем больше средний возраст автомобилей, попадающих в эти аварии. Возможно, это связано с большим износом деталей.  \n",
    "3. Также были сделаны выводы о том, что чаще всего аварии происходят днем, когда на дорогах большая загрузка. При этом серьезность аварии не зависит от освещенности."
   ]
  },
  {
   "cell_type": "markdown",
   "metadata": {},
   "source": [
    "# Создайте модель для оценки водительского риска"
   ]
  },
  {
   "cell_type": "markdown",
   "metadata": {},
   "source": [
    "Заказчиком выдвинты следующие требования к данным:\n",
    "1. Выберите тип виновника — только машина (car).  \n",
    "2. Выбрать случаи, когда ДТП привело к любым повреждениям транспортного средства, кроме типа SCRATCH (царапина).  \n",
    "3. Для моделирования ограничиться данными за 2012 год — они самые свежие (С учетом того, что за 2012 год данные есть только до июня, данное требование является странным и может привести к тому, что модель будет работать хуже в определенные месяцы).  \n",
    "4. Учесть фактор возраста автомобиля  \n",
    "  \n",
    "Выгрузим данные с учетом требований заказчика"
   ]
  },
  {
   "cell_type": "markdown",
   "metadata": {},
   "source": [
    "Из предоставленных нам таблиц возьмем все столбцы, кроме:\n",
    "1. Из таблицы collisions:\n",
    "    * COLLISION_DAMAGE - Серьёзность происшествия. Данную информацию можно определить только после аварии. Она никак не поможет предсказывать виновность водителя  \n",
    "    * COUNTY_CITY_LOCATION - Номер географических районов, где произошло ДТП. Информация в данном столбце представлена в виде числа, а тип явно категориальный. Никак не поможет в поставленной задаче. \n",
    "    * PARTY_COUNT - Количество участников. Свершившийся факт после аварии. Никак не поможет в нашей задаче.  \n",
    "    * TYPE_OF_COLLISION - Тип аварии. То, на какую часть автомобиля пришлась авария, никак не поможет нам предотавратить ее  \n",
    "    * control_device - Устройство управления. Вообще не очень понятно, какую информацию несет данный столбец. Возможно, состояние автомобиля после аварии. В таком случае он нам точно ничем не поможет.  \n",
    "2. Из таблицы parties:\n",
    "    * PARTY_NUMBER - Номер участника происшествия. Тоже никак не поможет в нашей задаче\n",
    "    * PARTY_TYPE - Тип участника происшествия. Так как по условию мы должны брать информацию только об автомобилях. Следовательно, этот столбец будет содержать только одно значение.  "
   ]
  },
  {
   "cell_type": "code",
   "execution_count": 27,
   "metadata": {},
   "outputs": [
    {
     "data": {
      "text/html": [
       "<div>\n",
       "<style scoped>\n",
       "    .dataframe tbody tr th:only-of-type {\n",
       "        vertical-align: middle;\n",
       "    }\n",
       "\n",
       "    .dataframe tbody tr th {\n",
       "        vertical-align: top;\n",
       "    }\n",
       "\n",
       "    .dataframe thead th {\n",
       "        text-align: right;\n",
       "    }\n",
       "</style>\n",
       "<table border=\"1\" class=\"dataframe\">\n",
       "  <thead>\n",
       "    <tr style=\"text-align: right;\">\n",
       "      <th></th>\n",
       "      <th>county_location</th>\n",
       "      <th>distance</th>\n",
       "      <th>direction</th>\n",
       "      <th>intersection</th>\n",
       "      <th>weather_1</th>\n",
       "      <th>location_type</th>\n",
       "      <th>primary_collision_factor</th>\n",
       "      <th>pcf_violation_category</th>\n",
       "      <th>motor_vehicle_involved_with</th>\n",
       "      <th>road_surface</th>\n",
       "      <th>...</th>\n",
       "      <th>collision_date</th>\n",
       "      <th>collision_time</th>\n",
       "      <th>at_fault</th>\n",
       "      <th>insurance_premium</th>\n",
       "      <th>party_sobriety</th>\n",
       "      <th>party_drug_physical</th>\n",
       "      <th>cellphone_in_use</th>\n",
       "      <th>vehicle_type</th>\n",
       "      <th>vehicle_transmission</th>\n",
       "      <th>vehicle_age</th>\n",
       "    </tr>\n",
       "  </thead>\n",
       "  <tbody>\n",
       "    <tr>\n",
       "      <th>0</th>\n",
       "      <td>el dorado</td>\n",
       "      <td>200.0</td>\n",
       "      <td>north</td>\n",
       "      <td>0.0</td>\n",
       "      <td>clear</td>\n",
       "      <td>None</td>\n",
       "      <td>unknown</td>\n",
       "      <td>unknown</td>\n",
       "      <td>other motor vehicle</td>\n",
       "      <td>dry</td>\n",
       "      <td>...</td>\n",
       "      <td>2012-01-15</td>\n",
       "      <td>16:15:00</td>\n",
       "      <td>0</td>\n",
       "      <td>25.0</td>\n",
       "      <td>had not been drinking</td>\n",
       "      <td>None</td>\n",
       "      <td>0.0</td>\n",
       "      <td>sedan</td>\n",
       "      <td>manual</td>\n",
       "      <td>4.0</td>\n",
       "    </tr>\n",
       "    <tr>\n",
       "      <th>1</th>\n",
       "      <td>los angeles</td>\n",
       "      <td>1079.0</td>\n",
       "      <td>north</td>\n",
       "      <td>0.0</td>\n",
       "      <td>clear</td>\n",
       "      <td>None</td>\n",
       "      <td>vehicle code violation</td>\n",
       "      <td>improper passing</td>\n",
       "      <td>other motor vehicle</td>\n",
       "      <td>dry</td>\n",
       "      <td>...</td>\n",
       "      <td>2012-01-01</td>\n",
       "      <td>10:40:00</td>\n",
       "      <td>0</td>\n",
       "      <td>53.0</td>\n",
       "      <td>had not been drinking</td>\n",
       "      <td>None</td>\n",
       "      <td>0.0</td>\n",
       "      <td>sedan</td>\n",
       "      <td>manual</td>\n",
       "      <td>3.0</td>\n",
       "    </tr>\n",
       "    <tr>\n",
       "      <th>2</th>\n",
       "      <td>los angeles</td>\n",
       "      <td>1079.0</td>\n",
       "      <td>north</td>\n",
       "      <td>0.0</td>\n",
       "      <td>clear</td>\n",
       "      <td>None</td>\n",
       "      <td>vehicle code violation</td>\n",
       "      <td>improper passing</td>\n",
       "      <td>other motor vehicle</td>\n",
       "      <td>dry</td>\n",
       "      <td>...</td>\n",
       "      <td>2012-01-01</td>\n",
       "      <td>10:40:00</td>\n",
       "      <td>0</td>\n",
       "      <td>53.0</td>\n",
       "      <td>had not been drinking</td>\n",
       "      <td>None</td>\n",
       "      <td>0.0</td>\n",
       "      <td>coupe</td>\n",
       "      <td>manual</td>\n",
       "      <td>5.0</td>\n",
       "    </tr>\n",
       "    <tr>\n",
       "      <th>3</th>\n",
       "      <td>tulare</td>\n",
       "      <td>2112.0</td>\n",
       "      <td>west</td>\n",
       "      <td>0.0</td>\n",
       "      <td>cloudy</td>\n",
       "      <td>None</td>\n",
       "      <td>vehicle code violation</td>\n",
       "      <td>speeding</td>\n",
       "      <td>other motor vehicle</td>\n",
       "      <td>wet</td>\n",
       "      <td>...</td>\n",
       "      <td>2012-02-07</td>\n",
       "      <td>15:00:00</td>\n",
       "      <td>0</td>\n",
       "      <td>67.0</td>\n",
       "      <td>had not been drinking</td>\n",
       "      <td>None</td>\n",
       "      <td>0.0</td>\n",
       "      <td>coupe</td>\n",
       "      <td>auto</td>\n",
       "      <td>10.0</td>\n",
       "    </tr>\n",
       "    <tr>\n",
       "      <th>4</th>\n",
       "      <td>tulare</td>\n",
       "      <td>2112.0</td>\n",
       "      <td>west</td>\n",
       "      <td>0.0</td>\n",
       "      <td>cloudy</td>\n",
       "      <td>None</td>\n",
       "      <td>vehicle code violation</td>\n",
       "      <td>speeding</td>\n",
       "      <td>other motor vehicle</td>\n",
       "      <td>wet</td>\n",
       "      <td>...</td>\n",
       "      <td>2012-02-07</td>\n",
       "      <td>15:00:00</td>\n",
       "      <td>0</td>\n",
       "      <td>67.0</td>\n",
       "      <td>had not been drinking</td>\n",
       "      <td>None</td>\n",
       "      <td>0.0</td>\n",
       "      <td>sedan</td>\n",
       "      <td>auto</td>\n",
       "      <td>5.0</td>\n",
       "    </tr>\n",
       "  </tbody>\n",
       "</table>\n",
       "<p>5 rows × 21 columns</p>\n",
       "</div>"
      ],
      "text/plain": [
       "  county_location  distance direction  intersection weather_1 location_type  \\\n",
       "0       el dorado     200.0     north           0.0     clear          None   \n",
       "1     los angeles    1079.0     north           0.0     clear          None   \n",
       "2     los angeles    1079.0     north           0.0     clear          None   \n",
       "3          tulare    2112.0      west           0.0    cloudy          None   \n",
       "4          tulare    2112.0      west           0.0    cloudy          None   \n",
       "\n",
       "  primary_collision_factor pcf_violation_category motor_vehicle_involved_with  \\\n",
       "0                  unknown                unknown         other motor vehicle   \n",
       "1   vehicle code violation       improper passing         other motor vehicle   \n",
       "2   vehicle code violation       improper passing         other motor vehicle   \n",
       "3   vehicle code violation               speeding         other motor vehicle   \n",
       "4   vehicle code violation               speeding         other motor vehicle   \n",
       "\n",
       "  road_surface  ... collision_date collision_time at_fault  insurance_premium  \\\n",
       "0          dry  ...     2012-01-15       16:15:00        0               25.0   \n",
       "1          dry  ...     2012-01-01       10:40:00        0               53.0   \n",
       "2          dry  ...     2012-01-01       10:40:00        0               53.0   \n",
       "3          wet  ...     2012-02-07       15:00:00        0               67.0   \n",
       "4          wet  ...     2012-02-07       15:00:00        0               67.0   \n",
       "\n",
       "          party_sobriety party_drug_physical cellphone_in_use  vehicle_type  \\\n",
       "0  had not been drinking                None              0.0         sedan   \n",
       "1  had not been drinking                None              0.0         sedan   \n",
       "2  had not been drinking                None              0.0         coupe   \n",
       "3  had not been drinking                None              0.0         coupe   \n",
       "4  had not been drinking                None              0.0         sedan   \n",
       "\n",
       "  vehicle_transmission vehicle_age  \n",
       "0               manual         4.0  \n",
       "1               manual         3.0  \n",
       "2               manual         5.0  \n",
       "3                 auto        10.0  \n",
       "4                 auto         5.0  \n",
       "\n",
       "[5 rows x 21 columns]"
      ]
     },
     "execution_count": 27,
     "metadata": {},
     "output_type": "execute_result"
    }
   ],
   "source": [
    "data_query = '''\n",
    "SELECT county_location,\n",
    "       distance,\n",
    "       direction,\n",
    "       intersection,\n",
    "       weather_1,\n",
    "       location_type,\n",
    "       primary_collision_factor,\n",
    "       pcf_violation_category,\n",
    "       motor_vehicle_involved_with,\n",
    "       road_surface,\n",
    "       lighting,\n",
    "       collision_date,\n",
    "       collision_time,\n",
    "       at_fault,\n",
    "       insurance_premium,\n",
    "       party_sobriety,\n",
    "       party_drug_physical,\n",
    "       cellphone_in_use,\n",
    "       vehicle_type,\n",
    "       vehicle_transmission,\n",
    "       vehicle_age\n",
    "FROM (\n",
    "    (SELECT *\n",
    "\tFROM collisions\n",
    "\tWHERE DATE_PART('year', collision_date) = 2012) AS c\n",
    "\tJOIN\n",
    "\t(SELECT *\n",
    "\tFROM parties\n",
    "\tWHERE party_type = 'car') AS p ON c.case_id = p.case_id\n",
    "\tJOIN\n",
    "\t(SELECT *\n",
    "\tFROM vehicles) AS v ON p.case_id = v.case_id)\n",
    "WHERE collision_damage != 'scratch'\n",
    "'''\n",
    "df = pd.read_sql_query(data_query, engine)\n",
    "df.head()"
   ]
  },
  {
   "cell_type": "markdown",
   "metadata": {},
   "source": [
    "## EDA"
   ]
  },
  {
   "cell_type": "code",
   "execution_count": 28,
   "metadata": {},
   "outputs": [],
   "source": [
    "start_dataset_size = df.shape[0]"
   ]
  },
  {
   "cell_type": "code",
   "execution_count": 29,
   "metadata": {},
   "outputs": [
    {
     "name": "stdout",
     "output_type": "stream",
     "text": [
      "ОБЩАЯ ИНФОРМАЦИЯ\n",
      "----------------\n",
      "<class 'pandas.core.frame.DataFrame'>\n",
      "RangeIndex: 118411 entries, 0 to 118410\n",
      "Data columns (total 21 columns):\n",
      " #   Column                       Non-Null Count   Dtype  \n",
      "---  ------                       --------------   -----  \n",
      " 0   county_location              118411 non-null  object \n",
      " 1   distance                     118411 non-null  float64\n",
      " 2   direction                    89466 non-null   object \n",
      " 3   intersection                 118043 non-null  float64\n",
      " 4   weather_1                    118022 non-null  object \n",
      " 5   location_type                55137 non-null   object \n",
      " 6   primary_collision_factor     118147 non-null  object \n",
      " 7   pcf_violation_category       116686 non-null  object \n",
      " 8   motor_vehicle_involved_with  118079 non-null  object \n",
      " 9   road_surface                 117645 non-null  object \n",
      " 10  lighting                     118080 non-null  object \n",
      " 11  collision_date               118411 non-null  object \n",
      " 12  collision_time               118283 non-null  object \n",
      " 13  at_fault                     118411 non-null  int64  \n",
      " 14  insurance_premium            113289 non-null  float64\n",
      " 15  party_sobriety               116682 non-null  object \n",
      " 16  party_drug_physical          8695 non-null    object \n",
      " 17  cellphone_in_use             107507 non-null  float64\n",
      " 18  vehicle_type                 118411 non-null  object \n",
      " 19  vehicle_transmission         116545 non-null  object \n",
      " 20  vehicle_age                  115046 non-null  float64\n",
      "dtypes: float64(5), int64(1), object(15)\n",
      "memory usage: 19.0+ MB\n",
      "|----------------------------------------------------------------------------------------------------|\n",
      "\n",
      "ПЕРВЫЕ 5 СТРОК ДАТАСЕТА\n",
      "-----------------------\n"
     ]
    },
    {
     "data": {
      "text/html": [
       "<div>\n",
       "<style scoped>\n",
       "    .dataframe tbody tr th:only-of-type {\n",
       "        vertical-align: middle;\n",
       "    }\n",
       "\n",
       "    .dataframe tbody tr th {\n",
       "        vertical-align: top;\n",
       "    }\n",
       "\n",
       "    .dataframe thead th {\n",
       "        text-align: right;\n",
       "    }\n",
       "</style>\n",
       "<table border=\"1\" class=\"dataframe\">\n",
       "  <thead>\n",
       "    <tr style=\"text-align: right;\">\n",
       "      <th></th>\n",
       "      <th>county_location</th>\n",
       "      <th>distance</th>\n",
       "      <th>direction</th>\n",
       "      <th>intersection</th>\n",
       "      <th>weather_1</th>\n",
       "      <th>location_type</th>\n",
       "      <th>primary_collision_factor</th>\n",
       "      <th>pcf_violation_category</th>\n",
       "      <th>motor_vehicle_involved_with</th>\n",
       "      <th>road_surface</th>\n",
       "      <th>...</th>\n",
       "      <th>collision_date</th>\n",
       "      <th>collision_time</th>\n",
       "      <th>at_fault</th>\n",
       "      <th>insurance_premium</th>\n",
       "      <th>party_sobriety</th>\n",
       "      <th>party_drug_physical</th>\n",
       "      <th>cellphone_in_use</th>\n",
       "      <th>vehicle_type</th>\n",
       "      <th>vehicle_transmission</th>\n",
       "      <th>vehicle_age</th>\n",
       "    </tr>\n",
       "  </thead>\n",
       "  <tbody>\n",
       "    <tr>\n",
       "      <th>0</th>\n",
       "      <td>el dorado</td>\n",
       "      <td>200.0</td>\n",
       "      <td>north</td>\n",
       "      <td>0.0</td>\n",
       "      <td>clear</td>\n",
       "      <td>None</td>\n",
       "      <td>unknown</td>\n",
       "      <td>unknown</td>\n",
       "      <td>other motor vehicle</td>\n",
       "      <td>dry</td>\n",
       "      <td>...</td>\n",
       "      <td>2012-01-15</td>\n",
       "      <td>16:15:00</td>\n",
       "      <td>0</td>\n",
       "      <td>25.0</td>\n",
       "      <td>had not been drinking</td>\n",
       "      <td>None</td>\n",
       "      <td>0.0</td>\n",
       "      <td>sedan</td>\n",
       "      <td>manual</td>\n",
       "      <td>4.0</td>\n",
       "    </tr>\n",
       "    <tr>\n",
       "      <th>1</th>\n",
       "      <td>los angeles</td>\n",
       "      <td>1079.0</td>\n",
       "      <td>north</td>\n",
       "      <td>0.0</td>\n",
       "      <td>clear</td>\n",
       "      <td>None</td>\n",
       "      <td>vehicle code violation</td>\n",
       "      <td>improper passing</td>\n",
       "      <td>other motor vehicle</td>\n",
       "      <td>dry</td>\n",
       "      <td>...</td>\n",
       "      <td>2012-01-01</td>\n",
       "      <td>10:40:00</td>\n",
       "      <td>0</td>\n",
       "      <td>53.0</td>\n",
       "      <td>had not been drinking</td>\n",
       "      <td>None</td>\n",
       "      <td>0.0</td>\n",
       "      <td>sedan</td>\n",
       "      <td>manual</td>\n",
       "      <td>3.0</td>\n",
       "    </tr>\n",
       "    <tr>\n",
       "      <th>2</th>\n",
       "      <td>los angeles</td>\n",
       "      <td>1079.0</td>\n",
       "      <td>north</td>\n",
       "      <td>0.0</td>\n",
       "      <td>clear</td>\n",
       "      <td>None</td>\n",
       "      <td>vehicle code violation</td>\n",
       "      <td>improper passing</td>\n",
       "      <td>other motor vehicle</td>\n",
       "      <td>dry</td>\n",
       "      <td>...</td>\n",
       "      <td>2012-01-01</td>\n",
       "      <td>10:40:00</td>\n",
       "      <td>0</td>\n",
       "      <td>53.0</td>\n",
       "      <td>had not been drinking</td>\n",
       "      <td>None</td>\n",
       "      <td>0.0</td>\n",
       "      <td>coupe</td>\n",
       "      <td>manual</td>\n",
       "      <td>5.0</td>\n",
       "    </tr>\n",
       "    <tr>\n",
       "      <th>3</th>\n",
       "      <td>tulare</td>\n",
       "      <td>2112.0</td>\n",
       "      <td>west</td>\n",
       "      <td>0.0</td>\n",
       "      <td>cloudy</td>\n",
       "      <td>None</td>\n",
       "      <td>vehicle code violation</td>\n",
       "      <td>speeding</td>\n",
       "      <td>other motor vehicle</td>\n",
       "      <td>wet</td>\n",
       "      <td>...</td>\n",
       "      <td>2012-02-07</td>\n",
       "      <td>15:00:00</td>\n",
       "      <td>0</td>\n",
       "      <td>67.0</td>\n",
       "      <td>had not been drinking</td>\n",
       "      <td>None</td>\n",
       "      <td>0.0</td>\n",
       "      <td>coupe</td>\n",
       "      <td>auto</td>\n",
       "      <td>10.0</td>\n",
       "    </tr>\n",
       "    <tr>\n",
       "      <th>4</th>\n",
       "      <td>tulare</td>\n",
       "      <td>2112.0</td>\n",
       "      <td>west</td>\n",
       "      <td>0.0</td>\n",
       "      <td>cloudy</td>\n",
       "      <td>None</td>\n",
       "      <td>vehicle code violation</td>\n",
       "      <td>speeding</td>\n",
       "      <td>other motor vehicle</td>\n",
       "      <td>wet</td>\n",
       "      <td>...</td>\n",
       "      <td>2012-02-07</td>\n",
       "      <td>15:00:00</td>\n",
       "      <td>0</td>\n",
       "      <td>67.0</td>\n",
       "      <td>had not been drinking</td>\n",
       "      <td>None</td>\n",
       "      <td>0.0</td>\n",
       "      <td>sedan</td>\n",
       "      <td>auto</td>\n",
       "      <td>5.0</td>\n",
       "    </tr>\n",
       "  </tbody>\n",
       "</table>\n",
       "<p>5 rows × 21 columns</p>\n",
       "</div>"
      ],
      "text/plain": [
       "  county_location  distance direction  intersection weather_1 location_type  \\\n",
       "0       el dorado     200.0     north           0.0     clear          None   \n",
       "1     los angeles    1079.0     north           0.0     clear          None   \n",
       "2     los angeles    1079.0     north           0.0     clear          None   \n",
       "3          tulare    2112.0      west           0.0    cloudy          None   \n",
       "4          tulare    2112.0      west           0.0    cloudy          None   \n",
       "\n",
       "  primary_collision_factor pcf_violation_category motor_vehicle_involved_with  \\\n",
       "0                  unknown                unknown         other motor vehicle   \n",
       "1   vehicle code violation       improper passing         other motor vehicle   \n",
       "2   vehicle code violation       improper passing         other motor vehicle   \n",
       "3   vehicle code violation               speeding         other motor vehicle   \n",
       "4   vehicle code violation               speeding         other motor vehicle   \n",
       "\n",
       "  road_surface  ... collision_date collision_time at_fault  insurance_premium  \\\n",
       "0          dry  ...     2012-01-15       16:15:00        0               25.0   \n",
       "1          dry  ...     2012-01-01       10:40:00        0               53.0   \n",
       "2          dry  ...     2012-01-01       10:40:00        0               53.0   \n",
       "3          wet  ...     2012-02-07       15:00:00        0               67.0   \n",
       "4          wet  ...     2012-02-07       15:00:00        0               67.0   \n",
       "\n",
       "          party_sobriety party_drug_physical cellphone_in_use  vehicle_type  \\\n",
       "0  had not been drinking                None              0.0         sedan   \n",
       "1  had not been drinking                None              0.0         sedan   \n",
       "2  had not been drinking                None              0.0         coupe   \n",
       "3  had not been drinking                None              0.0         coupe   \n",
       "4  had not been drinking                None              0.0         sedan   \n",
       "\n",
       "  vehicle_transmission vehicle_age  \n",
       "0               manual         4.0  \n",
       "1               manual         3.0  \n",
       "2               manual         5.0  \n",
       "3                 auto        10.0  \n",
       "4                 auto         5.0  \n",
       "\n",
       "[5 rows x 21 columns]"
      ]
     },
     "metadata": {},
     "output_type": "display_data"
    },
    {
     "name": "stdout",
     "output_type": "stream",
     "text": [
      "|----------------------------------------------------------------------------------------------------|\n",
      "\n",
      "КОЛИЧЕСТВО ДУБЛИКАТОВ\n",
      "---------------------\n",
      "2170\n",
      "|----------------------------------------------------------------------------------------------------|\n",
      "\n",
      "ПРОЦЕНТ ПРОПУЩЕННЫХ ЗНАЧЕНИЙ\n",
      "--------------------\n",
      "county_location                 0.000000\n",
      "distance                        0.000000\n",
      "direction                      24.444520\n",
      "intersection                    0.310782\n",
      "weather_1                       0.328517\n",
      "location_type                  53.435914\n",
      "primary_collision_factor        0.222952\n",
      "pcf_violation_category          1.456790\n",
      "motor_vehicle_involved_with     0.280379\n",
      "road_surface                    0.646899\n",
      "lighting                        0.279535\n",
      "collision_date                  0.000000\n",
      "collision_time                  0.108098\n",
      "at_fault                        0.000000\n",
      "insurance_premium               4.325612\n",
      "party_sobriety                  1.460168\n",
      "party_drug_physical            92.656932\n",
      "cellphone_in_use                9.208604\n",
      "vehicle_type                    0.000000\n",
      "vehicle_transmission            1.575867\n",
      "vehicle_age                     2.841797\n",
      "dtype: float64\n",
      "|----------------------------------------------------------------------------------------------------|\n",
      "\n",
      "КАТЕГОРИАЛЬНЫЕ ПРИЗНАКИ\n",
      "-----------------------\n",
      "-- Уникальные признака county_location --\n",
      "-------------------------------\n",
      "['el dorado' 'los angeles' 'tulare' 'santa clara' 'contra costa'\n",
      " 'san bernardino' 'fresno' 'kern' 'alameda' 'riverside' 'san diego'\n",
      " 'tehama' 'orange' 'ventura' 'san joaquin' 'santa barbara' 'yuba' 'sonoma'\n",
      " 'monterey' 'sacramento' 'napa' 'kings' 'san luis obispo' 'colusa'\n",
      " 'santa cruz' 'san mateo' 'calaveras' 'solano' 'imperial' 'madera'\n",
      " 'placer' 'san francisco' 'shasta' 'marin' 'stanislaus' 'nevada' 'plumas'\n",
      " 'yolo' 'sutter' 'amador' 'tuolumne' 'merced' 'san benito' 'butte'\n",
      " 'humboldt' 'lassen' 'siskiyou' 'mendocino' 'mariposa' 'inyo' 'del norte'\n",
      " 'glenn' 'lake' 'trinity' 'mono' 'modoc' 'sierra' 'alpine']\n",
      "\n",
      "-- Уникальные признака direction --\n",
      "-------------------------------\n",
      "['north' 'west' None 'south' 'east']\n",
      "\n",
      "-- Уникальные признака weather_1 --\n",
      "-------------------------------\n",
      "['clear' 'cloudy' 'raining' 'fog' None 'snowing' 'other' 'wind']\n",
      "\n",
      "-- Уникальные признака location_type --\n",
      "-------------------------------\n",
      "[None 'highway' 'ramp' 'intersection']\n",
      "\n",
      "-- Уникальные признака primary_collision_factor --\n",
      "-------------------------------\n",
      "['unknown' 'vehicle code violation' 'other than driver' None\n",
      " 'other improper driving' 'fell asleep']\n",
      "\n",
      "-- Уникальные признака pcf_violation_category --\n",
      "-------------------------------\n",
      "['unknown' 'improper passing' 'speeding' 'automobile right of way'\n",
      " 'traffic signals and signs' 'improper turning' 'unsafe lane change'\n",
      " 'pedestrian violation' 'wrong side of road' 'dui'\n",
      " 'other hazardous violation' 'other than driver (or pedestrian)' None\n",
      " 'following too closely' 'unsafe starting or backing'\n",
      " 'pedestrian right of way' 'other equipment' 'other improper driving'\n",
      " 'impeding traffic' 'hazardous parking' 'lights' 'brakes' 'fell asleep']\n",
      "\n",
      "-- Уникальные признака motor_vehicle_involved_with --\n",
      "-------------------------------\n",
      "['other motor vehicle' 'non-collision' 'fixed object' 'other object'\n",
      " 'bicycle' 'parked motor vehicle' 'animal'\n",
      " 'motor vehicle on other roadway' None 'train']\n",
      "\n",
      "-- Уникальные признака road_surface --\n",
      "-------------------------------\n",
      "['dry' 'wet' 'snowy' None 'slippery']\n",
      "\n",
      "-- Уникальные признака lighting --\n",
      "-------------------------------\n",
      "['daylight' 'dusk or dawn' 'dark with no street lights'\n",
      " 'dark with street lights' 'dark with street lights not functioning' None]\n",
      "\n",
      "-- Уникальные признака collision_date --\n",
      "-------------------------------\n",
      "[datetime.date(2012, 1, 15) datetime.date(2012, 1, 1)\n",
      " datetime.date(2012, 2, 7) datetime.date(2012, 2, 14)\n",
      " datetime.date(2012, 1, 29) datetime.date(2012, 1, 7)\n",
      " datetime.date(2012, 1, 5) datetime.date(2012, 1, 3)\n",
      " datetime.date(2012, 1, 11) datetime.date(2012, 1, 23)\n",
      " datetime.date(2012, 2, 12) datetime.date(2012, 1, 24)\n",
      " datetime.date(2012, 2, 9) datetime.date(2012, 2, 21)\n",
      " datetime.date(2012, 2, 8) datetime.date(2012, 2, 18)\n",
      " datetime.date(2012, 2, 11) datetime.date(2012, 2, 13)\n",
      " datetime.date(2012, 2, 2) datetime.date(2012, 2, 6)\n",
      " datetime.date(2012, 2, 1) datetime.date(2012, 2, 10)\n",
      " datetime.date(2012, 2, 17) datetime.date(2012, 2, 22)\n",
      " datetime.date(2012, 3, 10) datetime.date(2012, 3, 14)\n",
      " datetime.date(2012, 2, 27) datetime.date(2012, 3, 8)\n",
      " datetime.date(2012, 3, 2) datetime.date(2012, 2, 28)\n",
      " datetime.date(2012, 2, 29) datetime.date(2012, 3, 13)\n",
      " datetime.date(2012, 3, 20) datetime.date(2012, 3, 19)\n",
      " datetime.date(2012, 4, 2) datetime.date(2012, 3, 26)\n",
      " datetime.date(2012, 4, 1) datetime.date(2012, 2, 25)\n",
      " datetime.date(2012, 2, 20) datetime.date(2012, 4, 4)\n",
      " datetime.date(2012, 4, 6) datetime.date(2012, 4, 16)\n",
      " datetime.date(2012, 3, 22) datetime.date(2012, 3, 27)\n",
      " datetime.date(2012, 3, 30) datetime.date(2012, 4, 9)\n",
      " datetime.date(2012, 4, 21) datetime.date(2012, 4, 23)\n",
      " datetime.date(2012, 4, 24) datetime.date(2012, 4, 29)\n",
      " datetime.date(2012, 4, 17) datetime.date(2012, 5, 7)\n",
      " datetime.date(2012, 5, 6) datetime.date(2012, 4, 26)\n",
      " datetime.date(2012, 4, 25) datetime.date(2012, 4, 19)\n",
      " datetime.date(2012, 5, 12) datetime.date(2012, 5, 5)\n",
      " datetime.date(2012, 5, 20) datetime.date(2012, 5, 3)\n",
      " datetime.date(2012, 5, 11) datetime.date(2012, 5, 15)\n",
      " datetime.date(2012, 5, 17) datetime.date(2012, 1, 21)\n",
      " datetime.date(2012, 1, 18) datetime.date(2012, 1, 26)\n",
      " datetime.date(2012, 2, 5) datetime.date(2012, 1, 30)\n",
      " datetime.date(2012, 1, 27) datetime.date(2012, 1, 28)\n",
      " datetime.date(2012, 1, 4) datetime.date(2012, 1, 16)\n",
      " datetime.date(2012, 1, 31) datetime.date(2012, 1, 22)\n",
      " datetime.date(2012, 1, 9) datetime.date(2012, 1, 14)\n",
      " datetime.date(2012, 1, 17) datetime.date(2012, 1, 10)\n",
      " datetime.date(2012, 1, 13) datetime.date(2012, 1, 6)\n",
      " datetime.date(2012, 1, 8) datetime.date(2012, 1, 2)\n",
      " datetime.date(2012, 1, 19) datetime.date(2012, 1, 12)\n",
      " datetime.date(2012, 1, 25) datetime.date(2012, 1, 20)\n",
      " datetime.date(2012, 2, 3) datetime.date(2012, 2, 24)\n",
      " datetime.date(2012, 2, 4) datetime.date(2012, 2, 23)\n",
      " datetime.date(2012, 2, 15) datetime.date(2012, 2, 16)\n",
      " datetime.date(2012, 2, 26) datetime.date(2012, 2, 19)\n",
      " datetime.date(2012, 3, 4) datetime.date(2012, 3, 3)\n",
      " datetime.date(2012, 3, 6) datetime.date(2012, 3, 7)\n",
      " datetime.date(2012, 3, 1) datetime.date(2012, 3, 17)\n",
      " datetime.date(2012, 3, 9) datetime.date(2012, 3, 11)\n",
      " datetime.date(2012, 3, 18) datetime.date(2012, 3, 12)\n",
      " datetime.date(2012, 3, 15) datetime.date(2012, 3, 16)\n",
      " datetime.date(2012, 3, 23) datetime.date(2012, 3, 5)\n",
      " datetime.date(2012, 3, 21) datetime.date(2012, 3, 24)\n",
      " datetime.date(2012, 3, 29) datetime.date(2012, 5, 4)\n",
      " datetime.date(2012, 4, 28) datetime.date(2012, 4, 20)\n",
      " datetime.date(2012, 4, 12) datetime.date(2012, 4, 5)\n",
      " datetime.date(2012, 5, 24) datetime.date(2012, 6, 3)\n",
      " datetime.date(2012, 6, 1) datetime.date(2012, 4, 22)\n",
      " datetime.date(2012, 5, 13) datetime.date(2012, 6, 9)\n",
      " datetime.date(2012, 6, 18) datetime.date(2012, 6, 4)\n",
      " datetime.date(2012, 6, 8) datetime.date(2012, 6, 16)\n",
      " datetime.date(2012, 3, 25) datetime.date(2012, 4, 30)\n",
      " datetime.date(2012, 6, 13) datetime.date(2012, 6, 19)\n",
      " datetime.date(2012, 5, 16) datetime.date(2012, 7, 6)\n",
      " datetime.date(2012, 5, 28) datetime.date(2012, 3, 28)\n",
      " datetime.date(2012, 3, 31) datetime.date(2012, 4, 10)\n",
      " datetime.date(2012, 4, 3) datetime.date(2012, 11, 20)\n",
      " datetime.date(2012, 4, 15) datetime.date(2012, 8, 25)\n",
      " datetime.date(2012, 8, 11) datetime.date(2012, 9, 10)\n",
      " datetime.date(2012, 9, 2) datetime.date(2012, 6, 15)\n",
      " datetime.date(2012, 8, 28) datetime.date(2012, 7, 20)\n",
      " datetime.date(2012, 7, 13) datetime.date(2012, 8, 21)\n",
      " datetime.date(2012, 8, 30) datetime.date(2012, 7, 29)\n",
      " datetime.date(2012, 4, 7) datetime.date(2012, 4, 18)\n",
      " datetime.date(2012, 4, 14) datetime.date(2012, 4, 13)\n",
      " datetime.date(2012, 4, 11) datetime.date(2012, 4, 8)\n",
      " datetime.date(2012, 5, 2) datetime.date(2012, 4, 27)\n",
      " datetime.date(2012, 5, 1) datetime.date(2012, 5, 10)\n",
      " datetime.date(2012, 5, 8) datetime.date(2012, 5, 9)\n",
      " datetime.date(2012, 5, 21) datetime.date(2012, 5, 18)\n",
      " datetime.date(2012, 5, 19) datetime.date(2012, 5, 22)\n",
      " datetime.date(2012, 5, 14) datetime.date(2012, 5, 23)\n",
      " datetime.date(2012, 5, 27) datetime.date(2012, 5, 26)\n",
      " datetime.date(2012, 5, 30) datetime.date(2012, 5, 29)\n",
      " datetime.date(2012, 5, 31) datetime.date(2012, 7, 8)\n",
      " datetime.date(2012, 11, 5) datetime.date(2012, 10, 12)\n",
      " datetime.date(2012, 10, 21) datetime.date(2012, 9, 16)\n",
      " datetime.date(2012, 9, 25) datetime.date(2012, 8, 23)\n",
      " datetime.date(2012, 11, 12) datetime.date(2012, 10, 4)\n",
      " datetime.date(2012, 10, 1) datetime.date(2012, 7, 28)\n",
      " datetime.date(2012, 6, 21) datetime.date(2012, 10, 13)\n",
      " datetime.date(2012, 11, 24) datetime.date(2012, 11, 19)\n",
      " datetime.date(2012, 11, 28) datetime.date(2012, 10, 17)\n",
      " datetime.date(2012, 10, 10) datetime.date(2012, 10, 19)\n",
      " datetime.date(2012, 10, 24) datetime.date(2012, 11, 27)\n",
      " datetime.date(2012, 10, 31) datetime.date(2012, 11, 21)\n",
      " datetime.date(2012, 11, 30) datetime.date(2012, 10, 7)\n",
      " datetime.date(2012, 11, 25) datetime.date(2012, 11, 26)\n",
      " datetime.date(2012, 10, 20) datetime.date(2012, 12, 10)\n",
      " datetime.date(2012, 12, 14) datetime.date(2012, 12, 9)\n",
      " datetime.date(2012, 12, 8) datetime.date(2012, 11, 13)\n",
      " datetime.date(2012, 11, 18) datetime.date(2012, 12, 3)\n",
      " datetime.date(2012, 9, 30) datetime.date(2012, 12, 26)\n",
      " datetime.date(2012, 7, 27) datetime.date(2012, 10, 9)\n",
      " datetime.date(2012, 9, 15) datetime.date(2012, 10, 6)\n",
      " datetime.date(2012, 11, 16) datetime.date(2012, 12, 12)\n",
      " datetime.date(2012, 12, 22) datetime.date(2012, 12, 19)\n",
      " datetime.date(2012, 12, 7) datetime.date(2012, 6, 11)\n",
      " datetime.date(2012, 12, 17) datetime.date(2012, 11, 2)\n",
      " datetime.date(2012, 7, 16) datetime.date(2012, 11, 8)\n",
      " datetime.date(2012, 9, 5) datetime.date(2012, 12, 20)\n",
      " datetime.date(2012, 7, 4) datetime.date(2012, 8, 1)\n",
      " datetime.date(2012, 11, 7) datetime.date(2012, 7, 17)\n",
      " datetime.date(2012, 7, 18) datetime.date(2012, 6, 6)\n",
      " datetime.date(2012, 5, 25) datetime.date(2012, 6, 5)\n",
      " datetime.date(2012, 6, 7) datetime.date(2012, 6, 2)\n",
      " datetime.date(2012, 6, 12) datetime.date(2012, 6, 14)\n",
      " datetime.date(2012, 10, 5) datetime.date(2012, 8, 10)\n",
      " datetime.date(2012, 8, 24) datetime.date(2012, 9, 9)\n",
      " datetime.date(2012, 9, 18) datetime.date(2012, 7, 7)\n",
      " datetime.date(2012, 8, 15) datetime.date(2012, 9, 4)\n",
      " datetime.date(2012, 8, 16) datetime.date(2012, 9, 12)\n",
      " datetime.date(2012, 9, 27) datetime.date(2012, 9, 22)\n",
      " datetime.date(2012, 7, 10) datetime.date(2012, 7, 15)\n",
      " datetime.date(2012, 7, 11) datetime.date(2012, 7, 22)\n",
      " datetime.date(2012, 8, 4) datetime.date(2012, 6, 10)\n",
      " datetime.date(2012, 6, 24) datetime.date(2012, 8, 5)\n",
      " datetime.date(2012, 8, 12) datetime.date(2012, 6, 17)\n",
      " datetime.date(2012, 8, 20) datetime.date(2012, 7, 14)\n",
      " datetime.date(2012, 7, 1) datetime.date(2012, 8, 6)\n",
      " datetime.date(2012, 7, 25) datetime.date(2012, 8, 9)\n",
      " datetime.date(2012, 7, 30) datetime.date(2012, 8, 17)\n",
      " datetime.date(2012, 8, 18) datetime.date(2012, 8, 19)\n",
      " datetime.date(2012, 8, 13) datetime.date(2012, 6, 28)\n",
      " datetime.date(2012, 7, 5) datetime.date(2012, 7, 12)\n",
      " datetime.date(2012, 9, 20) datetime.date(2012, 9, 14)\n",
      " datetime.date(2012, 9, 7) datetime.date(2012, 8, 22)\n",
      " datetime.date(2012, 8, 3) datetime.date(2012, 9, 17)\n",
      " datetime.date(2012, 8, 2) datetime.date(2012, 9, 23)\n",
      " datetime.date(2012, 9, 8) datetime.date(2012, 10, 8)\n",
      " datetime.date(2012, 8, 26) datetime.date(2012, 8, 31)\n",
      " datetime.date(2012, 10, 18) datetime.date(2012, 9, 26)\n",
      " datetime.date(2012, 10, 29) datetime.date(2012, 9, 19)\n",
      " datetime.date(2012, 7, 31) datetime.date(2012, 10, 2)\n",
      " datetime.date(2012, 12, 23) datetime.date(2012, 8, 8)\n",
      " datetime.date(2012, 9, 6) datetime.date(2012, 9, 13)\n",
      " datetime.date(2012, 8, 29) datetime.date(2012, 6, 27)\n",
      " datetime.date(2012, 8, 7) datetime.date(2012, 10, 3)\n",
      " datetime.date(2012, 7, 21) datetime.date(2012, 7, 24)\n",
      " datetime.date(2012, 6, 23) datetime.date(2012, 6, 30)\n",
      " datetime.date(2012, 7, 3) datetime.date(2012, 6, 29)\n",
      " datetime.date(2012, 7, 23) datetime.date(2012, 8, 14)\n",
      " datetime.date(2012, 7, 2) datetime.date(2012, 9, 24)\n",
      " datetime.date(2012, 9, 28) datetime.date(2012, 10, 16)\n",
      " datetime.date(2012, 10, 15) datetime.date(2012, 6, 22)\n",
      " datetime.date(2012, 10, 22) datetime.date(2012, 9, 3)\n",
      " datetime.date(2012, 10, 14) datetime.date(2012, 10, 28)\n",
      " datetime.date(2012, 12, 28) datetime.date(2012, 12, 31)\n",
      " datetime.date(2012, 11, 11) datetime.date(2012, 12, 18)\n",
      " datetime.date(2012, 10, 23) datetime.date(2012, 6, 20)\n",
      " datetime.date(2012, 6, 26) datetime.date(2012, 8, 27)\n",
      " datetime.date(2012, 7, 9) datetime.date(2012, 10, 25)\n",
      " datetime.date(2012, 11, 9) datetime.date(2012, 9, 21)\n",
      " datetime.date(2012, 11, 1) datetime.date(2012, 9, 1)\n",
      " datetime.date(2012, 11, 3) datetime.date(2012, 12, 11)\n",
      " datetime.date(2012, 11, 4) datetime.date(2012, 11, 6)\n",
      " datetime.date(2012, 12, 24) datetime.date(2012, 10, 26)\n",
      " datetime.date(2012, 11, 14) datetime.date(2012, 12, 6)\n",
      " datetime.date(2012, 11, 23) datetime.date(2012, 11, 10)\n",
      " datetime.date(2012, 12, 27) datetime.date(2012, 12, 5)\n",
      " datetime.date(2012, 12, 15) datetime.date(2012, 12, 13)\n",
      " datetime.date(2012, 12, 4) datetime.date(2012, 11, 29)\n",
      " datetime.date(2012, 10, 11) datetime.date(2012, 7, 19)\n",
      " datetime.date(2012, 7, 26) datetime.date(2012, 9, 29)\n",
      " datetime.date(2012, 11, 15) datetime.date(2012, 10, 27)\n",
      " datetime.date(2012, 11, 22) datetime.date(2012, 9, 11)\n",
      " datetime.date(2012, 11, 17) datetime.date(2012, 12, 21)\n",
      " datetime.date(2012, 12, 16) datetime.date(2012, 6, 25)\n",
      " datetime.date(2012, 12, 1) datetime.date(2012, 12, 30)\n",
      " datetime.date(2012, 12, 29) datetime.date(2012, 10, 30)\n",
      " datetime.date(2012, 12, 25) datetime.date(2012, 12, 2)]\n",
      "\n",
      "-- Уникальные признака collision_time --\n",
      "-------------------------------\n",
      "[datetime.time(16, 15) datetime.time(10, 40) datetime.time(15, 0) ...\n",
      " datetime.time(4, 57) datetime.time(5, 53) datetime.time(5, 12)]\n",
      "\n",
      "-- Уникальные признака party_sobriety --\n",
      "-------------------------------\n",
      "['had not been drinking' 'impairment unknown'\n",
      " 'had been drinking, not under influence' None\n",
      " 'had been drinking, under influence'\n",
      " 'had been drinking, impairment unknown' 'not applicable']\n",
      "\n",
      "-- Уникальные признака party_drug_physical --\n",
      "-------------------------------\n",
      "[None 'G' 'not applicable' 'sleepy/fatigued' 'under drug influence'\n",
      " 'impairment - physical']\n",
      "\n",
      "-- Уникальные признака vehicle_type --\n",
      "-------------------------------\n",
      "['sedan' 'coupe' 'hatchback' 'minivan' 'other']\n",
      "\n",
      "-- Уникальные признака vehicle_transmission --\n",
      "-------------------------------\n",
      "['manual' 'auto' None]\n",
      "\n",
      "|----------------------------------------------------------------------------------------------------|\n",
      "\n",
      "КОЛИЧЕСТВЕННЫЕ ПРИЗНАКИ\n",
      "-----------------------\n"
     ]
    },
    {
     "data": {
      "text/html": [
       "<div>\n",
       "<style scoped>\n",
       "    .dataframe tbody tr th:only-of-type {\n",
       "        vertical-align: middle;\n",
       "    }\n",
       "\n",
       "    .dataframe tbody tr th {\n",
       "        vertical-align: top;\n",
       "    }\n",
       "\n",
       "    .dataframe thead th {\n",
       "        text-align: right;\n",
       "    }\n",
       "</style>\n",
       "<table border=\"1\" class=\"dataframe\">\n",
       "  <thead>\n",
       "    <tr style=\"text-align: right;\">\n",
       "      <th></th>\n",
       "      <th>distance</th>\n",
       "      <th>intersection</th>\n",
       "      <th>at_fault</th>\n",
       "      <th>insurance_premium</th>\n",
       "      <th>cellphone_in_use</th>\n",
       "      <th>vehicle_age</th>\n",
       "    </tr>\n",
       "  </thead>\n",
       "  <tbody>\n",
       "    <tr>\n",
       "      <th>count</th>\n",
       "      <td>1.184110e+05</td>\n",
       "      <td>118043.000000</td>\n",
       "      <td>118411.000000</td>\n",
       "      <td>113289.000000</td>\n",
       "      <td>107507.000000</td>\n",
       "      <td>115046.000000</td>\n",
       "    </tr>\n",
       "    <tr>\n",
       "      <th>mean</th>\n",
       "      <td>7.320663e+02</td>\n",
       "      <td>0.234711</td>\n",
       "      <td>0.469686</td>\n",
       "      <td>38.624686</td>\n",
       "      <td>0.021320</td>\n",
       "      <td>4.908263</td>\n",
       "    </tr>\n",
       "    <tr>\n",
       "      <th>std</th>\n",
       "      <td>6.902704e+03</td>\n",
       "      <td>0.423820</td>\n",
       "      <td>0.499082</td>\n",
       "      <td>16.355164</td>\n",
       "      <td>0.144448</td>\n",
       "      <td>3.266265</td>\n",
       "    </tr>\n",
       "    <tr>\n",
       "      <th>min</th>\n",
       "      <td>0.000000e+00</td>\n",
       "      <td>0.000000</td>\n",
       "      <td>0.000000</td>\n",
       "      <td>0.000000</td>\n",
       "      <td>0.000000</td>\n",
       "      <td>0.000000</td>\n",
       "    </tr>\n",
       "    <tr>\n",
       "      <th>25%</th>\n",
       "      <td>2.000000e+00</td>\n",
       "      <td>0.000000</td>\n",
       "      <td>0.000000</td>\n",
       "      <td>25.000000</td>\n",
       "      <td>0.000000</td>\n",
       "      <td>3.000000</td>\n",
       "    </tr>\n",
       "    <tr>\n",
       "      <th>50%</th>\n",
       "      <td>1.180000e+02</td>\n",
       "      <td>0.000000</td>\n",
       "      <td>0.000000</td>\n",
       "      <td>36.000000</td>\n",
       "      <td>0.000000</td>\n",
       "      <td>4.000000</td>\n",
       "    </tr>\n",
       "    <tr>\n",
       "      <th>75%</th>\n",
       "      <td>5.280000e+02</td>\n",
       "      <td>0.000000</td>\n",
       "      <td>1.000000</td>\n",
       "      <td>50.000000</td>\n",
       "      <td>0.000000</td>\n",
       "      <td>7.000000</td>\n",
       "    </tr>\n",
       "    <tr>\n",
       "      <th>max</th>\n",
       "      <td>1.584000e+06</td>\n",
       "      <td>1.000000</td>\n",
       "      <td>1.000000</td>\n",
       "      <td>105.000000</td>\n",
       "      <td>1.000000</td>\n",
       "      <td>161.000000</td>\n",
       "    </tr>\n",
       "  </tbody>\n",
       "</table>\n",
       "</div>"
      ],
      "text/plain": [
       "           distance   intersection       at_fault  insurance_premium  \\\n",
       "count  1.184110e+05  118043.000000  118411.000000      113289.000000   \n",
       "mean   7.320663e+02       0.234711       0.469686          38.624686   \n",
       "std    6.902704e+03       0.423820       0.499082          16.355164   \n",
       "min    0.000000e+00       0.000000       0.000000           0.000000   \n",
       "25%    2.000000e+00       0.000000       0.000000          25.000000   \n",
       "50%    1.180000e+02       0.000000       0.000000          36.000000   \n",
       "75%    5.280000e+02       0.000000       1.000000          50.000000   \n",
       "max    1.584000e+06       1.000000       1.000000         105.000000   \n",
       "\n",
       "       cellphone_in_use    vehicle_age  \n",
       "count     107507.000000  115046.000000  \n",
       "mean           0.021320       4.908263  \n",
       "std            0.144448       3.266265  \n",
       "min            0.000000       0.000000  \n",
       "25%            0.000000       3.000000  \n",
       "50%            0.000000       4.000000  \n",
       "75%            0.000000       7.000000  \n",
       "max            1.000000     161.000000  "
      ]
     },
     "metadata": {},
     "output_type": "display_data"
    },
    {
     "data": {
      "image/png": "[encoded data removed]",
      "text/plain": [
       "<Figure size 640x480 with 2 Axes>"
      ]
     },
     "metadata": {},
     "output_type": "display_data"
    }
   ],
   "source": [
    "df_info(df)"
   ]
  },
  {
   "cell_type": "markdown",
   "metadata": {},
   "source": [
    "В получившемся датасете присутствуют пропуски, дубликаты и несоответствие типов. Подробнее изучим каждый из признаков и исправим недостатки датасета"
   ]
  },
  {
   "cell_type": "markdown",
   "metadata": {},
   "source": [
    "### county_location"
   ]
  },
  {
   "cell_type": "markdown",
   "metadata": {},
   "source": [
    "Данный признак говорит нам о названии географических районов, где произошло ДТП. Конечно, в каждом из штатов может быть разная загруженность дорог и даже правила дорожного движения, а следовательно, вероятность аварии. Однако невозможно вместить в датасет каждый город. Считаю, что в таком виде данный признак не несет особой пользы. Удалим его из датасета"
   ]
  },
  {
   "cell_type": "code",
   "execution_count": 30,
   "metadata": {},
   "outputs": [],
   "source": [
    "df.drop('county_location', axis=1, inplace=True)"
   ]
  },
  {
   "cell_type": "markdown",
   "metadata": {},
   "source": [
    "### distance"
   ]
  },
  {
   "cell_type": "markdown",
   "metadata": {},
   "source": [
    "Данный признак говорит нам о Расстояние от главной дороги (метры). Пропусков в данном столбце нет. Посмотрим на его распределение"
   ]
  },
  {
   "cell_type": "code",
   "execution_count": 31,
   "metadata": {},
   "outputs": [
    {
     "data": {
      "text/plain": [
       "count    1.184110e+05\n",
       "mean     7.320663e+02\n",
       "std      6.902704e+03\n",
       "min      0.000000e+00\n",
       "25%      2.000000e+00\n",
       "50%      1.180000e+02\n",
       "75%      5.280000e+02\n",
       "max      1.584000e+06\n",
       "Name: distance, dtype: float64"
      ]
     },
     "execution_count": 31,
     "metadata": {},
     "output_type": "execute_result"
    }
   ],
   "source": [
    "distance_describe = df['distance'].describe()\n",
    "distance_describe"
   ]
  },
  {
   "cell_type": "code",
   "execution_count": 32,
   "metadata": {},
   "outputs": [
    {
     "data": {
      "image/png": "[encoded data removed]",
      "text/plain": [
       "<Figure size 640x480 with 1 Axes>"
      ]
     },
     "metadata": {},
     "output_type": "display_data"
    }
   ],
   "source": [
    "create_violinplot(df, 'distance')"
   ]
  },
  {
   "cell_type": "markdown",
   "metadata": {},
   "source": [
    "Видно, что признак содержит аномальные значения в большую сторону. Посмотрим, какое количество данных лежит в 3 стандартных отклонениях"
   ]
  },
  {
   "cell_type": "code",
   "execution_count": 33,
   "metadata": {},
   "outputs": [
    {
     "data": {
      "text/plain": [
       "212"
      ]
     },
     "execution_count": 33,
     "metadata": {},
     "output_type": "execute_result"
    }
   ],
   "source": [
    "distance_std = distance_describe['std']\n",
    "distance_mean = distance_describe['mean']\n",
    "df.query('distance > @distance_mean + 3 * @distance_std')['distance'].count()"
   ]
  },
  {
   "cell_type": "markdown",
   "metadata": {},
   "source": [
    "Так как не много записей содержат лежат вне 3 стандартных отклонений, то просто удалим их"
   ]
  },
  {
   "cell_type": "code",
   "execution_count": 34,
   "metadata": {},
   "outputs": [],
   "source": [
    "df = df.query('distance < @distance_mean + 3 * @distance_std')"
   ]
  },
  {
   "cell_type": "code",
   "execution_count": 35,
   "metadata": {},
   "outputs": [],
   "source": [
    "df['distance'] = df['distance'].astype('int32')"
   ]
  },
  {
   "cell_type": "markdown",
   "metadata": {},
   "source": [
    "### direction"
   ]
  },
  {
   "cell_type": "markdown",
   "metadata": {},
   "source": [
    "Данный столбец содержит информацию о направлении движения. В нем содержится 24.4% пропущенных значений. Это слишком большая часть датасета, чтобы удалить ее. Заполним пропуски значением `unknown`"
   ]
  },
  {
   "cell_type": "code",
   "execution_count": 36,
   "metadata": {},
   "outputs": [],
   "source": [
    "df.loc[df['direction'].isna(), 'direction'] = 'unknown'"
   ]
  },
  {
   "cell_type": "code",
   "execution_count": 37,
   "metadata": {},
   "outputs": [],
   "source": [
    "df['direction'] = df['direction'].astype('category')"
   ]
  },
  {
   "cell_type": "markdown",
   "metadata": {},
   "source": [
    "### intersection"
   ]
  },
  {
   "cell_type": "markdown",
   "metadata": {},
   "source": [
    "Данный столбец содержит информацию о том, является ли место происшествие перекрёстком. Сожержит 0.3% пропусков. Будем отталкиваться от того, что если не было указано, что это перекресток, то место ДТП не является перекрестком. Поэтому заполним пропуски 0"
   ]
  },
  {
   "cell_type": "code",
   "execution_count": 38,
   "metadata": {},
   "outputs": [],
   "source": [
    "df.loc[df['intersection'].isna(), 'intersection'] = 1"
   ]
  },
  {
   "cell_type": "code",
   "execution_count": 39,
   "metadata": {},
   "outputs": [],
   "source": [
    "df['intersection'] = df['intersection'].astype('int8')"
   ]
  },
  {
   "cell_type": "markdown",
   "metadata": {},
   "source": [
    "### weather_1"
   ]
  },
  {
   "cell_type": "markdown",
   "metadata": {},
   "source": [
    "Данный столбец содержит информацию о погоде. Содержит 0.3% пропусков. Восстановить данные не представляется возможным, а количество пропусков мало. Поэтому удалим пропущенные значения"
   ]
  },
  {
   "cell_type": "code",
   "execution_count": 40,
   "metadata": {},
   "outputs": [],
   "source": [
    "df = df[~df['weather_1'].isna()]"
   ]
  },
  {
   "cell_type": "code",
   "execution_count": 41,
   "metadata": {},
   "outputs": [],
   "source": [
    "df['weather_1'] = df['weather_1'].astype('category')"
   ]
  },
  {
   "cell_type": "markdown",
   "metadata": {},
   "source": [
    "### location_type"
   ]
  },
  {
   "cell_type": "markdown",
   "metadata": {},
   "source": [
    "Столбец содержит информацию о типе дороги. В столбце пропущено 53.4% данных. Удалять такое большое количество информации нельзя, поэтому заполним пропуски значением `unknown`"
   ]
  },
  {
   "cell_type": "code",
   "execution_count": 42,
   "metadata": {},
   "outputs": [],
   "source": [
    "df.loc[df['location_type'].isna(), 'location_type'] = 'unknown'"
   ]
  },
  {
   "cell_type": "code",
   "execution_count": 43,
   "metadata": {},
   "outputs": [],
   "source": [
    "df['location_type'] = df['location_type'].astype('category')"
   ]
  },
  {
   "cell_type": "markdown",
   "metadata": {},
   "source": [
    "### primary_collision_factor"
   ]
  },
  {
   "cell_type": "markdown",
   "metadata": {},
   "source": [
    "Данный признак отражает основной фактор аварии. Столбце содержит 0.22% пропусков. Так как пропусков немного и невозможно как-либо восстановить данные, удалим строки с пропущенным значением"
   ]
  },
  {
   "cell_type": "code",
   "execution_count": 44,
   "metadata": {},
   "outputs": [],
   "source": [
    "df = df[~df['primary_collision_factor'].isna()]"
   ]
  },
  {
   "cell_type": "code",
   "execution_count": 45,
   "metadata": {},
   "outputs": [],
   "source": [
    "df['primary_collision_factor'] = df['primary_collision_factor'].astype('category')"
   ]
  },
  {
   "cell_type": "markdown",
   "metadata": {},
   "source": [
    "### pcf_violation_category"
   ]
  },
  {
   "cell_type": "markdown",
   "metadata": {},
   "source": [
    "Данные признак отражает категорию нарушения. В столбце  содержится 1.46% пропущенных значений, что является все-таки достаточно большим количеством данных. Заполним пропуски значением `unknown`"
   ]
  },
  {
   "cell_type": "code",
   "execution_count": 46,
   "metadata": {},
   "outputs": [],
   "source": [
    "df.loc[df['pcf_violation_category'].isna(), 'pcf_violation_category'] = 'unknown'"
   ]
  },
  {
   "cell_type": "code",
   "execution_count": 47,
   "metadata": {},
   "outputs": [],
   "source": [
    "df['pcf_violation_category'] = df['pcf_violation_category'].astype('category')"
   ]
  },
  {
   "cell_type": "markdown",
   "metadata": {},
   "source": [
    "### motor_vehicle_involved_with"
   ]
  },
  {
   "cell_type": "markdown",
   "metadata": {},
   "source": [
    "Признак отражает дополнительных участников ДТП. Содержит 0.28% пропусков. Удалим строки с пропусками"
   ]
  },
  {
   "cell_type": "code",
   "execution_count": 48,
   "metadata": {},
   "outputs": [],
   "source": [
    "df = df[~df['motor_vehicle_involved_with'].isna()]"
   ]
  },
  {
   "cell_type": "code",
   "execution_count": 49,
   "metadata": {},
   "outputs": [],
   "source": [
    "df['motor_vehicle_involved_with'] = df['motor_vehicle_involved_with'].astype('category')"
   ]
  },
  {
   "cell_type": "markdown",
   "metadata": {},
   "source": [
    "### road_surface"
   ]
  },
  {
   "cell_type": "markdown",
   "metadata": {},
   "source": [
    "Призак отражает состояние дороги. Содержит 0.65% пропусков. Удалим строки с пропущенными значениями"
   ]
  },
  {
   "cell_type": "code",
   "execution_count": 50,
   "metadata": {},
   "outputs": [],
   "source": [
    "df = df[~df['road_surface'].isna()]"
   ]
  },
  {
   "cell_type": "code",
   "execution_count": 51,
   "metadata": {},
   "outputs": [],
   "source": [
    "df['road_surface'] = df['road_surface'].astype('category')"
   ]
  },
  {
   "cell_type": "markdown",
   "metadata": {},
   "source": [
    "### lighting"
   ]
  },
  {
   "cell_type": "markdown",
   "metadata": {},
   "source": [
    "Призак отражает информацию об освещении дороги. Содержит 0.28% пропусков. Удалим строки с пропущенными значениями"
   ]
  },
  {
   "cell_type": "code",
   "execution_count": 52,
   "metadata": {},
   "outputs": [],
   "source": [
    "df = df[~df['lighting'].isna()]"
   ]
  },
  {
   "cell_type": "code",
   "execution_count": 53,
   "metadata": {},
   "outputs": [],
   "source": [
    "df['lighting'] = df['lighting'].astype('category')"
   ]
  },
  {
   "cell_type": "markdown",
   "metadata": {},
   "source": [
    "### collision_date"
   ]
  },
  {
   "cell_type": "markdown",
   "metadata": {},
   "source": [
    "Призак отражает даты проишествия ДТП. Не содержит пропусков. Однако так как в наших данных есть информация только за первые 5 месяцев года (из-за того, что по условию заказчика нужно использовать данные за 2012 год) мы не можем использовать данный признак в чистом виде. Однако можно попробовать использовать день недели, который можно получить из этого признака"
   ]
  },
  {
   "cell_type": "code",
   "execution_count": 54,
   "metadata": {},
   "outputs": [],
   "source": [
    "week_day_dict = {\n",
    "    0: 'monday',\n",
    "    1: 'tuesday',\n",
    "    2: 'wednesday',\n",
    "    3: 'thursday',\n",
    "    4: 'friday',\n",
    "    5: 'saturday',\n",
    "    6: 'sunday'\n",
    "}"
   ]
  },
  {
   "cell_type": "code",
   "execution_count": 55,
   "metadata": {},
   "outputs": [],
   "source": [
    "df['week_day'] = df['collision_date'].apply(lambda x: week_day_dict[x.weekday()])"
   ]
  },
  {
   "cell_type": "code",
   "execution_count": 56,
   "metadata": {},
   "outputs": [],
   "source": [
    "df['week_day'] = df['week_day'].astype('category')\n",
    "df.drop(['collision_date'], axis=1, inplace=True)"
   ]
  },
  {
   "cell_type": "markdown",
   "metadata": {},
   "source": [
    "### collision_time"
   ]
  },
  {
   "cell_type": "markdown",
   "metadata": {},
   "source": [
    "Признак отражает время происшествия. Содержит 0.1% пропусков, которые мы удалим. В чистом виде использовать призак не получится. Введем новые признак, который будет отражать утром, днем, вечером или ночью случилось ДТП"
   ]
  },
  {
   "cell_type": "code",
   "execution_count": 57,
   "metadata": {},
   "outputs": [],
   "source": [
    "df = df[~df['collision_time'].isna()]"
   ]
  },
  {
   "cell_type": "code",
   "execution_count": 58,
   "metadata": {},
   "outputs": [],
   "source": [
    "def time_of_day(time):\n",
    "    if 0 <= time.hour <= 5:\n",
    "        return 'night'\n",
    "    if 6 <= time.hour <= 11:\n",
    "        return 'morning'\n",
    "    if 12 <= time.hour <= 18:\n",
    "        return 'day'\n",
    "    if 19 <= time.hour <= 23:\n",
    "        return 'evening'\n",
    "    return 'unknown'"
   ]
  },
  {
   "cell_type": "code",
   "execution_count": 59,
   "metadata": {},
   "outputs": [],
   "source": [
    "df['collision_time'] = df['collision_time'].apply(time_of_day)"
   ]
  },
  {
   "cell_type": "code",
   "execution_count": 60,
   "metadata": {},
   "outputs": [],
   "source": [
    "df['collision_time'] = df['collision_time'].astype('category')"
   ]
  },
  {
   "cell_type": "markdown",
   "metadata": {},
   "source": [
    "### at_fault"
   ]
  },
  {
   "cell_type": "markdown",
   "metadata": {},
   "source": [
    "Признак отражает виновность участника ДТП. Является целевым признаком. Пропусков нет. Проверим, нет ли аномальных значений"
   ]
  },
  {
   "cell_type": "code",
   "execution_count": 61,
   "metadata": {},
   "outputs": [
    {
     "data": {
      "text/plain": [
       "at_fault\n",
       "0    61632\n",
       "1    54708\n",
       "Name: count, dtype: int64"
      ]
     },
     "execution_count": 61,
     "metadata": {},
     "output_type": "execute_result"
    }
   ],
   "source": [
    "df['at_fault'].value_counts()"
   ]
  },
  {
   "cell_type": "markdown",
   "metadata": {},
   "source": [
    "Признак ожидаем содержит только значения 0 и 1. Причем можно заметить, что дисбаланса классов нет"
   ]
  },
  {
   "cell_type": "code",
   "execution_count": 62,
   "metadata": {},
   "outputs": [],
   "source": [
    "df['at_fault'] = df['at_fault'].astype('int8')"
   ]
  },
  {
   "cell_type": "markdown",
   "metadata": {},
   "source": [
    "### vehicle_age"
   ]
  },
  {
   "cell_type": "markdown",
   "metadata": {},
   "source": [
    "Признак отражает возраст автомобиля. Столбец содержит 2.84% пропусков. К сожалению, восстановить данную информацию по имеющимся данным тяжело, поэтому удалим строки с пропусками"
   ]
  },
  {
   "cell_type": "code",
   "execution_count": 63,
   "metadata": {},
   "outputs": [],
   "source": [
    "df = df[~df['vehicle_age'].isna()]"
   ]
  },
  {
   "cell_type": "code",
   "execution_count": 64,
   "metadata": {},
   "outputs": [
    {
     "data": {
      "text/plain": [
       "count    113080.000000\n",
       "mean          4.907941\n",
       "std           3.268920\n",
       "min           0.000000\n",
       "25%           3.000000\n",
       "50%           4.000000\n",
       "75%           7.000000\n",
       "max         161.000000\n",
       "Name: vehicle_age, dtype: float64"
      ]
     },
     "execution_count": 64,
     "metadata": {},
     "output_type": "execute_result"
    }
   ],
   "source": [
    "df['vehicle_age'].describe()"
   ]
  },
  {
   "cell_type": "code",
   "execution_count": 65,
   "metadata": {},
   "outputs": [
    {
     "data": {
      "image/png": "[encoded data removed]",
      "text/plain": [
       "<Figure size 640x480 with 1 Axes>"
      ]
     },
     "metadata": {},
     "output_type": "display_data"
    }
   ],
   "source": [
    "create_violinplot(df, 'vehicle_age')"
   ]
  },
  {
   "cell_type": "markdown",
   "metadata": {},
   "source": [
    "Видно, что в данных присутствуют выбросы. В БД есть автомобили с возрастом до 161 года. Думаю, будет разумно ограничить возраст автомобиля 30 годами (вдруг раритетные автомобили тоже попадают в аварии)"
   ]
  },
  {
   "cell_type": "code",
   "execution_count": 66,
   "metadata": {},
   "outputs": [],
   "source": [
    "df = df.query('vehicle_age <= 30')"
   ]
  },
  {
   "cell_type": "code",
   "execution_count": 67,
   "metadata": {},
   "outputs": [],
   "source": [
    "df['vehicle_age'] = df['vehicle_age'].astype('int8')"
   ]
  },
  {
   "cell_type": "markdown",
   "metadata": {},
   "source": [
    "### insurance_premium"
   ]
  },
  {
   "cell_type": "markdown",
   "metadata": {},
   "source": [
    "Данные признак отражает сумму страховки. В столбце сожержится 4.33% пропущенных значений. Заполним пропуски медианным значением суммы страховки для каждого возраста"
   ]
  },
  {
   "cell_type": "code",
   "execution_count": 68,
   "metadata": {},
   "outputs": [],
   "source": [
    "for age in df['vehicle_age'].unique():\n",
    "    df.loc[(df['vehicle_age'] == age) & (df['insurance_premium'].isna() == True),\n",
    "           'insurance_premium'] = \\\n",
    "    df.loc[(df['vehicle_age'] == age) & (df['insurance_premium'].isna() == False),\n",
    "           'insurance_premium'].median()"
   ]
  },
  {
   "cell_type": "code",
   "execution_count": 69,
   "metadata": {},
   "outputs": [
    {
     "data": {
      "text/plain": [
       "count    113076.000000\n",
       "mean         38.525978\n",
       "std          16.155217\n",
       "min           0.000000\n",
       "25%          25.000000\n",
       "50%          35.000000\n",
       "75%          50.000000\n",
       "max         105.000000\n",
       "Name: insurance_premium, dtype: float64"
      ]
     },
     "execution_count": 69,
     "metadata": {},
     "output_type": "execute_result"
    }
   ],
   "source": [
    "df['insurance_premium'].describe()"
   ]
  },
  {
   "cell_type": "code",
   "execution_count": 70,
   "metadata": {},
   "outputs": [
    {
     "data": {
      "image/png": "[encoded data removed]",
      "text/plain": [
       "<Figure size 640x480 with 1 Axes>"
      ]
     },
     "metadata": {},
     "output_type": "display_data"
    }
   ],
   "source": [
    "create_violinplot(df, 'insurance_premium')"
   ]
  },
  {
   "cell_type": "markdown",
   "metadata": {},
   "source": [
    "Распределение данного признака похоже на нормальное с длинным правым хвостом. Максимальное значение страховки равно 105 тыс. Это может быть правдой, так как автомобили могут быть разной ценовой категории. Не будем удалять данные"
   ]
  },
  {
   "cell_type": "code",
   "execution_count": 71,
   "metadata": {},
   "outputs": [],
   "source": [
    "df['insurance_premium'] = df['insurance_premium'].astype('int8')"
   ]
  },
  {
   "cell_type": "markdown",
   "metadata": {},
   "source": [
    "### party_sobriety                  "
   ]
  },
  {
   "cell_type": "markdown",
   "metadata": {},
   "source": [
    "Данный признак отражает трезвость водителя. Содержит 1.46% пропусков, которые заполним значением `unknown`"
   ]
  },
  {
   "cell_type": "code",
   "execution_count": 72,
   "metadata": {},
   "outputs": [],
   "source": [
    "df.loc[df['party_sobriety'].isna(), 'party_sobriety'] = 'unknown'"
   ]
  },
  {
   "cell_type": "code",
   "execution_count": 73,
   "metadata": {},
   "outputs": [],
   "source": [
    "df['party_sobriety'] = df['party_sobriety'].astype('category')"
   ]
  },
  {
   "cell_type": "markdown",
   "metadata": {},
   "source": [
    "### party_drug_physical"
   ]
  },
  {
   "cell_type": "markdown",
   "metadata": {},
   "source": [
    "Данный признак отражает состояние участника: физическое или с учётом принятых лекарств. Содержит большое количество пропусков - 92.65%. Заполним пропуски значением `G` - Impairment Unknown"
   ]
  },
  {
   "cell_type": "code",
   "execution_count": 74,
   "metadata": {},
   "outputs": [],
   "source": [
    "df.loc[df['party_drug_physical'].isna(), 'party_drug_physical'] = 'G'"
   ]
  },
  {
   "cell_type": "code",
   "execution_count": 75,
   "metadata": {},
   "outputs": [],
   "source": [
    "df['party_drug_physical'] = df['party_drug_physical'].astype('category')"
   ]
  },
  {
   "cell_type": "markdown",
   "metadata": {},
   "source": [
    "### cellphone_in_use"
   ]
  },
  {
   "cell_type": "markdown",
   "metadata": {},
   "source": [
    "Данный признак отражает наличие телефона в автомобиле (возможности разговаривать по громкой связи). Сожержит 9.2% пропусков. Пропуски заполним 0, так как нет доказательства, что водитель пользовался теелфоном"
   ]
  },
  {
   "cell_type": "code",
   "execution_count": 76,
   "metadata": {},
   "outputs": [],
   "source": [
    "df.loc[df['cellphone_in_use'].isna(), 'cellphone_in_use'] = 0"
   ]
  },
  {
   "cell_type": "code",
   "execution_count": 77,
   "metadata": {},
   "outputs": [],
   "source": [
    "df['cellphone_in_use'] = df['cellphone_in_use'].astype('int')\n",
    "df['cellphone_in_use'] = df['cellphone_in_use'].astype('category')"
   ]
  },
  {
   "cell_type": "markdown",
   "metadata": {},
   "source": [
    "### vehicle_type"
   ]
  },
  {
   "cell_type": "markdown",
   "metadata": {},
   "source": [
    "Признак отражает тип кузова автомобиля. Пропусков в столбце нет"
   ]
  },
  {
   "cell_type": "code",
   "execution_count": 78,
   "metadata": {},
   "outputs": [],
   "source": [
    "df['vehicle_type'] = df['vehicle_type'].astype('category')"
   ]
  },
  {
   "cell_type": "markdown",
   "metadata": {},
   "source": [
    "### vehicle_transmission"
   ]
  },
  {
   "cell_type": "markdown",
   "metadata": {},
   "source": [
    "Данные признак отражает тип коробки передач автомобиля. Содержит 1.57% пропусков. Так как в БД нет никакой технической информации об автомобилях, восстановить данные мы не сможем. Придется удалить пропуски"
   ]
  },
  {
   "cell_type": "code",
   "execution_count": 79,
   "metadata": {},
   "outputs": [],
   "source": [
    "df = df.loc[~df['vehicle_transmission'].isna()]"
   ]
  },
  {
   "cell_type": "code",
   "execution_count": 80,
   "metadata": {},
   "outputs": [],
   "source": [
    "df['vehicle_transmission'] = df['vehicle_transmission'].astype('category')"
   ]
  },
  {
   "cell_type": "markdown",
   "metadata": {},
   "source": [
    "### Удаление дубликатов"
   ]
  },
  {
   "cell_type": "code",
   "execution_count": 81,
   "metadata": {},
   "outputs": [],
   "source": [
    "df = df.drop_duplicates().reset_index(drop=True)"
   ]
  },
  {
   "cell_type": "markdown",
   "metadata": {},
   "source": [
    "### Результат"
   ]
  },
  {
   "cell_type": "code",
   "execution_count": 82,
   "metadata": {},
   "outputs": [
    {
     "name": "stdout",
     "output_type": "stream",
     "text": [
      "<class 'pandas.core.frame.DataFrame'>\n",
      "RangeIndex: 109039 entries, 0 to 109038\n",
      "Data columns (total 20 columns):\n",
      " #   Column                       Non-Null Count   Dtype   \n",
      "---  ------                       --------------   -----   \n",
      " 0   distance                     109039 non-null  int32   \n",
      " 1   direction                    109039 non-null  category\n",
      " 2   intersection                 109039 non-null  int8    \n",
      " 3   weather_1                    109039 non-null  category\n",
      " 4   location_type                109039 non-null  category\n",
      " 5   primary_collision_factor     109039 non-null  category\n",
      " 6   pcf_violation_category       109039 non-null  category\n",
      " 7   motor_vehicle_involved_with  109039 non-null  category\n",
      " 8   road_surface                 109039 non-null  category\n",
      " 9   lighting                     109039 non-null  category\n",
      " 10  collision_time               109039 non-null  category\n",
      " 11  at_fault                     109039 non-null  int8    \n",
      " 12  insurance_premium            109039 non-null  int8    \n",
      " 13  party_sobriety               109039 non-null  category\n",
      " 14  party_drug_physical          109039 non-null  category\n",
      " 15  cellphone_in_use             109039 non-null  category\n",
      " 16  vehicle_type                 109039 non-null  category\n",
      " 17  vehicle_transmission         109039 non-null  category\n",
      " 18  vehicle_age                  109039 non-null  int8    \n",
      " 19  week_day                     109039 non-null  category\n",
      "dtypes: category(15), int32(1), int8(4)\n",
      "memory usage: 2.4 MB\n"
     ]
    }
   ],
   "source": [
    "df.info()"
   ]
  },
  {
   "cell_type": "code",
   "execution_count": 83,
   "metadata": {},
   "outputs": [
    {
     "name": "stdout",
     "output_type": "stream",
     "text": [
      "После предобработки данных в датасете осталось 92.09% данных\n"
     ]
    }
   ],
   "source": [
    "print(f'После предобработки данных в датасете осталось {df.shape[0] / start_dataset_size:.2%} данных')"
   ]
  },
  {
   "cell_type": "markdown",
   "metadata": {},
   "source": [
    "### Выводы"
   ]
  },
  {
   "cell_type": "markdown",
   "metadata": {},
   "source": [
    "Был подготовлена датасет, удовлетворяющий требованиям заказчика:\n",
    "1. Выбрать тип виновника — только машина (car).  \n",
    "2. Выбрать случаи, когда ДТП привело к любым повреждениям транспортного средства, кроме типа SCRATCH (царапина).  \n",
    "3. Для моделирования ограничиться данными за 2012 год — они самые свежие (С учетом того, что за 2012 год данные есть только до июня, данное требование является странным и может привести к тому, что модель будет работать хуже в определенные месяцы).  \n",
    "4. Учесть фактор возраста автомобиля  \n",
    "\n",
    " В ходе предобработки данных были устранены пропуски в данных, удалены выбросы и дубликаты. Удалось сохранить 92.09% данных"
   ]
  },
  {
   "cell_type": "markdown",
   "metadata": {},
   "source": [
    "## Подготовка датасета и построение моделей"
   ]
  },
  {
   "cell_type": "markdown",
   "metadata": {},
   "source": [
    "### Подготовка датасета"
   ]
  },
  {
   "cell_type": "markdown",
   "metadata": {},
   "source": [
    "#### Разделение на выборки"
   ]
  },
  {
   "cell_type": "code",
   "execution_count": 84,
   "metadata": {},
   "outputs": [],
   "source": [
    "features_train, features_test, target_train, target_test = train_test_split(\n",
    "    df.drop('at_fault', axis=1), df['at_fault'], test_size=.25,\n",
    "    random_state=RANDOM_STATE, stratify=df['at_fault']\n",
    ")"
   ]
  },
  {
   "cell_type": "markdown",
   "metadata": {},
   "source": [
    "#### Масштабирование признаков"
   ]
  },
  {
   "cell_type": "code",
   "execution_count": 85,
   "metadata": {},
   "outputs": [
    {
     "data": {
      "text/plain": [
       "['distance', 'intersection', 'insurance_premium', 'vehicle_age']"
      ]
     },
     "execution_count": 85,
     "metadata": {},
     "output_type": "execute_result"
    }
   ],
   "source": [
    "num_features = features_train.select_dtypes(include='number').columns.to_list()\n",
    "num_features"
   ]
  },
  {
   "cell_type": "code",
   "execution_count": 86,
   "metadata": {},
   "outputs": [],
   "source": [
    "scaler = StandardScaler()\n",
    "scaler.fit(features_train[num_features]);"
   ]
  },
  {
   "cell_type": "code",
   "execution_count": 87,
   "metadata": {},
   "outputs": [],
   "source": [
    "features_train[num_features] = scaler.transform(features_train[num_features])\n",
    "features_test[num_features] = scaler.transform(features_test[num_features])"
   ]
  },
  {
   "cell_type": "markdown",
   "metadata": {},
   "source": [
    "#### Кодирование категориальных признаков"
   ]
  },
  {
   "cell_type": "markdown",
   "metadata": {},
   "source": [
    "В проекте будут использованы модели, которые сами могут кодировать категориальные признаки (CatBoost), поэтому подготовим набор данных с закодированными признаками и без"
   ]
  },
  {
   "cell_type": "code",
   "execution_count": 88,
   "metadata": {},
   "outputs": [
    {
     "data": {
      "text/plain": [
       "['direction',\n",
       " 'weather_1',\n",
       " 'location_type',\n",
       " 'primary_collision_factor',\n",
       " 'pcf_violation_category',\n",
       " 'motor_vehicle_involved_with',\n",
       " 'road_surface',\n",
       " 'lighting',\n",
       " 'collision_time',\n",
       " 'party_sobriety',\n",
       " 'party_drug_physical',\n",
       " 'cellphone_in_use',\n",
       " 'vehicle_type',\n",
       " 'vehicle_transmission',\n",
       " 'week_day']"
      ]
     },
     "execution_count": 88,
     "metadata": {},
     "output_type": "execute_result"
    }
   ],
   "source": [
    "cat_features = features_train.select_dtypes(include='category').columns.to_list()\n",
    "cat_features"
   ]
  },
  {
   "cell_type": "code",
   "execution_count": 89,
   "metadata": {},
   "outputs": [
    {
     "data": {
      "text/html": [
       "<div>\n",
       "<style scoped>\n",
       "    .dataframe tbody tr th:only-of-type {\n",
       "        vertical-align: middle;\n",
       "    }\n",
       "\n",
       "    .dataframe tbody tr th {\n",
       "        vertical-align: top;\n",
       "    }\n",
       "\n",
       "    .dataframe thead th {\n",
       "        text-align: right;\n",
       "    }\n",
       "</style>\n",
       "<table border=\"1\" class=\"dataframe\">\n",
       "  <thead>\n",
       "    <tr style=\"text-align: right;\">\n",
       "      <th></th>\n",
       "      <th>distance</th>\n",
       "      <th>direction</th>\n",
       "      <th>intersection</th>\n",
       "      <th>weather_1</th>\n",
       "      <th>location_type</th>\n",
       "      <th>primary_collision_factor</th>\n",
       "      <th>pcf_violation_category</th>\n",
       "      <th>motor_vehicle_involved_with</th>\n",
       "      <th>road_surface</th>\n",
       "      <th>lighting</th>\n",
       "      <th>collision_time</th>\n",
       "      <th>insurance_premium</th>\n",
       "      <th>party_sobriety</th>\n",
       "      <th>party_drug_physical</th>\n",
       "      <th>cellphone_in_use</th>\n",
       "      <th>vehicle_type</th>\n",
       "      <th>vehicle_transmission</th>\n",
       "      <th>vehicle_age</th>\n",
       "      <th>week_day</th>\n",
       "    </tr>\n",
       "  </thead>\n",
       "  <tbody>\n",
       "    <tr>\n",
       "      <th>18759</th>\n",
       "      <td>-0.158469</td>\n",
       "      <td>south</td>\n",
       "      <td>-0.543343</td>\n",
       "      <td>clear</td>\n",
       "      <td>highway</td>\n",
       "      <td>vehicle code violation</td>\n",
       "      <td>speeding</td>\n",
       "      <td>other motor vehicle</td>\n",
       "      <td>dry</td>\n",
       "      <td>dark with no street lights</td>\n",
       "      <td>evening</td>\n",
       "      <td>1.505892</td>\n",
       "      <td>had not been drinking</td>\n",
       "      <td>G</td>\n",
       "      <td>0</td>\n",
       "      <td>coupe</td>\n",
       "      <td>manual</td>\n",
       "      <td>-0.609907</td>\n",
       "      <td>sunday</td>\n",
       "    </tr>\n",
       "    <tr>\n",
       "      <th>78537</th>\n",
       "      <td>-0.098058</td>\n",
       "      <td>west</td>\n",
       "      <td>-0.543343</td>\n",
       "      <td>clear</td>\n",
       "      <td>highway</td>\n",
       "      <td>vehicle code violation</td>\n",
       "      <td>speeding</td>\n",
       "      <td>other motor vehicle</td>\n",
       "      <td>dry</td>\n",
       "      <td>daylight</td>\n",
       "      <td>day</td>\n",
       "      <td>-0.903721</td>\n",
       "      <td>had not been drinking</td>\n",
       "      <td>G</td>\n",
       "      <td>0</td>\n",
       "      <td>sedan</td>\n",
       "      <td>manual</td>\n",
       "      <td>0.025922</td>\n",
       "      <td>tuesday</td>\n",
       "    </tr>\n",
       "    <tr>\n",
       "      <th>88266</th>\n",
       "      <td>-0.281123</td>\n",
       "      <td>east</td>\n",
       "      <td>-0.543343</td>\n",
       "      <td>cloudy</td>\n",
       "      <td>highway</td>\n",
       "      <td>vehicle code violation</td>\n",
       "      <td>speeding</td>\n",
       "      <td>other motor vehicle</td>\n",
       "      <td>wet</td>\n",
       "      <td>dark with no street lights</td>\n",
       "      <td>night</td>\n",
       "      <td>-1.274431</td>\n",
       "      <td>had not been drinking</td>\n",
       "      <td>G</td>\n",
       "      <td>0</td>\n",
       "      <td>sedan</td>\n",
       "      <td>manual</td>\n",
       "      <td>-0.609907</td>\n",
       "      <td>saturday</td>\n",
       "    </tr>\n",
       "    <tr>\n",
       "      <th>101325</th>\n",
       "      <td>-0.342144</td>\n",
       "      <td>south</td>\n",
       "      <td>-0.543343</td>\n",
       "      <td>clear</td>\n",
       "      <td>highway</td>\n",
       "      <td>vehicle code violation</td>\n",
       "      <td>following too closely</td>\n",
       "      <td>other motor vehicle</td>\n",
       "      <td>dry</td>\n",
       "      <td>daylight</td>\n",
       "      <td>morning</td>\n",
       "      <td>-0.594797</td>\n",
       "      <td>had not been drinking</td>\n",
       "      <td>G</td>\n",
       "      <td>0</td>\n",
       "      <td>sedan</td>\n",
       "      <td>manual</td>\n",
       "      <td>0.025922</td>\n",
       "      <td>thursday</td>\n",
       "    </tr>\n",
       "    <tr>\n",
       "      <th>58928</th>\n",
       "      <td>-0.342144</td>\n",
       "      <td>north</td>\n",
       "      <td>-0.543343</td>\n",
       "      <td>clear</td>\n",
       "      <td>unknown</td>\n",
       "      <td>vehicle code violation</td>\n",
       "      <td>wrong side of road</td>\n",
       "      <td>bicycle</td>\n",
       "      <td>dry</td>\n",
       "      <td>daylight</td>\n",
       "      <td>day</td>\n",
       "      <td>-1.027291</td>\n",
       "      <td>had not been drinking</td>\n",
       "      <td>G</td>\n",
       "      <td>0</td>\n",
       "      <td>minivan</td>\n",
       "      <td>manual</td>\n",
       "      <td>0.661750</td>\n",
       "      <td>thursday</td>\n",
       "    </tr>\n",
       "  </tbody>\n",
       "</table>\n",
       "</div>"
      ],
      "text/plain": [
       "        distance direction  intersection weather_1 location_type  \\\n",
       "18759  -0.158469     south     -0.543343     clear       highway   \n",
       "78537  -0.098058      west     -0.543343     clear       highway   \n",
       "88266  -0.281123      east     -0.543343    cloudy       highway   \n",
       "101325 -0.342144     south     -0.543343     clear       highway   \n",
       "58928  -0.342144     north     -0.543343     clear       unknown   \n",
       "\n",
       "       primary_collision_factor pcf_violation_category  \\\n",
       "18759    vehicle code violation               speeding   \n",
       "78537    vehicle code violation               speeding   \n",
       "88266    vehicle code violation               speeding   \n",
       "101325   vehicle code violation  following too closely   \n",
       "58928    vehicle code violation     wrong side of road   \n",
       "\n",
       "       motor_vehicle_involved_with road_surface                    lighting  \\\n",
       "18759          other motor vehicle          dry  dark with no street lights   \n",
       "78537          other motor vehicle          dry                    daylight   \n",
       "88266          other motor vehicle          wet  dark with no street lights   \n",
       "101325         other motor vehicle          dry                    daylight   \n",
       "58928                      bicycle          dry                    daylight   \n",
       "\n",
       "       collision_time  insurance_premium         party_sobriety  \\\n",
       "18759         evening           1.505892  had not been drinking   \n",
       "78537             day          -0.903721  had not been drinking   \n",
       "88266           night          -1.274431  had not been drinking   \n",
       "101325        morning          -0.594797  had not been drinking   \n",
       "58928             day          -1.027291  had not been drinking   \n",
       "\n",
       "       party_drug_physical cellphone_in_use vehicle_type vehicle_transmission  \\\n",
       "18759                    G                0        coupe               manual   \n",
       "78537                    G                0        sedan               manual   \n",
       "88266                    G                0        sedan               manual   \n",
       "101325                   G                0        sedan               manual   \n",
       "58928                    G                0      minivan               manual   \n",
       "\n",
       "        vehicle_age  week_day  \n",
       "18759     -0.609907    sunday  \n",
       "78537      0.025922   tuesday  \n",
       "88266     -0.609907  saturday  \n",
       "101325     0.025922  thursday  \n",
       "58928      0.661750  thursday  "
      ]
     },
     "execution_count": 89,
     "metadata": {},
     "output_type": "execute_result"
    }
   ],
   "source": [
    "features_train.head()"
   ]
  },
  {
   "cell_type": "code",
   "execution_count": 90,
   "metadata": {},
   "outputs": [],
   "source": [
    "features_train_ohe = features_train.copy()\n",
    "features_test_ohe = features_test.copy()"
   ]
  },
  {
   "cell_type": "code",
   "execution_count": 91,
   "metadata": {},
   "outputs": [],
   "source": [
    "encoder = OneHotEncoder(drop='first', handle_unknown='ignore', dtype='int')\n",
    "encoder.fit(features_train_ohe[cat_features]);"
   ]
  },
  {
   "cell_type": "code",
   "execution_count": 92,
   "metadata": {},
   "outputs": [],
   "source": [
    "features_train_ohe = ohe(features_train_ohe, encoder, cat_features)\n",
    "features_test_ohe = ohe(features_test_ohe, encoder, cat_features)"
   ]
  },
  {
   "cell_type": "markdown",
   "metadata": {},
   "source": [
    "### Выбор модели"
   ]
  },
  {
   "cell_type": "markdown",
   "metadata": {},
   "source": [
    "В поставленной задача важны:\n",
    "1. Precision. Так как, если мы будем отказывать всем клиентам в аренде машины, то бизнесс просто перестанет работать  \n",
    "2. Recall. Так как, если мы будем без обдумывании риска всем давать машину, то аварии могут случаться слишком часто и будет много издержек на ремонт, а также риск человеческих жизней  \n",
    "Однако эти риски не равнозначны. Лучше перестраховаться и не рисковать человеческими жизнями. Поэтому метрика recall должна иметь больший вес. Значит будем использовать взвешенной гармоническое с большим весом у recall. Для этого нам понадобится fbeta_score"
   ]
  },
  {
   "cell_type": "code",
   "execution_count": 93,
   "metadata": {},
   "outputs": [],
   "source": [
    "f3_score = make_scorer(fbeta_score, beta=3, average='macro')"
   ]
  },
  {
   "cell_type": "code",
   "execution_count": 94,
   "metadata": {},
   "outputs": [],
   "source": [
    "results = pd.DataFrame(\n",
    "    columns=['f3_score_on_train', 'f3_score_on_test', 'training_time', 'prediction_time'],\n",
    "    index=['LogisticRegression', 'RandomForestClassifier', 'CatBoostRegressor']\n",
    ")"
   ]
  },
  {
   "cell_type": "markdown",
   "metadata": {},
   "source": [
    "#### LogisticRegression"
   ]
  },
  {
   "cell_type": "code",
   "execution_count": 95,
   "metadata": {},
   "outputs": [],
   "source": [
    "pd.set_option('display.max_columns', None)"
   ]
  },
  {
   "cell_type": "code",
   "execution_count": 96,
   "metadata": {},
   "outputs": [],
   "source": [
    "model_log_regression = LogisticRegression(\n",
    "    max_iter=1000, random_state=RANDOM_STATE, n_jobs=-1\n",
    ")"
   ]
  },
  {
   "cell_type": "code",
   "execution_count": 97,
   "metadata": {},
   "outputs": [],
   "source": [
    "if IS_TRAIN:\n",
    "    with warnings.catch_warnings():\n",
    "        warnings.simplefilter('ignore')\n",
    "        log_reg_best_param = research_model(\n",
    "            model_log_regression, GSCV_LOG_REGRESSION_CONFIG,\n",
    "            features_train_ohe, target_train, f3_score\n",
    "        ).head(10)\n",
    "else:\n",
    "    log_reg_best_param = pd.DataFrame(\n",
    "        columns=['params', 'mean_train_score', 'mean_test_score', ],\n",
    "        data=[[{'C': 1000, 'penalty': 'l2', 'solver': 'lbfgs'}, 0.668600, 0.668340 ]]\n",
    "    )"
   ]
  },
  {
   "cell_type": "code",
   "execution_count": 98,
   "metadata": {},
   "outputs": [
    {
     "data": {
      "text/html": [
       "<div>\n",
       "<style scoped>\n",
       "    .dataframe tbody tr th:only-of-type {\n",
       "        vertical-align: middle;\n",
       "    }\n",
       "\n",
       "    .dataframe tbody tr th {\n",
       "        vertical-align: top;\n",
       "    }\n",
       "\n",
       "    .dataframe thead th {\n",
       "        text-align: right;\n",
       "    }\n",
       "</style>\n",
       "<table border=\"1\" class=\"dataframe\">\n",
       "  <thead>\n",
       "    <tr style=\"text-align: right;\">\n",
       "      <th></th>\n",
       "      <th>params</th>\n",
       "      <th>mean_train_score</th>\n",
       "      <th>mean_test_score</th>\n",
       "    </tr>\n",
       "  </thead>\n",
       "  <tbody>\n",
       "    <tr>\n",
       "      <th>0</th>\n",
       "      <td>{'C': 1000, 'penalty': 'l2', 'solver': 'lbfgs'}</td>\n",
       "      <td>0.6686</td>\n",
       "      <td>0.66834</td>\n",
       "    </tr>\n",
       "  </tbody>\n",
       "</table>\n",
       "</div>"
      ],
      "text/plain": [
       "                                            params  mean_train_score  \\\n",
       "0  {'C': 1000, 'penalty': 'l2', 'solver': 'lbfgs'}            0.6686   \n",
       "\n",
       "   mean_test_score  \n",
       "0          0.66834  "
      ]
     },
     "execution_count": 98,
     "metadata": {},
     "output_type": "execute_result"
    }
   ],
   "source": [
    "log_reg_best_param[['params', 'mean_train_score', 'mean_test_score', ]].head()"
   ]
  },
  {
   "cell_type": "markdown",
   "metadata": {},
   "source": [
    "|params|\tmean_train_score|\tmean_test_score|\n",
    "| :- | :- | :- |\n",
    "|{'C': 1000, 'penalty': 'l2', 'solver': 'lbfgs'}|\t0.668600|\t0.668340|\n",
    "|{'C': 500, 'penalty': 'l2', 'solver': 'lbfgs'}|\t0.668669|\t0.668284|\n",
    "|{'C': 100, 'penalty': 'l2', 'solver': 'lbfgs'}|\t0.668676|\t0.668230|\n",
    "|{'C': 50, 'penalty': 'l2', 'solver': 'liblinear'}|\t0.668688|\t0.668185|\n",
    "|{'C': 250, 'penalty': 'l1', 'solver': 'liblinear'}|\t0.668688|\t0.668177|"
   ]
  },
  {
   "cell_type": "code",
   "execution_count": 99,
   "metadata": {},
   "outputs": [],
   "source": [
    "log_reg_best_param.reset_index(drop=True, inplace=True)"
   ]
  },
  {
   "cell_type": "code",
   "execution_count": 100,
   "metadata": {},
   "outputs": [],
   "source": [
    "model_log_regression = LogisticRegression(\n",
    "    max_iter=1000, random_state=RANDOM_STATE, n_jobs=-1,\n",
    "    **log_reg_best_param.loc[0, 'params']\n",
    ")"
   ]
  },
  {
   "cell_type": "code",
   "execution_count": 101,
   "metadata": {},
   "outputs": [],
   "source": [
    "start_train = time()\n",
    "model_log_regression.fit(features_train_ohe, target_train)\n",
    "end_train = time()\n",
    "train_time_log_reg = round(end_train - start_train, 2)"
   ]
  },
  {
   "cell_type": "code",
   "execution_count": 102,
   "metadata": {},
   "outputs": [],
   "source": [
    "start_predict = time()\n",
    "model_log_regression.predict(features_train_ohe)\n",
    "end_predict = time()\n",
    "predict_time_log_reg = round(end_train - start_train, 2)"
   ]
  },
  {
   "cell_type": "code",
   "execution_count": 103,
   "metadata": {},
   "outputs": [],
   "source": [
    "results.loc['LogisticRegression'] = [\n",
    "    log_reg_best_param.loc[0, 'mean_train_score'],\n",
    "    log_reg_best_param.loc[0, 'mean_train_score'],\n",
    "    train_time_log_reg,\n",
    "    predict_time_log_reg\n",
    "]"
   ]
  },
  {
   "cell_type": "markdown",
   "metadata": {},
   "source": [
    "#### RandomForestClassifier"
   ]
  },
  {
   "cell_type": "code",
   "execution_count": 104,
   "metadata": {},
   "outputs": [],
   "source": [
    "model_rand_forest = RandomForestClassifier(\n",
    "    random_state=RANDOM_STATE, n_jobs=-1,\n",
    ")"
   ]
  },
  {
   "cell_type": "code",
   "execution_count": 105,
   "metadata": {},
   "outputs": [],
   "source": [
    "if IS_TRAIN:\n",
    "    with warnings.catch_warnings():\n",
    "        warnings.simplefilter('ignore')\n",
    "        rand_forest_best_param = research_model(\n",
    "            model_rand_forest, GSCV_RAND_FOREST_CONFIG,\n",
    "            features_train_ohe, target_train, f3_score\n",
    "        )\n",
    "else:\n",
    "    rand_forest_best_param = pd.DataFrame(\n",
    "        columns=['params', 'mean_train_score', 'mean_test_score', ],\n",
    "        data=[[{'max_depth': 10, 'n_estimators': 26}, 0.683629, 0.677886 ]]\n",
    "    )"
   ]
  },
  {
   "cell_type": "code",
   "execution_count": 106,
   "metadata": {},
   "outputs": [
    {
     "data": {
      "text/html": [
       "<div>\n",
       "<style scoped>\n",
       "    .dataframe tbody tr th:only-of-type {\n",
       "        vertical-align: middle;\n",
       "    }\n",
       "\n",
       "    .dataframe tbody tr th {\n",
       "        vertical-align: top;\n",
       "    }\n",
       "\n",
       "    .dataframe thead th {\n",
       "        text-align: right;\n",
       "    }\n",
       "</style>\n",
       "<table border=\"1\" class=\"dataframe\">\n",
       "  <thead>\n",
       "    <tr style=\"text-align: right;\">\n",
       "      <th></th>\n",
       "      <th>params</th>\n",
       "      <th>mean_train_score</th>\n",
       "      <th>mean_test_score</th>\n",
       "    </tr>\n",
       "  </thead>\n",
       "  <tbody>\n",
       "    <tr>\n",
       "      <th>0</th>\n",
       "      <td>{'max_depth': 10, 'n_estimators': 26}</td>\n",
       "      <td>0.683629</td>\n",
       "      <td>0.677886</td>\n",
       "    </tr>\n",
       "  </tbody>\n",
       "</table>\n",
       "</div>"
      ],
      "text/plain": [
       "                                  params  mean_train_score  mean_test_score\n",
       "0  {'max_depth': 10, 'n_estimators': 26}          0.683629         0.677886"
      ]
     },
     "execution_count": 106,
     "metadata": {},
     "output_type": "execute_result"
    }
   ],
   "source": [
    "rand_forest_best_param[['params', 'mean_train_score', 'mean_test_score', ]].head()"
   ]
  },
  {
   "cell_type": "markdown",
   "metadata": {},
   "source": [
    "|params\t|mean_train_score|\tmean_test_score|\n",
    "| :- | :- | :- |\n",
    "|{'max_depth': 10, 'n_estimators': 26}|\t0.683629|\t0.677886|\n",
    "|{'max_depth': 10, 'n_estimators': 131}|\t0.683881|\t0.677409|\n",
    "|{'max_depth': 10, 'n_estimators': 81}|\t0.682691|\t0.676850|\n",
    "|{'max_depth': 10, 'n_estimators': 121}|\t0.683390|\t0.676709|\n",
    "|{'max_depth': 10, 'n_estimators': 136}|\t0.683177\t|0.676658|"
   ]
  },
  {
   "cell_type": "code",
   "execution_count": 107,
   "metadata": {},
   "outputs": [],
   "source": [
    "rand_forest_best_param.reset_index(drop=True, inplace=True)"
   ]
  },
  {
   "cell_type": "code",
   "execution_count": 108,
   "metadata": {},
   "outputs": [],
   "source": [
    "model_rand_forest = RandomForestClassifier(\n",
    "    random_state=RANDOM_STATE, n_jobs=-1,\n",
    "    **rand_forest_best_param.loc[0, 'params']\n",
    ")"
   ]
  },
  {
   "cell_type": "code",
   "execution_count": 109,
   "metadata": {},
   "outputs": [],
   "source": [
    "start_train = time()\n",
    "model_rand_forest.fit(features_train_ohe, target_train)\n",
    "end_train = time()\n",
    "train_time_rand_forest = round(end_train - start_train, 2)"
   ]
  },
  {
   "cell_type": "code",
   "execution_count": 110,
   "metadata": {},
   "outputs": [],
   "source": [
    "start_predict = time()\n",
    "model_rand_forest.predict(features_train_ohe)\n",
    "end_predict = time()\n",
    "predict_time_rand_forest = round(end_train - start_train, 2)"
   ]
  },
  {
   "cell_type": "code",
   "execution_count": 111,
   "metadata": {},
   "outputs": [],
   "source": [
    "results.loc['RandomForestClassifier'] = [\n",
    "    rand_forest_best_param.loc[0, 'mean_train_score'],\n",
    "    rand_forest_best_param.loc[0, 'mean_train_score'],\n",
    "    train_time_rand_forest,\n",
    "    predict_time_rand_forest\n",
    "]"
   ]
  },
  {
   "cell_type": "markdown",
   "metadata": {},
   "source": [
    "#### CatBoostRegressor"
   ]
  },
  {
   "cell_type": "code",
   "execution_count": 112,
   "metadata": {},
   "outputs": [],
   "source": [
    "model_cat_boost = CatBoostClassifier(\n",
    "    random_state=RANDOM_STATE,\n",
    "    verbose=False,\n",
    "    #task_type='GPU',\n",
    "    cat_features=cat_features\n",
    ")"
   ]
  },
  {
   "cell_type": "code",
   "execution_count": 113,
   "metadata": {},
   "outputs": [],
   "source": [
    "if IS_TRAIN:\n",
    "    with warnings.catch_warnings():\n",
    "        warnings.simplefilter('ignore')\n",
    "        cat_boost_best_param = research_model(\n",
    "            model_cat_boost, GSCV_CAT_BOOSRT_CONFIG,\n",
    "            features_train, target_train, f3_score\n",
    "        )\n",
    "else:\n",
    "    cat_boost_best_param = pd.DataFrame(\n",
    "        columns=['params', 'mean_train_score', 'mean_test_score', ],\n",
    "        data=[[\n",
    "            {'learning_rate': 0.1, 'max_depth': 5,\n",
    "             'min_data_in_leaf': 150, 'n_estimators': 400},\n",
    "            0.709520, 0.702203\n",
    "        ]]\n",
    "    )"
   ]
  },
  {
   "cell_type": "code",
   "execution_count": 114,
   "metadata": {},
   "outputs": [
    {
     "data": {
      "text/html": [
       "<div>\n",
       "<style scoped>\n",
       "    .dataframe tbody tr th:only-of-type {\n",
       "        vertical-align: middle;\n",
       "    }\n",
       "\n",
       "    .dataframe tbody tr th {\n",
       "        vertical-align: top;\n",
       "    }\n",
       "\n",
       "    .dataframe thead th {\n",
       "        text-align: right;\n",
       "    }\n",
       "</style>\n",
       "<table border=\"1\" class=\"dataframe\">\n",
       "  <thead>\n",
       "    <tr style=\"text-align: right;\">\n",
       "      <th></th>\n",
       "      <th>params</th>\n",
       "      <th>mean_train_score</th>\n",
       "      <th>mean_test_score</th>\n",
       "    </tr>\n",
       "  </thead>\n",
       "  <tbody>\n",
       "    <tr>\n",
       "      <th>0</th>\n",
       "      <td>{'learning_rate': 0.1, 'max_depth': 5, 'min_da...</td>\n",
       "      <td>0.70952</td>\n",
       "      <td>0.702203</td>\n",
       "    </tr>\n",
       "  </tbody>\n",
       "</table>\n",
       "</div>"
      ],
      "text/plain": [
       "                                              params  mean_train_score  \\\n",
       "0  {'learning_rate': 0.1, 'max_depth': 5, 'min_da...           0.70952   \n",
       "\n",
       "   mean_test_score  \n",
       "0         0.702203  "
      ]
     },
     "execution_count": 114,
     "metadata": {},
     "output_type": "execute_result"
    }
   ],
   "source": [
    "cat_boost_best_param[['params', 'mean_train_score', 'mean_test_score', ]].head()"
   ]
  },
  {
   "cell_type": "markdown",
   "metadata": {},
   "source": [
    "|params\t|mean_train_score|\tmean_test_score|\n",
    "| :- | :- | :- |\n",
    "|{'learning_rate': 0.1, 'max_depth': 5, 'min_data_in_leaf': 150, 'n_estimators': 400}|\t0.709520|\t0.702203|\n",
    "|{'learning_rate': 0.1, 'max_depth': 5, 'min_data_in_leaf': 50, 'n_estimators': 400}|\t0.709290|\t0.701921|\n",
    "|{'learning_rate': 0.1, 'max_depth': 5, 'min_data_in_leaf': 100, 'n_estimators': 400}|\t0.709390|\t0.701722|\n",
    "|{'learning_rate': 0.1, 'max_depth': 5, 'min_data_in_leaf': 50, 'n_estimators': 350}|\t0.708652|\t0.701588|\n",
    "|{'learning_rate': 0.1, 'max_depth': 5, 'min_data_in_leaf': 100, 'n_estimators': 350}|\t0.708634|\t0.701575|"
   ]
  },
  {
   "cell_type": "code",
   "execution_count": 115,
   "metadata": {},
   "outputs": [],
   "source": [
    "cat_boost_best_param.reset_index(drop=True, inplace=True)"
   ]
  },
  {
   "cell_type": "code",
   "execution_count": 116,
   "metadata": {},
   "outputs": [],
   "source": [
    "model_cat_boost = CatBoostClassifier(\n",
    "    random_state=RANDOM_STATE,\n",
    "    verbose=False,\n",
    "    #task_type='GPU',\n",
    "    cat_features=cat_features,\n",
    "    **cat_boost_best_param.loc[0, 'params']\n",
    ")"
   ]
  },
  {
   "cell_type": "code",
   "execution_count": 117,
   "metadata": {},
   "outputs": [],
   "source": [
    "start_train = time()\n",
    "model_cat_boost.fit(features_train, target_train)\n",
    "end_train = time()\n",
    "train_time_cat_boost = round(end_train - start_train, 2)"
   ]
  },
  {
   "cell_type": "code",
   "execution_count": 118,
   "metadata": {},
   "outputs": [],
   "source": [
    "start_predict = time()\n",
    "model_cat_boost.predict(features_train)\n",
    "end_predict = time()\n",
    "predict_time_cat_boost = round(end_train - start_train, 2)"
   ]
  },
  {
   "cell_type": "code",
   "execution_count": 119,
   "metadata": {},
   "outputs": [],
   "source": [
    "results.loc['CatBoostRegressor'] = [\n",
    "    cat_boost_best_param.loc[0, 'mean_train_score'],\n",
    "    cat_boost_best_param.loc[0, 'mean_train_score'],\n",
    "    train_time_cat_boost,\n",
    "    predict_time_cat_boost\n",
    "]"
   ]
  },
  {
   "cell_type": "markdown",
   "metadata": {},
   "source": [
    "#### Выбор модели"
   ]
  },
  {
   "cell_type": "markdown",
   "metadata": {},
   "source": [
    "В итоге, выбранные модели показали следующие результаты"
   ]
  },
  {
   "cell_type": "code",
   "execution_count": 120,
   "metadata": {},
   "outputs": [
    {
     "data": {
      "text/html": [
       "<div>\n",
       "<style scoped>\n",
       "    .dataframe tbody tr th:only-of-type {\n",
       "        vertical-align: middle;\n",
       "    }\n",
       "\n",
       "    .dataframe tbody tr th {\n",
       "        vertical-align: top;\n",
       "    }\n",
       "\n",
       "    .dataframe thead th {\n",
       "        text-align: right;\n",
       "    }\n",
       "</style>\n",
       "<table border=\"1\" class=\"dataframe\">\n",
       "  <thead>\n",
       "    <tr style=\"text-align: right;\">\n",
       "      <th></th>\n",
       "      <th>f3_score_on_train</th>\n",
       "      <th>f3_score_on_test</th>\n",
       "      <th>training_time</th>\n",
       "      <th>prediction_time</th>\n",
       "    </tr>\n",
       "  </thead>\n",
       "  <tbody>\n",
       "    <tr>\n",
       "      <th>LogisticRegression</th>\n",
       "      <td>0.6686</td>\n",
       "      <td>0.6686</td>\n",
       "      <td>2.43</td>\n",
       "      <td>2.43</td>\n",
       "    </tr>\n",
       "    <tr>\n",
       "      <th>RandomForestClassifier</th>\n",
       "      <td>0.683629</td>\n",
       "      <td>0.683629</td>\n",
       "      <td>0.2</td>\n",
       "      <td>0.2</td>\n",
       "    </tr>\n",
       "    <tr>\n",
       "      <th>CatBoostRegressor</th>\n",
       "      <td>0.70952</td>\n",
       "      <td>0.70952</td>\n",
       "      <td>31.73</td>\n",
       "      <td>31.73</td>\n",
       "    </tr>\n",
       "  </tbody>\n",
       "</table>\n",
       "</div>"
      ],
      "text/plain": [
       "                       f3_score_on_train f3_score_on_test training_time  \\\n",
       "LogisticRegression                0.6686           0.6686          2.43   \n",
       "RandomForestClassifier          0.683629         0.683629           0.2   \n",
       "CatBoostRegressor                0.70952          0.70952         31.73   \n",
       "\n",
       "                       prediction_time  \n",
       "LogisticRegression                2.43  \n",
       "RandomForestClassifier             0.2  \n",
       "CatBoostRegressor                31.73  "
      ]
     },
     "execution_count": 120,
     "metadata": {},
     "output_type": "execute_result"
    }
   ],
   "source": [
    "results.head()"
   ]
  },
  {
   "cell_type": "markdown",
   "metadata": {},
   "source": [
    "||f3_score_on_train|\tf3_score_on_test|\ttraining_time|\tprediction_time|\n",
    "| :- | :- | :- | :- | :-|\n",
    "|LogisticRegression|\t0.6686|\t0.6686|\t1.86|\t1.86|\n",
    "|RandomForestClassifier|\t0.683629|\t0.683629|\t0.22|\t0.22|\n",
    "|CatBoostRegressor|\t0.70952|\t0.70952|\t11.36|\t11.36|"
   ]
  },
  {
   "cell_type": "markdown",
   "metadata": {},
   "source": [
    "Можно заметить, что модель CatBoost показала лучшие результаты по выбранной метрике. Однако она значительно дольше обучается и выдает предсказания. Но так как заказчик не выдвигал никаких требований к времени обучения и предсказания, выберем модель с лучшим качествов - CatBoost"
   ]
  },
  {
   "cell_type": "markdown",
   "metadata": {},
   "source": [
    "# Анализ работы лучшей модели"
   ]
  },
  {
   "cell_type": "code",
   "execution_count": 121,
   "metadata": {},
   "outputs": [],
   "source": [
    "best_model = CatBoostClassifier(\n",
    "    random_state=RANDOM_STATE,\n",
    "    verbose=False,\n",
    "    task_type='GPU',\n",
    "    cat_features=cat_features,\n",
    "    **cat_boost_best_param.loc[0, 'params']\n",
    ")\n",
    "best_model.fit(features_train, target_train);"
   ]
  },
  {
   "cell_type": "code",
   "execution_count": 122,
   "metadata": {},
   "outputs": [],
   "source": [
    "prediction = best_model.predict(features_test)"
   ]
  },
  {
   "cell_type": "code",
   "execution_count": 123,
   "metadata": {},
   "outputs": [],
   "source": [
    "f3 = fbeta_score(target_test, prediction, beta=3)\n",
    "recall = recall_score(target_test, prediction)\n",
    "precision = precision_score(target_test, prediction)"
   ]
  },
  {
   "cell_type": "code",
   "execution_count": 124,
   "metadata": {},
   "outputs": [
    {
     "name": "stdout",
     "output_type": "stream",
     "text": [
      "Метрики лучшей модели на тестовой выборке:\n",
      "F_3: 0.58\n",
      "Recall: 0.56\n",
      "Precision: 0.77\n"
     ]
    }
   ],
   "source": [
    "print('Метрики лучшей модели на тестовой выборке:')\n",
    "print(f'F_3: {f3:.2f}')\n",
    "print(f'Recall: {recall:.2f}')\n",
    "print(f'Precision: {precision:.2f}')"
   ]
  },
  {
   "cell_type": "code",
   "execution_count": 125,
   "metadata": {},
   "outputs": [
    {
     "data": {
      "image/png": "[encoded data removed]",
      "text/plain": [
       "<Figure size 640x480 with 2 Axes>"
      ]
     },
     "metadata": {},
     "output_type": "display_data"
    }
   ],
   "source": [
    "cm_matrix = pd.DataFrame(\n",
    "    data=confusion_matrix(target_test, prediction), \n",
    "    columns=['Actual Positive:1', 'Actual Negative:0'], \n",
    "    index=['Predict Positive:1', 'Predict Negative:0']\n",
    ")\n",
    "cm_matrix\n",
    "sns.heatmap(cm_matrix, annot=True, fmt='d').set_title('Матрица ошибок');"
   ]
  },
  {
   "cell_type": "code",
   "execution_count": 126,
   "metadata": {},
   "outputs": [
    {
     "data": {
      "image/png": "[encoded data removed]",
      "text/plain": [
       "<Figure size 640x480 with 1 Axes>"
      ]
     },
     "metadata": {},
     "output_type": "display_data"
    }
   ],
   "source": [
    "fpr, tpr, thresholds = roc_curve(target_test, best_model.predict_proba(features_test)[:, 1])\n",
    "\n",
    "precision, recall, _ = precision_recall_curve(\n",
    "    target_test,\n",
    "    best_model.predict_proba(features_test)[:, 1]\n",
    ")\n",
    "\n",
    "disp = PrecisionRecallDisplay(precision=precision, recall=recall)\n",
    "disp.plot()\n",
    "plt.scatter(\n",
    "    recall_score(target_test, prediction),\n",
    "    precision_score(target_test, prediction)\n",
    ")\n",
    "plt.title('График Precision-Recall');"
   ]
  },
  {
   "cell_type": "markdown",
   "metadata": {},
   "source": [
    "## Вывод"
   ]
  },
  {
   "cell_type": "markdown",
   "metadata": {},
   "source": [
    "В ходе экспериментов было обучено 3 модели: LogisticRegression, RandomForestClassifier, CatBoostRegressor. Они показали следующие результаты:  \n",
    "||f3_score_on_train|\tf3_score_on_test|\ttraining_time|\tprediction_time|\n",
    "| :- | :- | :- | :- | :-|\n",
    "|LogisticRegression|\t0.6686|\t0.6686|\t1.86|\t1.86|\n",
    "|RandomForestClassifier|\t0.683629|\t0.683629|\t0.22|\t0.22|\n",
    "|CatBoostRegressor|\t0.70952|\t0.70952|\t11.36|\t11.36|  \n",
    "  \n",
    "Лучшая модель была проверена на тестовых данных. Были получены следующие метрики:\n",
    "1. F_3: 0.55\n",
    "2. Recall: 0.54\n",
    "3. Precision: 0.76  \n",
    "  \n",
    "Не смотря на то, что при подборе гиперпараметров задавалось смещение в сторону метрики Recall, на тестовой выборке почему-то Precision оказался больше.  \n",
    "Также были построены матрица ошибок и график `Precision-Recall`"
   ]
  },
  {
   "cell_type": "markdown",
   "metadata": {},
   "source": [
    "# Проведите анализ важности факторов ДТП"
   ]
  },
  {
   "cell_type": "code",
   "execution_count": 127,
   "metadata": {},
   "outputs": [
    {
     "data": {
      "image/png": "[encoded data removed]",
      "text/plain": [
       "<Figure size 1200x1000 with 1 Axes>"
      ]
     },
     "metadata": {},
     "output_type": "display_data"
    }
   ],
   "source": [
    "feature_importances = pd.Series(\n",
    "    index=features_train.columns,\n",
    "    data=best_model.feature_importances_\n",
    ")\n",
    "\n",
    "_, ax = plt.subplots(figsize=(12, 10))\n",
    "sns.barplot(feature_importances, orient='y' )\n",
    "ax.set(\n",
    "    xlabel='Признаки',\n",
    "    ylabel='Важность',\n",
    "    title='Столбчатая диаграмма важности признаков'\n",
    ");"
   ]
  },
  {
   "cell_type": "markdown",
   "metadata": {},
   "source": [
    "График показал, что топ3 по важности признаками являются:\n",
    "1. Трезвость водителя  \n",
    "2. Основной фактор аварии  \n",
    "3. Категория нарушений"
   ]
  },
  {
   "cell_type": "markdown",
   "metadata": {},
   "source": [
    "# Выводы"
   ]
  },
  {
   "cell_type": "markdown",
   "metadata": {},
   "source": [
    "В ходе работы было проведено исследование по оценке риска ДТП по заданному маршруту. Были достигнуты следующие результаты:\n",
    "1. Изучены предоставленные данные. Выяснилось, что не все таблицы соответствуют заявленному описанию. Также оказалось, что данные стабильно поступали в БД только до середины 2012 года. Для улучшения качества исследования необходимо либо собрать более свежи данные. Либо договриться с заказчиком об обучении модели на данных 2009-2011 годов.  \n",
    "2. Был проведен анализ признаков и выполнена предобработка данных: избавление от пропусков, удаление дубликатов. В результате предобработки удалось сохранить `92.09%` изначального датасета.\n",
    "3. Была изучена работа 3 моделей LogisticRegression, RandomForestClassifier, CatBoostRegressor. Они показали следующие результаты:  \n",
    "\n",
    "||f3_score_on_train|\tf3_score_on_test|\ttraining_time|\tprediction_time|\n",
    "| :- | :- | :- | :- | :-|\n",
    "|LogisticRegression|\t0.6686|\t0.6686|\t1.86|\t1.86|\n",
    "|RandomForestClassifier|\t0.683629|\t0.683629|\t0.22|\t0.22|\n",
    "|CatBoostRegressor|\t0.70952|\t0.70952|\t11.36|\t11.36|  \n",
    "\n",
    "Лучшая модель была проверена на тестовых данных. Были получены следующие метрики:\n",
    "* F_3: 0.55\n",
    "* Recall: 0.54\n",
    "* Precision: 0.76  \n",
    "\n",
    "4. Также была проанализирована важность признаков лучше модели. Топ3 самых важных признака: \n",
    "1. Трезвость водителя  \n",
    "2. Основной фактор аварии  \n",
    "3. Категория нарушений\n",
    "  \n",
    "<b>Итог</b>\n",
    "Посталенная задача - оценка риска попасть в ДТП по выбранному маршруту, не может быть выполнена на данном датасете, так как в нем представлены только случаи, когда случилось ДТП. То есть мы получаем 100% дисбаланс классов. <b>Однако</b> может быть реализована другая задача - оценка риска, что водитель, взявший машину, будет виновником ДТП. Что может быть использовано в бизнес модели каршеринга. Опираясь на важность признаков можно предложить следующие меры для уменьшения вероятности ДТП по вине клиента:\n",
    "1. При начале аренды машины проверять трезвость водителя\n",
    "2. Периодически проверять знания клиента по правилам ПДД и исходя из этого назначать цену  "
   ]
  }
 ],
 "metadata": {
  "kernelspec": {
   "display_name": "venv",
   "language": "python",
   "name": "python3"
  },
  "language_info": {
   "codemirror_mode": {
    "name": "ipython",
    "version": 3
   },
   "file_extension": ".py",
   "mimetype": "text/x-python",
   "name": "python",
   "nbconvert_exporter": "python",
   "pygments_lexer": "ipython3",
   "version": "3.9.13"
  }
 },
 "nbformat": 4,
 "nbformat_minor": 2
}
